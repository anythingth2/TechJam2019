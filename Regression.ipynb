{
 "cells": [
  {
   "cell_type": "code",
   "execution_count": 19,
   "metadata": {
    "colab": {
     "base_uri": "https://localhost:8080/",
     "height": 54
    },
    "colab_type": "code",
    "executionInfo": {
     "elapsed": 913,
     "status": "ok",
     "timestamp": 1573269231050,
     "user": {
      "displayName": "ฉัตรชัย แซ่ตัน",
      "photoUrl": "",
      "userId": "04919101980351817114"
     },
     "user_tz": -420
    },
    "id": "fa8NavgUBApO",
    "outputId": "9b95baa0-0519-4e38-e014-39cd5dad6bd1"
   },
   "outputs": [
    {
     "name": "stdout",
     "output_type": "stream",
     "text": [
      "Drive already mounted at /content/drive; to attempt to forcibly remount, call drive.mount(\"/content/drive\", force_remount=True).\n"
     ]
    }
   ],
   "source": [
    "from google.colab import drive\n",
    "drive.mount('/content/drive')"
   ]
  },
  {
   "cell_type": "code",
   "execution_count": 0,
   "metadata": {
    "colab": {},
    "colab_type": "code",
    "id": "bTA6dN3dB0bt"
   },
   "outputs": [],
   "source": [
    "!cp -r drive/My\\ Drive/Bin/TechJam2019/* ."
   ]
  },
  {
   "cell_type": "code",
   "execution_count": 0,
   "metadata": {
    "colab": {},
    "colab_type": "code",
    "id": "01igMueuYJIk"
   },
   "outputs": [],
   "source": [
    "!cp -r logs/* drive/My\\ Drive/Bin/TechJam2019/logs"
   ]
  },
  {
   "cell_type": "code",
   "execution_count": 22,
   "metadata": {
    "colab": {
     "base_uri": "https://localhost:8080/",
     "height": 306
    },
    "colab_type": "code",
    "executionInfo": {
     "elapsed": 27087,
     "status": "ok",
     "timestamp": 1573269269377,
     "user": {
      "displayName": "ฉัตรชัย แซ่ตัน",
      "photoUrl": "",
      "userId": "04919101980351817114"
     },
     "user_tz": -420
    },
    "id": "AbXW6przCb6s",
    "outputId": "c3e10fea-b1d4-4f18-b4bf-4fe461f8a8b2"
   },
   "outputs": [
    {
     "name": "stdout",
     "output_type": "stream",
     "text": [
      "Sat Nov  9 03:14:27 2019       \n",
      "+-----------------------------------------------------------------------------+\n",
      "| NVIDIA-SMI 430.50       Driver Version: 418.67       CUDA Version: 10.1     |\n",
      "|-------------------------------+----------------------+----------------------+\n",
      "| GPU  Name        Persistence-M| Bus-Id        Disp.A | Volatile Uncorr. ECC |\n",
      "| Fan  Temp  Perf  Pwr:Usage/Cap|         Memory-Usage | GPU-Util  Compute M. |\n",
      "|===============================+======================+======================|\n",
      "|   0  Tesla K80           Off  | 00000000:00:04.0 Off |                    0 |\n",
      "| N/A   33C    P8    26W / 149W |      0MiB / 11441MiB |      0%      Default |\n",
      "+-------------------------------+----------------------+----------------------+\n",
      "                                                                               \n",
      "+-----------------------------------------------------------------------------+\n",
      "| Processes:                                                       GPU Memory |\n",
      "|  GPU       PID   Type   Process name                             Usage      |\n",
      "|=============================================================================|\n",
      "|  No running processes found                                                 |\n",
      "+-----------------------------------------------------------------------------+\n"
     ]
    }
   ],
   "source": [
    "!nvidia-smi "
   ]
  },
  {
   "cell_type": "code",
   "execution_count": 1,
   "metadata": {
    "colab": {
     "base_uri": "https://localhost:8080/",
     "height": 51
    },
    "colab_type": "code",
    "executionInfo": {
     "elapsed": 24425,
     "status": "ok",
     "timestamp": 1573269269378,
     "user": {
      "displayName": "ฉัตรชัย แซ่ตัน",
      "photoUrl": "",
      "userId": "04919101980351817114"
     },
     "user_tz": -420
    },
    "id": "irG5sFL--tcY",
    "outputId": "57ca0045-08cf-4582-8610-96690d2448bd"
   },
   "outputs": [],
   "source": [
    "%load_ext autoreload\n",
    "%autoreload 2"
   ]
  },
  {
   "cell_type": "code",
   "execution_count": 0,
   "metadata": {
    "colab": {},
    "colab_type": "code",
    "id": "wQvIVnhlCBcN"
   },
   "outputs": [],
   "source": [
    "import os\n",
    "os.environ[\"CUDA_VISIBLE_DEVICES\"]=\"0\""
   ]
  },
  {
   "cell_type": "code",
   "execution_count": 2,
   "metadata": {
    "colab": {},
    "colab_type": "code",
    "id": "NQVHWAr8-tcc"
   },
   "outputs": [
    {
     "name": "stderr",
     "output_type": "stream",
     "text": [
      "Using TensorFlow backend.\n"
     ]
    }
   ],
   "source": [
    "import pandas as pd\n",
    "import numpy as np\n",
    "import matplotlib.pyplot as plt\n",
    "from keras.models import Sequential, load_model, Model\n",
    "from keras.layers import LSTM, GRU, CuDNNLSTM, CuDNNGRU, Bidirectional, Masking\n",
    "from keras.layers import Dense, InputLayer, Dropout, BatchNormalization\n",
    "from keras.layers import Reshape, Flatten, AveragePooling1D, MaxPool1D, Activation, Concatenate\n",
    "from keras.layers import Conv1D, Input\n",
    "from keras.optimizers import Adam, SGD\n",
    "from keras.callbacks import TensorBoard, ModelCheckpoint, Callback\n",
    "import keras.backend as K\n",
    "from sklearn.model_selection import train_test_split\n",
    "\n",
    "from tqdm import tqdm, trange, tnrange\n",
    "from sklearn.preprocessing import StandardScaler, Normalizer, MinMaxScaler\n",
    "from sklearn.decomposition import PCA\n",
    "from keras.preprocessing.sequence import pad_sequences"
   ]
  },
  {
   "cell_type": "code",
   "execution_count": 64,
   "metadata": {
    "colab": {},
    "colab_type": "code",
    "id": "zoVGi44N-tcf"
   },
   "outputs": [],
   "source": [
    "from data_gen import create_weekly_kplus, create_credit_seq, create_daily_kplus\n",
    "from data_gen import create_demographic_data, create_weekly_credit, ensemble_ocp_demo_datagen\n",
    "from util import modified_SMAPE\n",
    "from losses import SMAPE_loss\n",
    "from callbacks import EvaluateSMAPE"
   ]
  },
  {
   "cell_type": "code",
   "execution_count": 4,
   "metadata": {
    "colab": {},
    "colab_type": "code",
    "id": "B_x1p04e-tch"
   },
   "outputs": [],
   "source": [
    "demograpgics = pd.read_csv('datasets/exam-1/demographics.csv')\n",
    "cc = pd.read_csv('datasets/exam-1/cc.csv')\n",
    "cc.sort_values(by=['cc_no', 'pos_dt'], inplace=True)\n",
    "kplus = pd.read_csv('datasets/exam-1/kplus.csv')\n",
    "kplus.sort_values(by=['id', 'sunday'], inplace=True)\n",
    "train_set = pd.read_csv('datasets/exam-1/train.csv')\n",
    "test_set = pd.read_csv('datasets/exam-1/test.csv')\n",
    "raw_demographics = pd.read_csv('datasets/exam-1/raw_demograhgics.csv')"
   ]
  },
  {
   "cell_type": "code",
   "execution_count": 5,
   "metadata": {
    "colab": {},
    "colab_type": "code",
    "id": "NCRYJ4mh-tcj"
   },
   "outputs": [],
   "source": [
    "scaled_kplus = kplus.copy()\n",
    "kplus_scaler =  StandardScaler()\n",
    "scaled_kplus[['kp_txn_amt', 'kp_txn_count']] = kplus_scaler.fit_transform(kplus[['kp_txn_amt', 'kp_txn_count']])"
   ]
  },
  {
   "cell_type": "code",
   "execution_count": 6,
   "metadata": {
    "colab": {},
    "colab_type": "code",
    "id": "_hDc84OH-tcl"
   },
   "outputs": [],
   "source": [
    "cc_persons = pd.read_csv('datasets/exam-1/cc_persons.csv')\n",
    "cc_scaler = StandardScaler()\n",
    "cc_persons[['cc_txn_amt', 'count']] = cc_scaler.fit_transform(cc_persons[['cc_txn_amt', 'count']])"
   ]
  },
  {
   "cell_type": "code",
   "execution_count": 7,
   "metadata": {
    "colab": {},
    "colab_type": "code",
    "id": "oR3DoUA2CBcZ"
   },
   "outputs": [],
   "source": [
    "cc_weekly = pd.read_csv('datasets/exam-1/cc_weekly_persons.csv')\n",
    "cc_weekly_scaler = StandardScaler()\n",
    "cc_weekly[['cc_txn_amt', 'count']] = cc_weekly_scaler.fit_transform(cc_weekly[['cc_txn_amt', 'count']])"
   ]
  },
  {
   "cell_type": "code",
   "execution_count": 8,
   "metadata": {
    "colab": {
     "base_uri": "https://localhost:8080/",
     "height": 71
    },
    "colab_type": "code",
    "executionInfo": {
     "elapsed": 24285,
     "status": "ok",
     "timestamp": 1573269272322,
     "user": {
      "displayName": "ฉัตรชัย แซ่ตัน",
      "photoUrl": "",
      "userId": "04919101980351817114"
     },
     "user_tz": -420
    },
    "id": "Rs4KWnmy-tcn",
    "outputId": "c2156bcb-1cd8-4048-dedd-73355ce603d7"
   },
   "outputs": [
    {
     "name": "stderr",
     "output_type": "stream",
     "text": [
      "/usr/local/lib/python3.7/site-packages/ipykernel_launcher.py:4: DeprecationWarning: Both axis > a.ndim and axis < -a.ndim - 1 are deprecated and will raise an AxisError in the future.\n",
      "  after removing the cwd from sys.path.\n"
     ]
    }
   ],
   "source": [
    "train_scaler = StandardScaler()\n",
    "scaled_train_set = train_set.copy()\n",
    "scaled_train_set.set_index('id', inplace=True)\n",
    "scaled_train_set['income'] = train_scaler.fit_transform(np.expand_dims(scaled_train_set['income'], axis=2))"
   ]
  },
  {
   "cell_type": "markdown",
   "metadata": {
    "colab_type": "text",
    "id": "bsSlJe7z-tco"
   },
   "source": [
    "# KPLUS"
   ]
  },
  {
   "cell_type": "code",
   "execution_count": 0,
   "metadata": {
    "colab": {},
    "colab_type": "code",
    "id": "-jNEZh8K-tcp"
   },
   "outputs": [],
   "source": [
    "train_kplus = train_kplus[train_kplus['id'] <= 50000]"
   ]
  },
  {
   "cell_type": "code",
   "execution_count": 0,
   "metadata": {
    "colab": {},
    "colab_type": "code",
    "id": "wSKrUzOP-tcr",
    "outputId": "a5dd7fec-21f8-47a3-a632-3e6f16252931"
   },
   "outputs": [
    {
     "data": {
      "text/html": [
       "<div>\n",
       "<style scoped>\n",
       "    .dataframe tbody tr th:only-of-type {\n",
       "        vertical-align: middle;\n",
       "    }\n",
       "\n",
       "    .dataframe tbody tr th {\n",
       "        vertical-align: top;\n",
       "    }\n",
       "\n",
       "    .dataframe thead th {\n",
       "        text-align: right;\n",
       "    }\n",
       "</style>\n",
       "<table border=\"1\" class=\"dataframe\">\n",
       "  <thead>\n",
       "    <tr style=\"text-align: right;\">\n",
       "      <th></th>\n",
       "      <th>id</th>\n",
       "      <th>sunday</th>\n",
       "      <th>kp_txn_count</th>\n",
       "      <th>kp_txn_amt</th>\n",
       "    </tr>\n",
       "  </thead>\n",
       "  <tbody>\n",
       "    <tr>\n",
       "      <th>822506</th>\n",
       "      <td>1</td>\n",
       "      <td>2018-06-03</td>\n",
       "      <td>-0.567504</td>\n",
       "      <td>-0.211370</td>\n",
       "    </tr>\n",
       "    <tr>\n",
       "      <th>822505</th>\n",
       "      <td>1</td>\n",
       "      <td>2018-06-17</td>\n",
       "      <td>-0.567504</td>\n",
       "      <td>-0.207460</td>\n",
       "    </tr>\n",
       "    <tr>\n",
       "      <th>100625</th>\n",
       "      <td>2</td>\n",
       "      <td>2018-01-07</td>\n",
       "      <td>-0.399415</td>\n",
       "      <td>-0.218408</td>\n",
       "    </tr>\n",
       "    <tr>\n",
       "      <th>100629</th>\n",
       "      <td>2</td>\n",
       "      <td>2018-01-14</td>\n",
       "      <td>-0.231325</td>\n",
       "      <td>-0.198075</td>\n",
       "    </tr>\n",
       "    <tr>\n",
       "      <th>100641</th>\n",
       "      <td>2</td>\n",
       "      <td>2018-01-21</td>\n",
       "      <td>-0.399415</td>\n",
       "      <td>-0.218408</td>\n",
       "    </tr>\n",
       "  </tbody>\n",
       "</table>\n",
       "</div>"
      ],
      "text/plain": [
       "        id      sunday  kp_txn_count  kp_txn_amt\n",
       "822506   1  2018-06-03     -0.567504   -0.211370\n",
       "822505   1  2018-06-17     -0.567504   -0.207460\n",
       "100625   2  2018-01-07     -0.399415   -0.218408\n",
       "100629   2  2018-01-14     -0.231325   -0.198075\n",
       "100641   2  2018-01-21     -0.399415   -0.218408"
      ]
     },
     "execution_count": 10,
     "metadata": {
      "tags": []
     },
     "output_type": "execute_result"
    }
   ],
   "source": [
    "train_kplus.head()"
   ]
  },
  {
   "cell_type": "code",
   "execution_count": 0,
   "metadata": {
    "colab": {},
    "colab_type": "code",
    "id": "ewRsbwaf-tct"
   },
   "outputs": [],
   "source": [
    "padding_value = float(-100)\n",
    "xs = create_weekly_kplus(train_kplus, padding_value)\n",
    "ys = scaled_train_set.loc[train_kplus['id'].drop_duplicates().to_numpy()].to_numpy()"
   ]
  },
  {
   "cell_type": "code",
   "execution_count": 0,
   "metadata": {
    "colab": {},
    "colab_type": "code",
    "id": "f_-BjRp5-tcy"
   },
   "outputs": [],
   "source": [
    "base_activation = 'tanh'\n",
    "model = Sequential()\n",
    "model.add(InputLayer((xs.shape[1], 2)))\n",
    "model.add(Masking(padding_value, ))\n",
    "model.add(GRU(50, activation=base_activation, return_sequences=True))\n",
    "model.add(GRU(50, activation=base_activation, return_sequences=True))\n",
    "model.add(Dropout(0.5))\n",
    "model.add(GRU(25, activation=base_activation, return_sequences=True))\n",
    "model.add(GRU(25, activation=base_activation, return_sequences=True))\n",
    "model.add(Dropout(0.5))\n",
    "model.add(GRU(25, activation=base_activation))\n",
    "model.add(Dense(1, activation='linear'))"
   ]
  },
  {
   "cell_type": "code",
   "execution_count": 0,
   "metadata": {
    "colab": {},
    "colab_type": "code",
    "id": "wOI_zATj-tc0"
   },
   "outputs": [],
   "source": [
    "# opt = SGD(lr=4e-2, momentum=0.1)\n",
    "opt = Adam()"
   ]
  },
  {
   "cell_type": "code",
   "execution_count": 0,
   "metadata": {
    "colab": {},
    "colab_type": "code",
    "id": "O14aEqkF-tc2",
    "outputId": "a55af3e6-2dc4-4611-82aa-ce617de98576"
   },
   "outputs": [
    {
     "name": "stdout",
     "output_type": "stream",
     "text": [
      "_________________________________________________________________\n",
      "Layer (type)                 Output Shape              Param #   \n",
      "=================================================================\n",
      "input_2 (InputLayer)         (None, 25, 2)             0         \n",
      "_________________________________________________________________\n",
      "masking_2 (Masking)          (None, 25, 2)             0         \n",
      "_________________________________________________________________\n",
      "gru_6 (GRU)                  (None, 25, 50)            7950      \n",
      "_________________________________________________________________\n",
      "gru_7 (GRU)                  (None, 25, 50)            15150     \n",
      "_________________________________________________________________\n",
      "dropout_3 (Dropout)          (None, 25, 50)            0         \n",
      "_________________________________________________________________\n",
      "gru_8 (GRU)                  (None, 25, 25)            5700      \n",
      "_________________________________________________________________\n",
      "gru_9 (GRU)                  (None, 25, 25)            3825      \n",
      "_________________________________________________________________\n",
      "dropout_4 (Dropout)          (None, 25, 25)            0         \n",
      "_________________________________________________________________\n",
      "gru_10 (GRU)                 (None, 25)                3825      \n",
      "_________________________________________________________________\n",
      "dense_2 (Dense)              (None, 1)                 26        \n",
      "=================================================================\n",
      "Total params: 36,476\n",
      "Trainable params: 36,476\n",
      "Non-trainable params: 0\n",
      "_________________________________________________________________\n"
     ]
    }
   ],
   "source": [
    "model.compile(loss=SMAPE_loss(kplus_scaler), optimizer=opt )\n",
    "model.summary()"
   ]
  },
  {
   "cell_type": "code",
   "execution_count": 0,
   "metadata": {
    "colab": {},
    "colab_type": "code",
    "id": "2zwJknzs-tc5"
   },
   "outputs": [],
   "source": [
    "x_train, x_val, y_train, y_val = train_test_split(xs, ys, test_size=0.2)"
   ]
  },
  {
   "cell_type": "code",
   "execution_count": 0,
   "metadata": {
    "colab": {},
    "colab_type": "code",
    "collapsed": true,
    "id": "-I2gjg4J-tc7",
    "outputId": "4eb4e86c-24e4-4852-8a38-bcb0c85087dd"
   },
   "outputs": [
    {
     "name": "stdout",
     "output_type": "stream",
     "text": [
      "WARNING:tensorflow:From /usr/local/lib/python3.7/site-packages/tensorflow/python/ops/math_ops.py:3066: to_int32 (from tensorflow.python.ops.math_ops) is deprecated and will be removed in a future version.\n",
      "Instructions for updating:\n",
      "Use tf.cast instead.\n",
      "Train on 27725 samples, validate on 6932 samples\n",
      "Epoch 1/10000\n",
      "27725/27725 [==============================] - 58s 2ms/step - loss: 0.0896 - val_loss: 0.0827\n",
      "Epoch 1 | val-SMAPE: 91.72752684189692\n",
      "Epoch 2/10000\n",
      "27725/27725 [==============================] - 71s 3ms/step - loss: 0.0849 - val_loss: 0.0796\n",
      "Epoch 2 | val-SMAPE: 92.04023577019237\n",
      "Epoch 3/10000\n",
      " 4256/27725 [===>..........................] - ETA: 52s - loss: 0.0854"
     ]
    },
    {
     "ename": "KeyboardInterrupt",
     "evalue": "",
     "output_type": "error",
     "traceback": [
      "\u001b[0;31m---------------------------------------------------------------------------\u001b[0m",
      "\u001b[0;31mKeyboardInterrupt\u001b[0m                         Traceback (most recent call last)",
      "\u001b[0;32m<ipython-input-20-ec54acc3d5c5>\u001b[0m in \u001b[0;36m<module>\u001b[0;34m\u001b[0m\n\u001b[1;32m      6\u001b[0m                      TensorBoard(log_dir='logs/gru')],\n\u001b[1;32m      7\u001b[0m           \u001b[0minitial_epoch\u001b[0m\u001b[0;34m=\u001b[0m\u001b[0;36m0\u001b[0m\u001b[0;34m,\u001b[0m\u001b[0;34m\u001b[0m\u001b[0;34m\u001b[0m\u001b[0m\n\u001b[0;32m----> 8\u001b[0;31m          epochs=10000)\n\u001b[0m",
      "\u001b[0;32m/usr/local/lib/python3.7/site-packages/keras/models.py\u001b[0m in \u001b[0;36mfit\u001b[0;34m(self, x, y, batch_size, epochs, verbose, callbacks, validation_split, validation_data, shuffle, class_weight, sample_weight, initial_epoch, steps_per_epoch, validation_steps, **kwargs)\u001b[0m\n\u001b[1;32m   1000\u001b[0m                               \u001b[0minitial_epoch\u001b[0m\u001b[0;34m=\u001b[0m\u001b[0minitial_epoch\u001b[0m\u001b[0;34m,\u001b[0m\u001b[0;34m\u001b[0m\u001b[0;34m\u001b[0m\u001b[0m\n\u001b[1;32m   1001\u001b[0m                               \u001b[0msteps_per_epoch\u001b[0m\u001b[0;34m=\u001b[0m\u001b[0msteps_per_epoch\u001b[0m\u001b[0;34m,\u001b[0m\u001b[0;34m\u001b[0m\u001b[0;34m\u001b[0m\u001b[0m\n\u001b[0;32m-> 1002\u001b[0;31m                               validation_steps=validation_steps)\n\u001b[0m\u001b[1;32m   1003\u001b[0m \u001b[0;34m\u001b[0m\u001b[0m\n\u001b[1;32m   1004\u001b[0m     def evaluate(self, x=None, y=None,\n",
      "\u001b[0;32m/usr/local/lib/python3.7/site-packages/keras/engine/training.py\u001b[0m in \u001b[0;36mfit\u001b[0;34m(self, x, y, batch_size, epochs, verbose, callbacks, validation_split, validation_data, shuffle, class_weight, sample_weight, initial_epoch, steps_per_epoch, validation_steps, **kwargs)\u001b[0m\n\u001b[1;32m   1703\u001b[0m                               \u001b[0minitial_epoch\u001b[0m\u001b[0;34m=\u001b[0m\u001b[0minitial_epoch\u001b[0m\u001b[0;34m,\u001b[0m\u001b[0;34m\u001b[0m\u001b[0;34m\u001b[0m\u001b[0m\n\u001b[1;32m   1704\u001b[0m                               \u001b[0msteps_per_epoch\u001b[0m\u001b[0;34m=\u001b[0m\u001b[0msteps_per_epoch\u001b[0m\u001b[0;34m,\u001b[0m\u001b[0;34m\u001b[0m\u001b[0;34m\u001b[0m\u001b[0m\n\u001b[0;32m-> 1705\u001b[0;31m                               validation_steps=validation_steps)\n\u001b[0m\u001b[1;32m   1706\u001b[0m \u001b[0;34m\u001b[0m\u001b[0m\n\u001b[1;32m   1707\u001b[0m     def evaluate(self, x=None, y=None,\n",
      "\u001b[0;32m/usr/local/lib/python3.7/site-packages/keras/engine/training.py\u001b[0m in \u001b[0;36m_fit_loop\u001b[0;34m(self, f, ins, out_labels, batch_size, epochs, verbose, callbacks, val_f, val_ins, shuffle, callback_metrics, initial_epoch, steps_per_epoch, validation_steps)\u001b[0m\n\u001b[1;32m   1234\u001b[0m                         \u001b[0mins_batch\u001b[0m\u001b[0;34m[\u001b[0m\u001b[0mi\u001b[0m\u001b[0;34m]\u001b[0m \u001b[0;34m=\u001b[0m \u001b[0mins_batch\u001b[0m\u001b[0;34m[\u001b[0m\u001b[0mi\u001b[0m\u001b[0;34m]\u001b[0m\u001b[0;34m.\u001b[0m\u001b[0mtoarray\u001b[0m\u001b[0;34m(\u001b[0m\u001b[0;34m)\u001b[0m\u001b[0;34m\u001b[0m\u001b[0;34m\u001b[0m\u001b[0m\n\u001b[1;32m   1235\u001b[0m \u001b[0;34m\u001b[0m\u001b[0m\n\u001b[0;32m-> 1236\u001b[0;31m                     \u001b[0mouts\u001b[0m \u001b[0;34m=\u001b[0m \u001b[0mf\u001b[0m\u001b[0;34m(\u001b[0m\u001b[0mins_batch\u001b[0m\u001b[0;34m)\u001b[0m\u001b[0;34m\u001b[0m\u001b[0;34m\u001b[0m\u001b[0m\n\u001b[0m\u001b[1;32m   1237\u001b[0m                     \u001b[0;32mif\u001b[0m \u001b[0;32mnot\u001b[0m \u001b[0misinstance\u001b[0m\u001b[0;34m(\u001b[0m\u001b[0mouts\u001b[0m\u001b[0;34m,\u001b[0m \u001b[0mlist\u001b[0m\u001b[0;34m)\u001b[0m\u001b[0;34m:\u001b[0m\u001b[0;34m\u001b[0m\u001b[0;34m\u001b[0m\u001b[0m\n\u001b[1;32m   1238\u001b[0m                         \u001b[0mouts\u001b[0m \u001b[0;34m=\u001b[0m \u001b[0;34m[\u001b[0m\u001b[0mouts\u001b[0m\u001b[0;34m]\u001b[0m\u001b[0;34m\u001b[0m\u001b[0;34m\u001b[0m\u001b[0m\n",
      "\u001b[0;32m/usr/local/lib/python3.7/site-packages/keras/backend/tensorflow_backend.py\u001b[0m in \u001b[0;36m__call__\u001b[0;34m(self, inputs)\u001b[0m\n\u001b[1;32m   2480\u001b[0m         \u001b[0msession\u001b[0m \u001b[0;34m=\u001b[0m \u001b[0mget_session\u001b[0m\u001b[0;34m(\u001b[0m\u001b[0;34m)\u001b[0m\u001b[0;34m\u001b[0m\u001b[0;34m\u001b[0m\u001b[0m\n\u001b[1;32m   2481\u001b[0m         updated = session.run(fetches=fetches, feed_dict=feed_dict,\n\u001b[0;32m-> 2482\u001b[0;31m                               **self.session_kwargs)\n\u001b[0m\u001b[1;32m   2483\u001b[0m         \u001b[0;32mreturn\u001b[0m \u001b[0mupdated\u001b[0m\u001b[0;34m[\u001b[0m\u001b[0;34m:\u001b[0m\u001b[0mlen\u001b[0m\u001b[0;34m(\u001b[0m\u001b[0mself\u001b[0m\u001b[0;34m.\u001b[0m\u001b[0moutputs\u001b[0m\u001b[0;34m)\u001b[0m\u001b[0;34m]\u001b[0m\u001b[0;34m\u001b[0m\u001b[0;34m\u001b[0m\u001b[0m\n\u001b[1;32m   2484\u001b[0m \u001b[0;34m\u001b[0m\u001b[0m\n",
      "\u001b[0;32m/usr/local/lib/python3.7/site-packages/tensorflow/python/client/session.py\u001b[0m in \u001b[0;36mrun\u001b[0;34m(self, fetches, feed_dict, options, run_metadata)\u001b[0m\n\u001b[1;32m    927\u001b[0m     \u001b[0;32mtry\u001b[0m\u001b[0;34m:\u001b[0m\u001b[0;34m\u001b[0m\u001b[0;34m\u001b[0m\u001b[0m\n\u001b[1;32m    928\u001b[0m       result = self._run(None, fetches, feed_dict, options_ptr,\n\u001b[0;32m--> 929\u001b[0;31m                          run_metadata_ptr)\n\u001b[0m\u001b[1;32m    930\u001b[0m       \u001b[0;32mif\u001b[0m \u001b[0mrun_metadata\u001b[0m\u001b[0;34m:\u001b[0m\u001b[0;34m\u001b[0m\u001b[0;34m\u001b[0m\u001b[0m\n\u001b[1;32m    931\u001b[0m         \u001b[0mproto_data\u001b[0m \u001b[0;34m=\u001b[0m \u001b[0mtf_session\u001b[0m\u001b[0;34m.\u001b[0m\u001b[0mTF_GetBuffer\u001b[0m\u001b[0;34m(\u001b[0m\u001b[0mrun_metadata_ptr\u001b[0m\u001b[0;34m)\u001b[0m\u001b[0;34m\u001b[0m\u001b[0;34m\u001b[0m\u001b[0m\n",
      "\u001b[0;32m/usr/local/lib/python3.7/site-packages/tensorflow/python/client/session.py\u001b[0m in \u001b[0;36m_run\u001b[0;34m(self, handle, fetches, feed_dict, options, run_metadata)\u001b[0m\n\u001b[1;32m   1150\u001b[0m     \u001b[0;32mif\u001b[0m \u001b[0mfinal_fetches\u001b[0m \u001b[0;32mor\u001b[0m \u001b[0mfinal_targets\u001b[0m \u001b[0;32mor\u001b[0m \u001b[0;34m(\u001b[0m\u001b[0mhandle\u001b[0m \u001b[0;32mand\u001b[0m \u001b[0mfeed_dict_tensor\u001b[0m\u001b[0;34m)\u001b[0m\u001b[0;34m:\u001b[0m\u001b[0;34m\u001b[0m\u001b[0;34m\u001b[0m\u001b[0m\n\u001b[1;32m   1151\u001b[0m       results = self._do_run(handle, final_targets, final_fetches,\n\u001b[0;32m-> 1152\u001b[0;31m                              feed_dict_tensor, options, run_metadata)\n\u001b[0m\u001b[1;32m   1153\u001b[0m     \u001b[0;32melse\u001b[0m\u001b[0;34m:\u001b[0m\u001b[0;34m\u001b[0m\u001b[0;34m\u001b[0m\u001b[0m\n\u001b[1;32m   1154\u001b[0m       \u001b[0mresults\u001b[0m \u001b[0;34m=\u001b[0m \u001b[0;34m[\u001b[0m\u001b[0;34m]\u001b[0m\u001b[0;34m\u001b[0m\u001b[0;34m\u001b[0m\u001b[0m\n",
      "\u001b[0;32m/usr/local/lib/python3.7/site-packages/tensorflow/python/client/session.py\u001b[0m in \u001b[0;36m_do_run\u001b[0;34m(self, handle, target_list, fetch_list, feed_dict, options, run_metadata)\u001b[0m\n\u001b[1;32m   1326\u001b[0m     \u001b[0;32mif\u001b[0m \u001b[0mhandle\u001b[0m \u001b[0;32mis\u001b[0m \u001b[0;32mNone\u001b[0m\u001b[0;34m:\u001b[0m\u001b[0;34m\u001b[0m\u001b[0;34m\u001b[0m\u001b[0m\n\u001b[1;32m   1327\u001b[0m       return self._do_call(_run_fn, feeds, fetches, targets, options,\n\u001b[0;32m-> 1328\u001b[0;31m                            run_metadata)\n\u001b[0m\u001b[1;32m   1329\u001b[0m     \u001b[0;32melse\u001b[0m\u001b[0;34m:\u001b[0m\u001b[0;34m\u001b[0m\u001b[0;34m\u001b[0m\u001b[0m\n\u001b[1;32m   1330\u001b[0m       \u001b[0;32mreturn\u001b[0m \u001b[0mself\u001b[0m\u001b[0;34m.\u001b[0m\u001b[0m_do_call\u001b[0m\u001b[0;34m(\u001b[0m\u001b[0m_prun_fn\u001b[0m\u001b[0;34m,\u001b[0m \u001b[0mhandle\u001b[0m\u001b[0;34m,\u001b[0m \u001b[0mfeeds\u001b[0m\u001b[0;34m,\u001b[0m \u001b[0mfetches\u001b[0m\u001b[0;34m)\u001b[0m\u001b[0;34m\u001b[0m\u001b[0;34m\u001b[0m\u001b[0m\n",
      "\u001b[0;32m/usr/local/lib/python3.7/site-packages/tensorflow/python/client/session.py\u001b[0m in \u001b[0;36m_do_call\u001b[0;34m(self, fn, *args)\u001b[0m\n\u001b[1;32m   1332\u001b[0m   \u001b[0;32mdef\u001b[0m \u001b[0m_do_call\u001b[0m\u001b[0;34m(\u001b[0m\u001b[0mself\u001b[0m\u001b[0;34m,\u001b[0m \u001b[0mfn\u001b[0m\u001b[0;34m,\u001b[0m \u001b[0;34m*\u001b[0m\u001b[0margs\u001b[0m\u001b[0;34m)\u001b[0m\u001b[0;34m:\u001b[0m\u001b[0;34m\u001b[0m\u001b[0;34m\u001b[0m\u001b[0m\n\u001b[1;32m   1333\u001b[0m     \u001b[0;32mtry\u001b[0m\u001b[0;34m:\u001b[0m\u001b[0;34m\u001b[0m\u001b[0;34m\u001b[0m\u001b[0m\n\u001b[0;32m-> 1334\u001b[0;31m       \u001b[0;32mreturn\u001b[0m \u001b[0mfn\u001b[0m\u001b[0;34m(\u001b[0m\u001b[0;34m*\u001b[0m\u001b[0margs\u001b[0m\u001b[0;34m)\u001b[0m\u001b[0;34m\u001b[0m\u001b[0;34m\u001b[0m\u001b[0m\n\u001b[0m\u001b[1;32m   1335\u001b[0m     \u001b[0;32mexcept\u001b[0m \u001b[0merrors\u001b[0m\u001b[0;34m.\u001b[0m\u001b[0mOpError\u001b[0m \u001b[0;32mas\u001b[0m \u001b[0me\u001b[0m\u001b[0;34m:\u001b[0m\u001b[0;34m\u001b[0m\u001b[0;34m\u001b[0m\u001b[0m\n\u001b[1;32m   1336\u001b[0m       \u001b[0mmessage\u001b[0m \u001b[0;34m=\u001b[0m \u001b[0mcompat\u001b[0m\u001b[0;34m.\u001b[0m\u001b[0mas_text\u001b[0m\u001b[0;34m(\u001b[0m\u001b[0me\u001b[0m\u001b[0;34m.\u001b[0m\u001b[0mmessage\u001b[0m\u001b[0;34m)\u001b[0m\u001b[0;34m\u001b[0m\u001b[0;34m\u001b[0m\u001b[0m\n",
      "\u001b[0;32m/usr/local/lib/python3.7/site-packages/tensorflow/python/client/session.py\u001b[0m in \u001b[0;36m_run_fn\u001b[0;34m(feed_dict, fetch_list, target_list, options, run_metadata)\u001b[0m\n\u001b[1;32m   1317\u001b[0m       \u001b[0mself\u001b[0m\u001b[0;34m.\u001b[0m\u001b[0m_extend_graph\u001b[0m\u001b[0;34m(\u001b[0m\u001b[0;34m)\u001b[0m\u001b[0;34m\u001b[0m\u001b[0;34m\u001b[0m\u001b[0m\n\u001b[1;32m   1318\u001b[0m       return self._call_tf_sessionrun(\n\u001b[0;32m-> 1319\u001b[0;31m           options, feed_dict, fetch_list, target_list, run_metadata)\n\u001b[0m\u001b[1;32m   1320\u001b[0m \u001b[0;34m\u001b[0m\u001b[0m\n\u001b[1;32m   1321\u001b[0m     \u001b[0;32mdef\u001b[0m \u001b[0m_prun_fn\u001b[0m\u001b[0;34m(\u001b[0m\u001b[0mhandle\u001b[0m\u001b[0;34m,\u001b[0m \u001b[0mfeed_dict\u001b[0m\u001b[0;34m,\u001b[0m \u001b[0mfetch_list\u001b[0m\u001b[0;34m)\u001b[0m\u001b[0;34m:\u001b[0m\u001b[0;34m\u001b[0m\u001b[0;34m\u001b[0m\u001b[0m\n",
      "\u001b[0;32m/usr/local/lib/python3.7/site-packages/tensorflow/python/client/session.py\u001b[0m in \u001b[0;36m_call_tf_sessionrun\u001b[0;34m(self, options, feed_dict, fetch_list, target_list, run_metadata)\u001b[0m\n\u001b[1;32m   1405\u001b[0m     return tf_session.TF_SessionRun_wrapper(\n\u001b[1;32m   1406\u001b[0m         \u001b[0mself\u001b[0m\u001b[0;34m.\u001b[0m\u001b[0m_session\u001b[0m\u001b[0;34m,\u001b[0m \u001b[0moptions\u001b[0m\u001b[0;34m,\u001b[0m \u001b[0mfeed_dict\u001b[0m\u001b[0;34m,\u001b[0m \u001b[0mfetch_list\u001b[0m\u001b[0;34m,\u001b[0m \u001b[0mtarget_list\u001b[0m\u001b[0;34m,\u001b[0m\u001b[0;34m\u001b[0m\u001b[0;34m\u001b[0m\u001b[0m\n\u001b[0;32m-> 1407\u001b[0;31m         run_metadata)\n\u001b[0m\u001b[1;32m   1408\u001b[0m \u001b[0;34m\u001b[0m\u001b[0m\n\u001b[1;32m   1409\u001b[0m   \u001b[0;32mdef\u001b[0m \u001b[0m_call_tf_sessionprun\u001b[0m\u001b[0;34m(\u001b[0m\u001b[0mself\u001b[0m\u001b[0;34m,\u001b[0m \u001b[0mhandle\u001b[0m\u001b[0;34m,\u001b[0m \u001b[0mfeed_dict\u001b[0m\u001b[0;34m,\u001b[0m \u001b[0mfetch_list\u001b[0m\u001b[0;34m)\u001b[0m\u001b[0;34m:\u001b[0m\u001b[0;34m\u001b[0m\u001b[0;34m\u001b[0m\u001b[0m\n",
      "\u001b[0;31mKeyboardInterrupt\u001b[0m: "
     ]
    }
   ],
   "source": [
    "model.fit(x_train, y_train,\n",
    "          validation_data=(x_val, y_val),\n",
    "          shuffle=True,\n",
    "          batch_size=32,\n",
    "          callbacks=[EvaluateSMAPE(x_val, y_val, 'val', scaler_y=kplus_scaler, use_SMAPE_loss=True),\n",
    "                     TensorBoard(log_dir='logs/gru')],\n",
    "          initial_epoch=0,\n",
    "         epochs=10000)"
   ]
  },
  {
   "cell_type": "markdown",
   "metadata": {
    "colab_type": "text",
    "id": "IyjYlnCs-tc-"
   },
   "source": [
    "# Credit"
   ]
  },
  {
   "cell_type": "code",
   "execution_count": 0,
   "metadata": {
    "colab": {},
    "colab_type": "code",
    "id": "hvrUiLaKCBc0",
    "outputId": "ce82755b-1f32-41a3-9832-d580cd6b4a80"
   },
   "outputs": [
    {
     "data": {
      "text/html": [
       "<div>\n",
       "<style scoped>\n",
       "    .dataframe tbody tr th:only-of-type {\n",
       "        vertical-align: middle;\n",
       "    }\n",
       "\n",
       "    .dataframe tbody tr th {\n",
       "        vertical-align: top;\n",
       "    }\n",
       "\n",
       "    .dataframe thead th {\n",
       "        text-align: right;\n",
       "    }\n",
       "</style>\n",
       "<table border=\"1\" class=\"dataframe\">\n",
       "  <thead>\n",
       "    <tr style=\"text-align: right;\">\n",
       "      <th></th>\n",
       "      <th>Unnamed: 0</th>\n",
       "      <th>id</th>\n",
       "      <th>pos_week_index</th>\n",
       "      <th>cc_txn_amt</th>\n",
       "      <th>count</th>\n",
       "    </tr>\n",
       "  </thead>\n",
       "  <tbody>\n",
       "    <tr>\n",
       "      <th>0</th>\n",
       "      <td>0</td>\n",
       "      <td>1</td>\n",
       "      <td>2</td>\n",
       "      <td>-0.048792</td>\n",
       "      <td>-0.584214</td>\n",
       "    </tr>\n",
       "    <tr>\n",
       "      <th>1</th>\n",
       "      <td>1</td>\n",
       "      <td>1</td>\n",
       "      <td>6</td>\n",
       "      <td>0.253095</td>\n",
       "      <td>-0.036353</td>\n",
       "    </tr>\n",
       "    <tr>\n",
       "      <th>2</th>\n",
       "      <td>2</td>\n",
       "      <td>1</td>\n",
       "      <td>18</td>\n",
       "      <td>0.055783</td>\n",
       "      <td>-0.584214</td>\n",
       "    </tr>\n",
       "    <tr>\n",
       "      <th>3</th>\n",
       "      <td>3</td>\n",
       "      <td>1</td>\n",
       "      <td>23</td>\n",
       "      <td>0.055783</td>\n",
       "      <td>-0.584214</td>\n",
       "    </tr>\n",
       "    <tr>\n",
       "      <th>4</th>\n",
       "      <td>4</td>\n",
       "      <td>2</td>\n",
       "      <td>0</td>\n",
       "      <td>-0.109958</td>\n",
       "      <td>-0.584214</td>\n",
       "    </tr>\n",
       "  </tbody>\n",
       "</table>\n",
       "</div>"
      ],
      "text/plain": [
       "   Unnamed: 0  id  pos_week_index  cc_txn_amt     count\n",
       "0           0   1               2   -0.048792 -0.584214\n",
       "1           1   1               6    0.253095 -0.036353\n",
       "2           2   1              18    0.055783 -0.584214\n",
       "3           3   1              23    0.055783 -0.584214\n",
       "4           4   2               0   -0.109958 -0.584214"
      ]
     },
     "execution_count": 11,
     "metadata": {
      "tags": []
     },
     "output_type": "execute_result"
    }
   ],
   "source": [
    "cc_weekly.head()"
   ]
  },
  {
   "cell_type": "code",
   "execution_count": 0,
   "metadata": {
    "colab": {},
    "colab_type": "code",
    "id": "U-KPZ8RHCBc3"
   },
   "outputs": [],
   "source": [
    "train_cc_weekly = cc_weekly[cc_weekly['id'] <= 50000]"
   ]
  },
  {
   "cell_type": "code",
   "execution_count": 0,
   "metadata": {
    "colab": {},
    "colab_type": "code",
    "id": "4OD833iUCBc5"
   },
   "outputs": [],
   "source": [
    "padding_value = cc_weekly_scaler.transform([[0., 0.]])\n",
    "xs = create_weekly_credit(train_cc_weekly, padding_value)\n",
    "ys = scaled_train_set.loc[train_cc_weekly['id'].drop_duplicates().to_numpy()].to_numpy()"
   ]
  },
  {
   "cell_type": "code",
   "execution_count": 0,
   "metadata": {
    "colab": {},
    "colab_type": "code",
    "id": "aM0IyGWa-tdI",
    "outputId": "dea16823-3a07-4eb0-b3b2-c14c17b81519"
   },
   "outputs": [
    {
     "ename": "NameError",
     "evalue": "name 'xs' is not defined",
     "output_type": "error",
     "traceback": [
      "\u001b[0;31m---------------------------------------------------------------------------\u001b[0m",
      "\u001b[0;31mNameError\u001b[0m                                 Traceback (most recent call last)",
      "\u001b[0;32m<ipython-input-1-d3cb153aa17c>\u001b[0m in \u001b[0;36m<module>\u001b[0;34m\u001b[0m\n\u001b[0;32m----> 1\u001b[0;31m \u001b[0mxs\u001b[0m\u001b[0;34m.\u001b[0m\u001b[0mshape\u001b[0m\u001b[0;34m,\u001b[0m \u001b[0mys\u001b[0m\u001b[0;34m.\u001b[0m\u001b[0mshape\u001b[0m\u001b[0;34m\u001b[0m\u001b[0;34m\u001b[0m\u001b[0m\n\u001b[0m",
      "\u001b[0;31mNameError\u001b[0m: name 'xs' is not defined"
     ]
    }
   ],
   "source": [
    "xs.shape, ys.shape"
   ]
  },
  {
   "cell_type": "code",
   "execution_count": 0,
   "metadata": {
    "colab": {},
    "colab_type": "code",
    "id": "3KP4XfDc-tdP",
    "outputId": "c7d8687d-5a3e-4220-ba5f-75fc44a8f7e0"
   },
   "outputs": [
    {
     "name": "stderr",
     "output_type": "stream",
     "text": [
      "WARNING: Logging before flag parsing goes to stderr.\n",
      "W1107 14:42:30.512545 140311903098688 deprecation.py:506] From /usr/local/lib/python3.6/dist-packages/tensorflow_core/python/ops/resource_variable_ops.py:1630: calling BaseResourceVariable.__init__ (from tensorflow.python.ops.resource_variable_ops) with constraint is deprecated and will be removed in a future version.\n",
      "Instructions for updating:\n",
      "If using Keras pass *_constraint arguments to layers.\n"
     ]
    }
   ],
   "source": [
    "base_activation = 'tanh'\n",
    "RNN = CuDNNLSTM\n",
    "model = Sequential()\n",
    "# model.add(Masking(padding_value))\n",
    "model.add((RNN(64, return_sequences=True, input_shape=xs.shape[1:])))\n",
    "model.add(Activation(base_activation))\n",
    "model.add((RNN(64, return_sequences=True)))\n",
    "model.add(Activation(base_activation))\n",
    "model.add(Dropout(0.5))\n",
    "model.add((RNN(32, return_sequences=True)))\n",
    "model.add(Activation(base_activation))\n",
    "model.add((RNN(32, return_sequences=True)))\n",
    "model.add(Activation(base_activation))\n",
    "model.add(Dropout(0.5))\n",
    "model.add((RNN(16, )))\n",
    "model.add(Activation(base_activation))\n",
    "model.add(Dense(1, activation='linear'))"
   ]
  },
  {
   "cell_type": "code",
   "execution_count": 0,
   "metadata": {
    "colab": {},
    "colab_type": "code",
    "id": "mVVOnDqLCBdD"
   },
   "outputs": [],
   "source": [
    "model = Sequential()\n",
    "model.add(Conv1D(64, kernel_size=3, strides=1, input_shape=xs.shape[1:], activation='relu'))\n",
    "model.add(Conv1D(64, kernel_size=3, strides=1, activation='relu'))\n",
    "# model.add(MaxPool1D())\n",
    "model.add(Dropout(0.5))\n",
    "model.add(Conv1D(16, kernel_size=3, strides=1, activation='relu'))\n",
    "model.add(Conv1D(16, kernel_size=3, strides=1, activation='relu'))\n",
    "# model.add(MaxPool1D())\n",
    "model.add(Dropout(0.5))\n",
    "model.add(Conv1D(4, kernel_size=3, strides=1, activation='relu'))\n",
    "model.add(Conv1D(4, kernel_size=3, strides=1, activation='relu'))\n",
    "# model.add(MaxPool1D())\n",
    "# model.add(Dropout(0.5))\n",
    "model.add(Flatten())\n",
    "model.add(Dense(40))\n",
    "# model.add(Dropout(0.25))\n",
    "model.add(Dense(1))"
   ]
  },
  {
   "cell_type": "code",
   "execution_count": 0,
   "metadata": {
    "colab": {},
    "colab_type": "code",
    "id": "qR0hOY9T-tdW"
   },
   "outputs": [],
   "source": [
    "# opt = SGD(lr=4e-2, momentum=0.1)\n",
    "opt = Adam()"
   ]
  },
  {
   "cell_type": "code",
   "execution_count": 0,
   "metadata": {
    "colab": {},
    "colab_type": "code",
    "id": "95myI8WL-tdY",
    "outputId": "c45caba1-cbc1-43c3-9f69-1562067f9580"
   },
   "outputs": [
    {
     "name": "stdout",
     "output_type": "stream",
     "text": [
      "Model: \"sequential_4\"\n",
      "_________________________________________________________________\n",
      "Layer (type)                 Output Shape              Param #   \n",
      "=================================================================\n",
      "conv1d_11 (Conv1D)           (None, 24, 64)            448       \n",
      "_________________________________________________________________\n",
      "conv1d_12 (Conv1D)           (None, 22, 64)            12352     \n",
      "_________________________________________________________________\n",
      "dropout_7 (Dropout)          (None, 22, 64)            0         \n",
      "_________________________________________________________________\n",
      "conv1d_13 (Conv1D)           (None, 20, 16)            3088      \n",
      "_________________________________________________________________\n",
      "conv1d_14 (Conv1D)           (None, 18, 16)            784       \n",
      "_________________________________________________________________\n",
      "dropout_8 (Dropout)          (None, 18, 16)            0         \n",
      "_________________________________________________________________\n",
      "conv1d_15 (Conv1D)           (None, 16, 4)             196       \n",
      "_________________________________________________________________\n",
      "conv1d_16 (Conv1D)           (None, 14, 4)             52        \n",
      "_________________________________________________________________\n",
      "flatten_2 (Flatten)          (None, 56)                0         \n",
      "_________________________________________________________________\n",
      "dense_4 (Dense)              (None, 40)                2280      \n",
      "_________________________________________________________________\n",
      "dense_5 (Dense)              (None, 1)                 41        \n",
      "=================================================================\n",
      "Total params: 19,241\n",
      "Trainable params: 19,241\n",
      "Non-trainable params: 0\n",
      "_________________________________________________________________\n"
     ]
    }
   ],
   "source": [
    "model.compile(loss=SMAPE_loss(train_scaler), optimizer=opt )\n",
    "model.summary()"
   ]
  },
  {
   "cell_type": "code",
   "execution_count": 0,
   "metadata": {
    "colab": {},
    "colab_type": "code",
    "id": "QfCAVoBN-tde"
   },
   "outputs": [],
   "source": [
    "x_train, x_val, y_train, y_val = train_test_split(xs, ys, test_size=0.2)"
   ]
  },
  {
   "cell_type": "code",
   "execution_count": 0,
   "metadata": {
    "colab": {},
    "colab_type": "code",
    "id": "GnewjvTh-tdg"
   },
   "outputs": [],
   "source": [
    "log_dir = 'cc-weekly_conv2'\n",
    "\n",
    "model.fit(x_train, y_train,\n",
    "          validation_data=(x_val, y_val),\n",
    "          shuffle=True,\n",
    "          batch_size=32,\n",
    "          callbacks=[EvaluateSMAPE(x_val, y_val, 'val', scaler_y=train_scaler, use_SMAPE_loss=True),\n",
    "                    TensorBoard(log_dir),\n",
    "                    ModelCheckpoint(log_dir + '/ep{epoch}-val_SMAPE:{val_SMAPE}.h5')\n",
    "                     ],\n",
    "          initial_epoch=0,\n",
    "         epochs=100)"
   ]
  },
  {
   "cell_type": "markdown",
   "metadata": {
    "colab_type": "text",
    "id": "DSFblXu6K9Zh"
   },
   "source": [
    "# KPLUS + Credit"
   ]
  },
  {
   "cell_type": "code",
   "execution_count": 0,
   "metadata": {
    "colab": {
     "base_uri": "https://localhost:8080/",
     "height": 34
    },
    "colab_type": "code",
    "executionInfo": {
     "elapsed": 1212,
     "status": "ok",
     "timestamp": 1572968555521,
     "user": {
      "displayName": "ฉัตรชัย แซ่ตัน",
      "photoUrl": "",
      "userId": "04919101980351817114"
     },
     "user_tz": -420
    },
    "id": "nK4G1Pca-tdm",
    "outputId": "569020e3-e0d0-4f8e-eb8d-e852c389b809"
   },
   "outputs": [
    {
     "name": "stdout",
     "output_type": "stream",
     "text": [
      "38056 39950 47174 30832\n"
     ]
    }
   ],
   "source": [
    "kplus_n_threshold = 0\n",
    "cc_n_threshold = 0\n",
    "\n",
    "kplus_n_ids = scaled_kplus.groupby('id').size()\n",
    "kplus_n_ids = set(kplus_n_ids[kplus_n_ids >= kplus_n_threshold].keys())\n",
    "\n",
    "cc_n_ids = cc_persons.groupby('id').size()\n",
    "cc_n_ids = set(cc_n_ids[cc_n_ids >= cc_n_threshold].keys())\n",
    "\n",
    "kplus_ids = set(scaled_kplus[scaled_kplus['id'] <= 50000]['id'].drop_duplicates())\n",
    "cc_ids = set(cc_persons[cc_persons['id'] <= 50000]['id'].drop_duplicates())\n",
    "# ids = sorted(list(kplus_ids.union(cc_ids)))\n",
    "ids = sorted(list(kplus_ids.intersection(cc_ids, kplus_n_ids, cc_n_ids)))\n",
    "ids_df = pd.DataFrame(ids, columns=['id'])"
   ]
  },
  {
   "cell_type": "code",
   "execution_count": 0,
   "metadata": {
    "colab": {},
    "colab_type": "code",
    "id": "Didjt0EI-tdq"
   },
   "outputs": [],
   "source": [
    "train_kplus = pd.merge(scaled_kplus, ids_df, on='id', how='right')\n",
    "train_cc_weekly = pd.merge(cc_weekly, ids_df, on='id', how='right')"
   ]
  },
  {
   "cell_type": "code",
   "execution_count": 0,
   "metadata": {
    "colab": {},
    "colab_type": "code",
    "id": "pGC_IRv_CBdg"
   },
   "outputs": [],
   "source": [
    "padding_value = float(-100)\n",
    "kplus_padding = cc_padding = padding_value\n",
    "kplus_padding = kplus_scaler.transform([[0,0]])\n",
    "cc_weekly_padding = cc_weekly_scaler.transform([[0,0]])\n",
    "\n",
    "kplus_xs = create_weekly_kplus(train_kplus, kplus_padding)\n",
    "gap_padding = np.ones((len(kplus_xs), 1, 2), dtype=np.float32) * kplus_padding\n",
    "kplus_xs = np.concatenate((gap_padding, kplus_xs,), axis=1)\n",
    "cc_weekly_xs = create_weekly_credit(train_cc_weekly, cc_weekly_padding)"
   ]
  },
  {
   "cell_type": "code",
   "execution_count": 0,
   "metadata": {
    "colab": {},
    "colab_type": "code",
    "id": "k5PkDghFCBdc",
    "outputId": "6baabd58-a7e2-41e4-87f1-213228ecf88e"
   },
   "outputs": [
    {
     "data": {
      "text/plain": [
       "((30832, 25, 2), (30832, 26, 2))"
      ]
     },
     "execution_count": 41,
     "metadata": {
      "tags": []
     },
     "output_type": "execute_result"
    }
   ],
   "source": [
    "kplus_xs.shape, cc_weekly_xs.shape"
   ]
  },
  {
   "cell_type": "code",
   "execution_count": 0,
   "metadata": {
    "colab": {},
    "colab_type": "code",
    "id": "jN0kDq1bCBdh"
   },
   "outputs": [],
   "source": [
    "xs = np.concatenate((kplus_xs, cc_weekly_xs), axis=2)\n",
    "ys = scaled_train_set.loc[ids]['income'].to_numpy()"
   ]
  },
  {
   "cell_type": "code",
   "execution_count": 0,
   "metadata": {
    "colab": {},
    "colab_type": "code",
    "id": "_g3rdwlXCBdj",
    "outputId": "347e643e-17c6-4761-9520-94abcf1216ba"
   },
   "outputs": [
    {
     "data": {
      "text/plain": [
       "((47174, 26, 4), (47174,))"
      ]
     },
     "execution_count": 99,
     "metadata": {
      "tags": []
     },
     "output_type": "execute_result"
    }
   ],
   "source": [
    "xs.shape, ys.shape"
   ]
  },
  {
   "cell_type": "code",
   "execution_count": 0,
   "metadata": {
    "colab": {},
    "colab_type": "code",
    "id": "QPq3Z_Zz-tdz"
   },
   "outputs": [],
   "source": [
    "base_activation = 'tanh'\n",
    "RNN = CuDNNGRU\n",
    "model = Sequential()\n",
    "# model.add(Masking(padding_value, input_shape=xs.shape[1:] ))\n",
    "model.add((RNN(24, return_sequences=True, input_shape=xs.shape[1:])))\n",
    "model.add(Activation(base_activation))\n",
    "model.add((RNN(24, return_sequences=True)))\n",
    "model.add(Activation(base_activation))\n",
    "model.add(Dropout(0.5))\n",
    "model.add((RNN(18, return_sequences=True, )))\n",
    "model.add(Activation(base_activation))\n",
    "model.add((RNN(18, return_sequences=True)))\n",
    "model.add(Activation(base_activation))\n",
    "model.add(Dropout(0.5))\n",
    "model.add((RNN(12, return_sequences=True, )))\n",
    "model.add(Activation(base_activation))\n",
    "model.add((RNN(12, return_sequences=True)))\n",
    "model.add(Activation(base_activation))\n",
    "model.add(Dropout(0.5))\n",
    "# model.add(RNN(64, return_sequences=True))\n",
    "# model.add(Activation(base_activation))\n",
    "model.add(RNN(12, ))\n",
    "model.add(Activation(base_activation))\n",
    "# model.add(Dense(10))\n",
    "# model.add(Dropout(0.25))\n",
    "\n",
    "\n",
    "model.add(Dense(1, activation='linear'))"
   ]
  },
  {
   "cell_type": "code",
   "execution_count": 0,
   "metadata": {
    "colab": {},
    "colab_type": "code",
    "id": "_0Sn6H4hY4k1"
   },
   "outputs": [],
   "source": [
    "model = Sequential()\n",
    "model.add(Conv1D(64, kernel_size=3, strides=1, input_shape=xs.shape[1:], activation='relu'))\n",
    "model.add(Conv1D(64, kernel_size=3, strides=1, activation='relu'))\n",
    "# model.add(Dropout(0.5))\n",
    "model.add(Conv1D(32, kernel_size=3, strides=1, activation='relu'))\n",
    "model.add(Conv1D(32, kernel_size=3, strides=1, activation='relu'))\n",
    "# model.add(Dropout(0.5))\n",
    "model.add(Conv1D(16, kernel_size=3, strides=1, activation='relu'))\n",
    "model.add(Conv1D(16, kernel_size=3, strides=1, activation='relu'))\n",
    "# model.add(Dropout(0.5))\n",
    "model.add(Conv1D(8, kernel_size=3, strides=1, activation='relu'))\n",
    "model.add(Conv1D(8, kernel_size=3, strides=1, activation='relu'))\n",
    "# model.add(Dropout(0.5))\n",
    "model.add(Conv1D(4, kernel_size=3, strides=1, activation='relu'))\n",
    "model.add(Conv1D(4, kernel_size=3, strides=1, activation='relu'))\n",
    "# model.add(MaxPool1D())\n",
    "# model.add(Dropout(0.5))\n",
    "model.add(Flatten())\n",
    "model.add(Dense(24))\n",
    "# model.add(Dropout(0.25))\n",
    "model.add(Dense(1))"
   ]
  },
  {
   "cell_type": "code",
   "execution_count": 0,
   "metadata": {
    "colab": {
     "base_uri": "https://localhost:8080/",
     "height": 663
    },
    "colab_type": "code",
    "executionInfo": {
     "elapsed": 1635,
     "status": "ok",
     "timestamp": 1572969412455,
     "user": {
      "displayName": "ฉัตรชัย แซ่ตัน",
      "photoUrl": "",
      "userId": "04919101980351817114"
     },
     "user_tz": -420
    },
    "id": "o2ol4m9b-td2",
    "outputId": "a7f9c5e9-5c9c-42cf-8dcb-42aca9400e67"
   },
   "outputs": [
    {
     "name": "stdout",
     "output_type": "stream",
     "text": [
      "Model: \"sequential_19\"\n",
      "_________________________________________________________________\n",
      "Layer (type)                 Output Shape              Param #   \n",
      "=================================================================\n",
      "cu_dnngru_22 (CuDNNGRU)      (None, 26, 24)            2160      \n",
      "_________________________________________________________________\n",
      "activation_49 (Activation)   (None, 26, 24)            0         \n",
      "_________________________________________________________________\n",
      "cu_dnngru_23 (CuDNNGRU)      (None, 26, 24)            3600      \n",
      "_________________________________________________________________\n",
      "activation_50 (Activation)   (None, 26, 24)            0         \n",
      "_________________________________________________________________\n",
      "dropout_23 (Dropout)         (None, 26, 24)            0         \n",
      "_________________________________________________________________\n",
      "cu_dnngru_24 (CuDNNGRU)      (None, 26, 18)            2376      \n",
      "_________________________________________________________________\n",
      "activation_51 (Activation)   (None, 26, 18)            0         \n",
      "_________________________________________________________________\n",
      "cu_dnngru_25 (CuDNNGRU)      (None, 26, 18)            2052      \n",
      "_________________________________________________________________\n",
      "activation_52 (Activation)   (None, 26, 18)            0         \n",
      "_________________________________________________________________\n",
      "dropout_24 (Dropout)         (None, 26, 18)            0         \n",
      "_________________________________________________________________\n",
      "cu_dnngru_26 (CuDNNGRU)      (None, 26, 12)            1152      \n",
      "_________________________________________________________________\n",
      "activation_53 (Activation)   (None, 26, 12)            0         \n",
      "_________________________________________________________________\n",
      "cu_dnngru_27 (CuDNNGRU)      (None, 26, 12)            936       \n",
      "_________________________________________________________________\n",
      "activation_54 (Activation)   (None, 26, 12)            0         \n",
      "_________________________________________________________________\n",
      "dropout_25 (Dropout)         (None, 26, 12)            0         \n",
      "_________________________________________________________________\n",
      "cu_dnngru_28 (CuDNNGRU)      (None, 12)                936       \n",
      "_________________________________________________________________\n",
      "activation_55 (Activation)   (None, 12)                0         \n",
      "_________________________________________________________________\n",
      "dense_23 (Dense)             (None, 1)                 13        \n",
      "=================================================================\n",
      "Total params: 13,225\n",
      "Trainable params: 13,225\n",
      "Non-trainable params: 0\n",
      "_________________________________________________________________\n"
     ]
    }
   ],
   "source": [
    "model.compile(loss=SMAPE_loss(train_scaler), optimizer=Adam() )\n",
    "model.summary()"
   ]
  },
  {
   "cell_type": "code",
   "execution_count": 0,
   "metadata": {
    "colab": {},
    "colab_type": "code",
    "id": "adcH64SM-td4"
   },
   "outputs": [],
   "source": [
    "x_train, x_val, y_train, y_val = train_test_split(xs, ys, test_size=0.2)"
   ]
  },
  {
   "cell_type": "code",
   "execution_count": 0,
   "metadata": {
    "colab": {},
    "colab_type": "code",
    "id": "64uhRjTw-te0"
   },
   "outputs": [],
   "source": [
    "log_dir = 'logs/union_kplus_cc-weekly_gru3'\n",
    "\n",
    "model.fit(x_train, y_train,\n",
    "          validation_data=(x_val, y_val),\n",
    "          shuffle=True,\n",
    "          batch_size=32,\n",
    "          callbacks=[EvaluateSMAPE(x_val, y_val, 'val', scaler_y=train_scaler, use_SMAPE_loss=True),\n",
    "                     TensorBoard(log_dir),\n",
    "                     ModelCheckpoint(log_dir + '/ep{epoch}-val_SMAPE:{val_SMAPE}.h5')\n",
    "                     ],\n",
    "          initial_epoch=0,\n",
    "         epochs=100)"
   ]
  },
  {
   "cell_type": "markdown",
   "metadata": {
    "colab_type": "text",
    "id": "UBaU8mTFKGM_"
   },
   "source": [
    "# KPLUS + Credit (Split)"
   ]
  },
  {
   "cell_type": "code",
   "execution_count": 0,
   "metadata": {
    "colab": {},
    "colab_type": "code",
    "id": "mBu2BZjZKLfH"
   },
   "outputs": [],
   "source": [
    "kplus_n_threshold = 0\n",
    "cc_n_threshold = 0\n",
    "\n",
    "kplus_n_ids = scaled_kplus.groupby('id').size()\n",
    "kplus_n_ids = set(kplus_n_ids[kplus_n_ids >= kplus_n_threshold].keys())\n",
    "\n",
    "cc_n_ids = cc_persons.groupby('id').size()\n",
    "cc_n_ids = set(cc_n_ids[cc_n_ids >= cc_n_threshold].keys())\n",
    "\n",
    "kplus_ids = set(scaled_kplus[scaled_kplus['id'] <= 50000]['id'].drop_duplicates())\n",
    "cc_ids = set(cc_persons[cc_persons['id'] <= 50000]['id'].drop_duplicates())\n",
    "# ids = sorted(list(kplus_ids.union(cc_ids)))\n",
    "ids = sorted(list(kplus_ids.intersection(cc_ids, kplus_n_ids, cc_n_ids)))\n",
    "ids_df = pd.DataFrame(ids, columns=['id'])\n",
    "\n",
    "train_kplus = pd.merge(scaled_kplus, ids_df, on='id', how='right')\n",
    "train_cc_weekly = pd.merge(cc_weekly, ids_df, on='id', how='right')"
   ]
  },
  {
   "cell_type": "code",
   "execution_count": 34,
   "metadata": {
    "colab": {
     "base_uri": "https://localhost:8080/",
     "height": 34
    },
    "colab_type": "code",
    "executionInfo": {
     "elapsed": 118597,
     "status": "ok",
     "timestamp": 1573269829853,
     "user": {
      "displayName": "ฉัตรชัย แซ่ตัน",
      "photoUrl": "",
      "userId": "04919101980351817114"
     },
     "user_tz": -420
    },
    "id": "-9givrcxLXs2",
    "outputId": "9364deac-cfb9-4e77-db0b-40508a4fc95c"
   },
   "outputs": [
    {
     "name": "stdout",
     "output_type": "stream",
     "text": [
      "(30832, 26, 2) (30832, 26, 2)\n"
     ]
    }
   ],
   "source": [
    "padding_value = float(-100)\n",
    "kplus_padding = cc_padding = padding_value\n",
    "kplus_padding = kplus_scaler.transform([[0,0]])\n",
    "cc_weekly_padding = cc_weekly_scaler.transform([[0,0]])\n",
    "\n",
    "kplus_xs = create_weekly_kplus(train_kplus, kplus_padding)\n",
    "gap_padding = np.ones((len(kplus_xs), 1, 2), dtype=np.float32) * kplus_padding\n",
    "kplus_xs = np.concatenate((gap_padding, kplus_xs,), axis=1)\n",
    "cc_weekly_xs = create_weekly_credit(train_cc_weekly, cc_weekly_padding)\n",
    "\n",
    "print(kplus_xs.shape, cc_weekly_xs.shape)"
   ]
  },
  {
   "cell_type": "code",
   "execution_count": 0,
   "metadata": {
    "colab": {},
    "colab_type": "code",
    "id": "7hYKNCD-Rqdt"
   },
   "outputs": [],
   "source": [
    "ys = scaled_train_set.loc[ids]['income'].to_numpy()"
   ]
  },
  {
   "cell_type": "code",
   "execution_count": 0,
   "metadata": {
    "colab": {},
    "colab_type": "code",
    "id": "rC6BkLyGLrUQ"
   },
   "outputs": [],
   "source": [
    "# input_shape = kplus_xs.shape[1:]\n",
    "def create_extract_seq_model( input_shape,):\n",
    "  input_layer = x = Input(input_shape)\n",
    "  x = Conv1D(32, kernel_size=3, strides=1,)(x)\n",
    "  x = Conv1D(32, kernel_size=3, strides=1)(x)\n",
    "  # x = MaxPool1D()(x)\n",
    "  x = Conv1D(16, kernel_size=3, strides=1)(x)\n",
    "  x = Conv1D(16, kernel_size=3, strides=1)(x)\n",
    "\n",
    "  model = Model(input=input_layer, output=x)\n",
    "  return model"
   ]
  },
  {
   "cell_type": "code",
   "execution_count": 80,
   "metadata": {
    "colab": {
     "base_uri": "https://localhost:8080/",
     "height": 938
    },
    "colab_type": "code",
    "executionInfo": {
     "elapsed": 1181,
     "status": "ok",
     "timestamp": 1573276310563,
     "user": {
      "displayName": "ฉัตรชัย แซ่ตัน",
      "photoUrl": "",
      "userId": "04919101980351817114"
     },
     "user_tz": -420
    },
    "id": "0OJzJqFMOQKv",
    "outputId": "423cf3dd-7576-4a72-b386-8144e1cf65d4"
   },
   "outputs": [
    {
     "name": "stderr",
     "output_type": "stream",
     "text": [
      "/usr/local/lib/python3.6/dist-packages/ipykernel_launcher.py:9: UserWarning: Update your `Model` call to the Keras 2 API: `Model(inputs=Tensor(\"in..., outputs=Tensor(\"co...)`\n",
      "  if __name__ == '__main__':\n"
     ]
    },
    {
     "name": "stdout",
     "output_type": "stream",
     "text": [
      "Model: \"model_55\"\n",
      "__________________________________________________________________________________________________\n",
      "Layer (type)                    Output Shape         Param #     Connected to                     \n",
      "==================================================================================================\n",
      "input_41 (InputLayer)           (None, 26, 2)        0                                            \n",
      "__________________________________________________________________________________________________\n",
      "input_42 (InputLayer)           (None, 26, 2)        0                                            \n",
      "__________________________________________________________________________________________________\n",
      "conv1d_157 (Conv1D)             (None, 24, 32)       224         input_41[0][0]                   \n",
      "__________________________________________________________________________________________________\n",
      "conv1d_161 (Conv1D)             (None, 24, 32)       224         input_42[0][0]                   \n",
      "__________________________________________________________________________________________________\n",
      "conv1d_158 (Conv1D)             (None, 22, 32)       3104        conv1d_157[0][0]                 \n",
      "__________________________________________________________________________________________________\n",
      "conv1d_162 (Conv1D)             (None, 22, 32)       3104        conv1d_161[0][0]                 \n",
      "__________________________________________________________________________________________________\n",
      "conv1d_159 (Conv1D)             (None, 20, 16)       1552        conv1d_158[0][0]                 \n",
      "__________________________________________________________________________________________________\n",
      "conv1d_163 (Conv1D)             (None, 20, 16)       1552        conv1d_162[0][0]                 \n",
      "__________________________________________________________________________________________________\n",
      "conv1d_160 (Conv1D)             (None, 18, 16)       784         conv1d_159[0][0]                 \n",
      "__________________________________________________________________________________________________\n",
      "conv1d_164 (Conv1D)             (None, 18, 16)       784         conv1d_163[0][0]                 \n",
      "__________________________________________________________________________________________________\n",
      "concatenate_17 (Concatenate)    (None, 18, 32)       0           conv1d_160[0][0]                 \n",
      "                                                                 conv1d_164[0][0]                 \n",
      "__________________________________________________________________________________________________\n",
      "cu_dnngru_26 (CuDNNGRU)         (None, 18, 16)       2400        concatenate_17[0][0]             \n",
      "__________________________________________________________________________________________________\n",
      "activation_18 (Activation)      (None, 18, 16)       0           cu_dnngru_26[0][0]               \n",
      "__________________________________________________________________________________________________\n",
      "dropout_6 (Dropout)             (None, 18, 16)       0           activation_18[0][0]              \n",
      "__________________________________________________________________________________________________\n",
      "cu_dnngru_27 (CuDNNGRU)         (None, 18, 8)        624         dropout_6[0][0]                  \n",
      "__________________________________________________________________________________________________\n",
      "activation_19 (Activation)      (None, 18, 8)        0           cu_dnngru_27[0][0]               \n",
      "__________________________________________________________________________________________________\n",
      "dropout_7 (Dropout)             (None, 18, 8)        0           activation_19[0][0]              \n",
      "__________________________________________________________________________________________________\n",
      "cu_dnngru_28 (CuDNNGRU)         (None, 18, 4)        168         dropout_7[0][0]                  \n",
      "__________________________________________________________________________________________________\n",
      "activation_20 (Activation)      (None, 18, 4)        0           cu_dnngru_28[0][0]               \n",
      "__________________________________________________________________________________________________\n",
      "cu_dnngru_29 (CuDNNGRU)         (None, 1)            21          activation_20[0][0]              \n",
      "==================================================================================================\n",
      "Total params: 14,541\n",
      "Trainable params: 14,541\n",
      "Non-trainable params: 0\n",
      "__________________________________________________________________________________________________\n"
     ]
    },
    {
     "name": "stderr",
     "output_type": "stream",
     "text": [
      "/usr/local/lib/python3.6/dist-packages/ipykernel_launcher.py:15: UserWarning: Update your `Model` call to the Keras 2 API: `Model(inputs=[<tf.Tenso..., outputs=Tensor(\"cu...)`\n",
      "  from ipykernel import kernelapp as app\n"
     ]
    }
   ],
   "source": [
    "kplus_ex_model = create_extract_seq_model(kplus_xs.shape[1:])\n",
    "cc_ex_model = create_extract_seq_model(cc_weekly_xs.shape[1:])\n",
    "RNN = CuDNNGRU\n",
    "base_activation = 'tanh'\n",
    "x = Concatenate(axis=2)([kplus_ex_model.layers[-1].output, cc_ex_model.layers[-1].output])\n",
    "x = RNN(16, return_sequences=True)(x)\n",
    "x = Activation(base_activation)(x)\n",
    "x = Dropout(0.5)(x)\n",
    "x = RNN(8, return_sequences=True)(x)\n",
    "x = Activation(base_activation)(x)\n",
    "x = Dropout(0.5)(x)\n",
    "x = RNN(4, return_sequences=True)(x)\n",
    "x = Activation(base_activation)(x)\n",
    "x = RNN(1)(x)\n",
    "model = Model(inputs=[kplus_ex_model.input, cc_ex_model.input], output=x)\n",
    "model.compile(optimizer='adam', loss=SMAPE_loss(train_scaler))\n",
    "model.summary()"
   ]
  },
  {
   "cell_type": "code",
   "execution_count": 0,
   "metadata": {
    "colab": {},
    "colab_type": "code",
    "id": "nJXfRS8sQlIG"
   },
   "outputs": [],
   "source": [
    "kplus_x_train, kplus_x_val, cc_weekly_x_train, cc_weekly_x_val, y_train, y_val = train_test_split(kplus_xs, cc_weekly_xs, ys, test_size=0.2)"
   ]
  },
  {
   "cell_type": "code",
   "execution_count": 81,
   "metadata": {
    "colab": {
     "base_uri": "https://localhost:8080/",
     "height": 902
    },
    "colab_type": "code",
    "executionInfo": {
     "elapsed": 304891,
     "status": "error",
     "timestamp": 1573276633745,
     "user": {
      "displayName": "ฉัตรชัย แซ่ตัน",
      "photoUrl": "",
      "userId": "04919101980351817114"
     },
     "user_tz": -420
    },
    "id": "DF6XuhaBQ2ls",
    "outputId": "c79c22cc-9c05-40dc-e5ba-c1a28a346c30"
   },
   "outputs": [
    {
     "name": "stdout",
     "output_type": "stream",
     "text": [
      "Train on 24665 samples, validate on 6167 samples\n",
      "Epoch 1/100\n",
      "24665/24665 [==============================] - 28s 1ms/step - loss: 0.0904 - val_loss: 0.0882\n",
      "Epoch 1 | val-SMAPE: 91.17811043676244\n",
      "Epoch 2/100\n",
      "24665/24665 [==============================] - 27s 1ms/step - loss: 0.0844 - val_loss: 0.0883\n",
      "Epoch 2 | val-SMAPE: 91.17373155089567\n",
      "Epoch 3/100\n",
      "24665/24665 [==============================] - 27s 1ms/step - loss: 0.0839 - val_loss: 0.0856\n",
      "Epoch 3 | val-SMAPE: 91.44219342484473\n",
      "Epoch 4/100\n",
      "24665/24665 [==============================] - 27s 1ms/step - loss: 0.0834 - val_loss: 0.0890\n",
      "Epoch 4 | val-SMAPE: 91.1002321209555\n",
      "Epoch 5/100\n",
      "24665/24665 [==============================] - 27s 1ms/step - loss: 0.0826 - val_loss: 0.0844\n",
      "Epoch 5 | val-SMAPE: 91.56301390673849\n",
      "Epoch 6/100\n",
      "24665/24665 [==============================] - 27s 1ms/step - loss: 0.0826 - val_loss: 0.0859\n",
      "Epoch 6 | val-SMAPE: 91.40729368341903\n",
      "Epoch 7/100\n",
      "24665/24665 [==============================] - 27s 1ms/step - loss: 0.0820 - val_loss: 0.0842\n",
      "Epoch 7 | val-SMAPE: 91.58069358805464\n",
      "Epoch 8/100\n",
      "24665/24665 [==============================] - 27s 1ms/step - loss: 0.0818 - val_loss: 0.0840\n",
      "Epoch 8 | val-SMAPE: 91.60341196896599\n",
      "Epoch 9/100\n",
      "24665/24665 [==============================] - 27s 1ms/step - loss: 0.0815 - val_loss: 0.0879\n",
      "Epoch 9 | val-SMAPE: 91.20689914396445\n",
      "Epoch 10/100\n",
      "24665/24665 [==============================] - 27s 1ms/step - loss: 0.0817 - val_loss: 0.0854\n",
      "Epoch 10 | val-SMAPE: 91.45861892867788\n",
      "Epoch 11/100\n",
      "18912/24665 [======================>.......] - ETA: 5s - loss: 0.0806"
     ]
    },
    {
     "ename": "KeyboardInterrupt",
     "evalue": "ignored",
     "output_type": "error",
     "traceback": [
      "\u001b[0;31m---------------------------------------------------------------------------\u001b[0m",
      "\u001b[0;31mKeyboardInterrupt\u001b[0m                         Traceback (most recent call last)",
      "\u001b[0;32m<ipython-input-81-750e9c0b67f4>\u001b[0m in \u001b[0;36m<module>\u001b[0;34m()\u001b[0m\n\u001b[1;32m     13\u001b[0m                      ],\n\u001b[1;32m     14\u001b[0m           \u001b[0minitial_epoch\u001b[0m\u001b[0;34m=\u001b[0m\u001b[0;36m0\u001b[0m\u001b[0;34m,\u001b[0m\u001b[0;34m\u001b[0m\u001b[0;34m\u001b[0m\u001b[0m\n\u001b[0;32m---> 15\u001b[0;31m          epochs=100)\n\u001b[0m",
      "\u001b[0;32m/usr/local/lib/python3.6/dist-packages/keras/engine/training.py\u001b[0m in \u001b[0;36mfit\u001b[0;34m(self, x, y, batch_size, epochs, verbose, callbacks, validation_split, validation_data, shuffle, class_weight, sample_weight, initial_epoch, steps_per_epoch, validation_steps, validation_freq, max_queue_size, workers, use_multiprocessing, **kwargs)\u001b[0m\n\u001b[1;32m   1176\u001b[0m                                         \u001b[0msteps_per_epoch\u001b[0m\u001b[0;34m=\u001b[0m\u001b[0msteps_per_epoch\u001b[0m\u001b[0;34m,\u001b[0m\u001b[0;34m\u001b[0m\u001b[0;34m\u001b[0m\u001b[0m\n\u001b[1;32m   1177\u001b[0m                                         \u001b[0mvalidation_steps\u001b[0m\u001b[0;34m=\u001b[0m\u001b[0mvalidation_steps\u001b[0m\u001b[0;34m,\u001b[0m\u001b[0;34m\u001b[0m\u001b[0;34m\u001b[0m\u001b[0m\n\u001b[0;32m-> 1178\u001b[0;31m                                         validation_freq=validation_freq)\n\u001b[0m\u001b[1;32m   1179\u001b[0m \u001b[0;34m\u001b[0m\u001b[0m\n\u001b[1;32m   1180\u001b[0m     def evaluate(self,\n",
      "\u001b[0;32m/usr/local/lib/python3.6/dist-packages/keras/engine/training_arrays.py\u001b[0m in \u001b[0;36mfit_loop\u001b[0;34m(model, fit_function, fit_inputs, out_labels, batch_size, epochs, verbose, callbacks, val_function, val_inputs, shuffle, callback_metrics, initial_epoch, steps_per_epoch, validation_steps, validation_freq)\u001b[0m\n\u001b[1;32m    202\u001b[0m                     \u001b[0mins_batch\u001b[0m\u001b[0;34m[\u001b[0m\u001b[0mi\u001b[0m\u001b[0;34m]\u001b[0m \u001b[0;34m=\u001b[0m \u001b[0mins_batch\u001b[0m\u001b[0;34m[\u001b[0m\u001b[0mi\u001b[0m\u001b[0;34m]\u001b[0m\u001b[0;34m.\u001b[0m\u001b[0mtoarray\u001b[0m\u001b[0;34m(\u001b[0m\u001b[0;34m)\u001b[0m\u001b[0;34m\u001b[0m\u001b[0;34m\u001b[0m\u001b[0m\n\u001b[1;32m    203\u001b[0m \u001b[0;34m\u001b[0m\u001b[0m\n\u001b[0;32m--> 204\u001b[0;31m                 \u001b[0mouts\u001b[0m \u001b[0;34m=\u001b[0m \u001b[0mfit_function\u001b[0m\u001b[0;34m(\u001b[0m\u001b[0mins_batch\u001b[0m\u001b[0;34m)\u001b[0m\u001b[0;34m\u001b[0m\u001b[0;34m\u001b[0m\u001b[0m\n\u001b[0m\u001b[1;32m    205\u001b[0m                 \u001b[0mouts\u001b[0m \u001b[0;34m=\u001b[0m \u001b[0mto_list\u001b[0m\u001b[0;34m(\u001b[0m\u001b[0mouts\u001b[0m\u001b[0;34m)\u001b[0m\u001b[0;34m\u001b[0m\u001b[0;34m\u001b[0m\u001b[0m\n\u001b[1;32m    206\u001b[0m                 \u001b[0;32mfor\u001b[0m \u001b[0ml\u001b[0m\u001b[0;34m,\u001b[0m \u001b[0mo\u001b[0m \u001b[0;32min\u001b[0m \u001b[0mzip\u001b[0m\u001b[0;34m(\u001b[0m\u001b[0mout_labels\u001b[0m\u001b[0;34m,\u001b[0m \u001b[0mouts\u001b[0m\u001b[0;34m)\u001b[0m\u001b[0;34m:\u001b[0m\u001b[0;34m\u001b[0m\u001b[0;34m\u001b[0m\u001b[0m\n",
      "\u001b[0;32m/usr/local/lib/python3.6/dist-packages/keras/backend/tensorflow_backend.py\u001b[0m in \u001b[0;36m__call__\u001b[0;34m(self, inputs)\u001b[0m\n\u001b[1;32m   2977\u001b[0m                     \u001b[0;32mreturn\u001b[0m \u001b[0mself\u001b[0m\u001b[0;34m.\u001b[0m\u001b[0m_legacy_call\u001b[0m\u001b[0;34m(\u001b[0m\u001b[0minputs\u001b[0m\u001b[0;34m)\u001b[0m\u001b[0;34m\u001b[0m\u001b[0;34m\u001b[0m\u001b[0m\n\u001b[1;32m   2978\u001b[0m \u001b[0;34m\u001b[0m\u001b[0m\n\u001b[0;32m-> 2979\u001b[0;31m             \u001b[0;32mreturn\u001b[0m \u001b[0mself\u001b[0m\u001b[0;34m.\u001b[0m\u001b[0m_call\u001b[0m\u001b[0;34m(\u001b[0m\u001b[0minputs\u001b[0m\u001b[0;34m)\u001b[0m\u001b[0;34m\u001b[0m\u001b[0;34m\u001b[0m\u001b[0m\n\u001b[0m\u001b[1;32m   2980\u001b[0m         \u001b[0;32melse\u001b[0m\u001b[0;34m:\u001b[0m\u001b[0;34m\u001b[0m\u001b[0;34m\u001b[0m\u001b[0m\n\u001b[1;32m   2981\u001b[0m             \u001b[0;32mif\u001b[0m \u001b[0mpy_any\u001b[0m\u001b[0;34m(\u001b[0m\u001b[0mis_tensor\u001b[0m\u001b[0;34m(\u001b[0m\u001b[0mx\u001b[0m\u001b[0;34m)\u001b[0m \u001b[0;32mfor\u001b[0m \u001b[0mx\u001b[0m \u001b[0;32min\u001b[0m \u001b[0minputs\u001b[0m\u001b[0;34m)\u001b[0m\u001b[0;34m:\u001b[0m\u001b[0;34m\u001b[0m\u001b[0;34m\u001b[0m\u001b[0m\n",
      "\u001b[0;32m/usr/local/lib/python3.6/dist-packages/keras/backend/tensorflow_backend.py\u001b[0m in \u001b[0;36m_call\u001b[0;34m(self, inputs)\u001b[0m\n\u001b[1;32m   2935\u001b[0m             \u001b[0mfetched\u001b[0m \u001b[0;34m=\u001b[0m \u001b[0mself\u001b[0m\u001b[0;34m.\u001b[0m\u001b[0m_callable_fn\u001b[0m\u001b[0;34m(\u001b[0m\u001b[0;34m*\u001b[0m\u001b[0marray_vals\u001b[0m\u001b[0;34m,\u001b[0m \u001b[0mrun_metadata\u001b[0m\u001b[0;34m=\u001b[0m\u001b[0mself\u001b[0m\u001b[0;34m.\u001b[0m\u001b[0mrun_metadata\u001b[0m\u001b[0;34m)\u001b[0m\u001b[0;34m\u001b[0m\u001b[0;34m\u001b[0m\u001b[0m\n\u001b[1;32m   2936\u001b[0m         \u001b[0;32melse\u001b[0m\u001b[0;34m:\u001b[0m\u001b[0;34m\u001b[0m\u001b[0;34m\u001b[0m\u001b[0m\n\u001b[0;32m-> 2937\u001b[0;31m             \u001b[0mfetched\u001b[0m \u001b[0;34m=\u001b[0m \u001b[0mself\u001b[0m\u001b[0;34m.\u001b[0m\u001b[0m_callable_fn\u001b[0m\u001b[0;34m(\u001b[0m\u001b[0;34m*\u001b[0m\u001b[0marray_vals\u001b[0m\u001b[0;34m)\u001b[0m\u001b[0;34m\u001b[0m\u001b[0;34m\u001b[0m\u001b[0m\n\u001b[0m\u001b[1;32m   2938\u001b[0m         \u001b[0;32mreturn\u001b[0m \u001b[0mfetched\u001b[0m\u001b[0;34m[\u001b[0m\u001b[0;34m:\u001b[0m\u001b[0mlen\u001b[0m\u001b[0;34m(\u001b[0m\u001b[0mself\u001b[0m\u001b[0;34m.\u001b[0m\u001b[0moutputs\u001b[0m\u001b[0;34m)\u001b[0m\u001b[0;34m]\u001b[0m\u001b[0;34m\u001b[0m\u001b[0;34m\u001b[0m\u001b[0m\n\u001b[1;32m   2939\u001b[0m \u001b[0;34m\u001b[0m\u001b[0m\n",
      "\u001b[0;32m/usr/local/lib/python3.6/dist-packages/tensorflow_core/python/client/session.py\u001b[0m in \u001b[0;36m__call__\u001b[0;34m(self, *args, **kwargs)\u001b[0m\n\u001b[1;32m   1470\u001b[0m         ret = tf_session.TF_SessionRunCallable(self._session._session,\n\u001b[1;32m   1471\u001b[0m                                                \u001b[0mself\u001b[0m\u001b[0;34m.\u001b[0m\u001b[0m_handle\u001b[0m\u001b[0;34m,\u001b[0m \u001b[0margs\u001b[0m\u001b[0;34m,\u001b[0m\u001b[0;34m\u001b[0m\u001b[0;34m\u001b[0m\u001b[0m\n\u001b[0;32m-> 1472\u001b[0;31m                                                run_metadata_ptr)\n\u001b[0m\u001b[1;32m   1473\u001b[0m         \u001b[0;32mif\u001b[0m \u001b[0mrun_metadata\u001b[0m\u001b[0;34m:\u001b[0m\u001b[0;34m\u001b[0m\u001b[0;34m\u001b[0m\u001b[0m\n\u001b[1;32m   1474\u001b[0m           \u001b[0mproto_data\u001b[0m \u001b[0;34m=\u001b[0m \u001b[0mtf_session\u001b[0m\u001b[0;34m.\u001b[0m\u001b[0mTF_GetBuffer\u001b[0m\u001b[0;34m(\u001b[0m\u001b[0mrun_metadata_ptr\u001b[0m\u001b[0;34m)\u001b[0m\u001b[0;34m\u001b[0m\u001b[0;34m\u001b[0m\u001b[0m\n",
      "\u001b[0;31mKeyboardInterrupt\u001b[0m: "
     ]
    }
   ],
   "source": [
    "log_dir = 'logs/intersect_kplus_cc-weekly_split_gru5'\n",
    "\n",
    "model.fit([kplus_x_train, cc_weekly_x_train], y_train,\n",
    "          validation_data=([kplus_x_val, cc_weekly_x_val], y_val),\n",
    "          shuffle=True,\n",
    "          batch_size=32,\n",
    "          callbacks=[EvaluateSMAPE([kplus_x_val, cc_weekly_x_val], y_val, 'val', scaler_y=train_scaler, use_SMAPE_loss=True),\n",
    "                     TensorBoard(log_dir),\n",
    "                     ModelCheckpoint(log_dir + '/ep{epoch}-val_SMAPE:{val_SMAPE}.h5',\n",
    "                                     monitor='val_SMAPE',\n",
    "                                     mode='max',\n",
    "                                     save_best_only=True)\n",
    "                     ],\n",
    "          initial_epoch=0,\n",
    "         epochs=100)"
   ]
  },
  {
   "cell_type": "markdown",
   "metadata": {},
   "source": [
    "# Demographics"
   ]
  },
  {
   "cell_type": "code",
   "execution_count": 49,
   "metadata": {},
   "outputs": [],
   "source": [
    "val_ratio = 0.2\n",
    "ids = np.arange(1, 50001)\n",
    "val_ids = np.random.choice(ids, int(len(ids) * val_ratio), replace=False)\n",
    "train_ids = np.array(list(set(ids) - set(val_ids)))\n",
    "trainable_raw_demo = pd.merge(raw_demographics, train_set, on='id')\n",
    "\n",
    "train_raw_demo = trainable_raw_demo.set_index('id').loc[train_ids]\n",
    "val_raw_demo = trainable_raw_demo.set_index('id').loc[val_ids]"
   ]
  },
  {
   "cell_type": "code",
   "execution_count": 51,
   "metadata": {},
   "outputs": [
    {
     "name": "stdout",
     "output_type": "stream",
     "text": [
      "_________________________________________________________________\n",
      "Layer (type)                 Output Shape              Param #   \n",
      "=================================================================\n",
      "dense_17 (Dense)             (None, 20)                440       \n",
      "_________________________________________________________________\n",
      "dense_18 (Dense)             (None, 20)                420       \n",
      "_________________________________________________________________\n",
      "dense_19 (Dense)             (None, 10)                210       \n",
      "_________________________________________________________________\n",
      "dense_20 (Dense)             (None, 1)                 11        \n",
      "=================================================================\n",
      "Total params: 1,081\n",
      "Trainable params: 1,081\n",
      "Non-trainable params: 0\n",
      "_________________________________________________________________\n"
     ]
    }
   ],
   "source": [
    "demographic_model = Sequential()\n",
    "demographic_model.add(Dense(20, activation='relu', input_shape=(21,)))\n",
    "demographic_model.add(Dense(20, activation='relu'))\n",
    "demographic_model.add(Dense(10, activation='relu'))\n",
    "demographic_model.add(Dense(1))\n",
    "demographic_model.compile(optimizer='adam', loss=SMAPE_loss(train_scaler))\n",
    "demographic_model.summary()"
   ]
  },
  {
   "cell_type": "code",
   "execution_count": 65,
   "metadata": {},
   "outputs": [],
   "source": [
    "batch_size = 32\n",
    "abuntant_ratio = 0.6\n",
    "train_demo_gen = ensemble_ocp_demo_datagen(train_raw_demo, batch_size, abuntant_ratio)\n",
    "val_demo_gen = ensemble_ocp_demo_datagen(val_raw_demo, batch_size, abuntant_ratio)\n"
   ]
  },
  {
   "cell_type": "code",
   "execution_count": 66,
   "metadata": {},
   "outputs": [
    {
     "name": "stdout",
     "output_type": "stream",
     "text": [
      "Epoch 1/100\n",
      "1250/1250 [==============================] - 13s 10ms/step - loss: 0.1271 - val_loss: 0.1217\n",
      "Epoch 1 | val-SMAPE: 87.82860568175332\n",
      "Epoch 2/100\n",
      "1250/1250 [==============================] - 13s 10ms/step - loss: 0.1223 - val_loss: 0.1185\n",
      "Epoch 2 | val-SMAPE: 88.15168433774932\n",
      "Epoch 3/100\n",
      "1250/1250 [==============================] - 13s 10ms/step - loss: 0.1216 - val_loss: 0.1180\n",
      "Epoch 3 | val-SMAPE: 88.19581842384278\n",
      "Epoch 4/100\n",
      "1250/1250 [==============================] - 13s 10ms/step - loss: 0.1207 - val_loss: 0.1176\n",
      "Epoch 4 | val-SMAPE: 88.23506131839866\n",
      "Epoch 5/100\n",
      "1250/1250 [==============================] - 13s 10ms/step - loss: 0.1205 - val_loss: 0.1184\n",
      "Epoch 5 | val-SMAPE: 88.16278877381522\n",
      "Epoch 6/100\n",
      "1250/1250 [==============================] - 13s 10ms/step - loss: 0.1210 - val_loss: 0.1155\n",
      "Epoch 6 | val-SMAPE: 88.45215730655651\n",
      "Epoch 7/100\n",
      "1250/1250 [==============================] - 13s 10ms/step - loss: 0.1207 - val_loss: 0.1180\n",
      "Epoch 7 | val-SMAPE: 88.19523797704815\n",
      "Epoch 8/100\n",
      "1250/1250 [==============================] - 13s 10ms/step - loss: 0.1194 - val_loss: 0.1163\n",
      "Epoch 8 | val-SMAPE: 88.36623250554578\n",
      "Epoch 9/100\n",
      "1250/1250 [==============================] - 13s 10ms/step - loss: 0.1192 - val_loss: 0.1197\n",
      "Epoch 9 | val-SMAPE: 88.03233947986976\n",
      "Epoch 10/100\n",
      "1250/1250 [==============================] - 13s 10ms/step - loss: 0.1208 - val_loss: 0.1167\n",
      "Epoch 10 | val-SMAPE: 88.33000564183563\n",
      "Epoch 11/100\n",
      "1250/1250 [==============================] - 13s 10ms/step - loss: 0.1213 - val_loss: 0.1170\n",
      "Epoch 11 | val-SMAPE: 88.29999745059281\n",
      "Epoch 12/100\n",
      "1250/1250 [==============================] - 13s 10ms/step - loss: 0.1205 - val_loss: 0.1189\n",
      "Epoch 12 | val-SMAPE: 88.10704603480796\n",
      "Epoch 13/100\n",
      "1250/1250 [==============================] - 13s 10ms/step - loss: 0.1200 - val_loss: 0.1177\n",
      "Epoch 13 | val-SMAPE: 88.23289709189572\n",
      "Epoch 14/100\n",
      "1250/1250 [==============================] - 12s 10ms/step - loss: 0.1216 - val_loss: 0.1183\n",
      "Epoch 14 | val-SMAPE: 88.17221982141909\n",
      "Epoch 15/100\n",
      "1250/1250 [==============================] - 12s 10ms/step - loss: 0.1200 - val_loss: 0.1196\n",
      "Epoch 15 | val-SMAPE: 88.03597536917107\n",
      "Epoch 16/100\n",
      "1250/1250 [==============================] - 13s 10ms/step - loss: 0.1188 - val_loss: 0.1176\n",
      "Epoch 16 | val-SMAPE: 88.24444190145303\n",
      "Epoch 17/100\n",
      "1250/1250 [==============================] - 13s 10ms/step - loss: 0.1223 - val_loss: 0.1178\n",
      "Epoch 17 | val-SMAPE: 88.22289993508886\n",
      "Epoch 18/100\n",
      "1250/1250 [==============================] - 13s 10ms/step - loss: 0.1221 - val_loss: 0.1195\n",
      "Epoch 18 | val-SMAPE: 88.05346449550528\n",
      "Epoch 19/100\n",
      "1250/1250 [==============================] - 12s 10ms/step - loss: 0.1206 - val_loss: 0.1170\n",
      "Epoch 19 | val-SMAPE: 88.303649938928\n",
      "Epoch 20/100\n",
      "1250/1250 [==============================] - 13s 10ms/step - loss: 0.1214 - val_loss: 0.1153\n",
      "Epoch 20 | val-SMAPE: 88.47394843394748\n",
      "Epoch 21/100\n",
      "1250/1250 [==============================] - 13s 10ms/step - loss: 0.1211 - val_loss: 0.1191\n",
      "Epoch 21 | val-SMAPE: 88.09040472842753\n",
      "Epoch 22/100\n",
      "1250/1250 [==============================] - 12s 10ms/step - loss: 0.1198 - val_loss: 0.1177\n",
      "Epoch 22 | val-SMAPE: 88.22712508651118\n",
      "Epoch 23/100\n",
      "1250/1250 [==============================] - 13s 10ms/step - loss: 0.1201 - val_loss: 0.1165\n",
      "Epoch 23 | val-SMAPE: 88.34990680050582\n",
      "Epoch 24/100\n",
      "1250/1250 [==============================] - 12s 10ms/step - loss: 0.1206 - val_loss: 0.1166\n",
      "Epoch 24 | val-SMAPE: 88.34499916157279\n",
      "Epoch 25/100\n",
      "1250/1250 [==============================] - 13s 10ms/step - loss: 0.1203 - val_loss: 0.1196\n",
      "Epoch 25 | val-SMAPE: 88.03803997639662\n",
      "Epoch 26/100\n",
      "1250/1250 [==============================] - 13s 10ms/step - loss: 0.1220 - val_loss: 0.1203\n",
      "Epoch 26 | val-SMAPE: 87.96942687521761\n",
      "Epoch 27/100\n",
      "1250/1250 [==============================] - 13s 10ms/step - loss: 0.1207 - val_loss: 0.1166\n",
      "Epoch 27 | val-SMAPE: 88.33653153851628\n",
      "Epoch 28/100\n",
      "1250/1250 [==============================] - 12s 10ms/step - loss: 0.1196 - val_loss: 0.1171\n",
      "Epoch 28 | val-SMAPE: 88.29295560239981\n",
      "Epoch 29/100\n",
      "1250/1250 [==============================] - 12s 10ms/step - loss: 0.1194 - val_loss: 0.1200\n",
      "Epoch 29 | val-SMAPE: 87.99749463557815\n",
      "Epoch 30/100\n",
      "1250/1250 [==============================] - 13s 10ms/step - loss: 0.1200 - val_loss: 0.1172\n",
      "Epoch 30 | val-SMAPE: 88.28370392752382\n",
      "Epoch 31/100\n",
      "1250/1250 [==============================] - 13s 10ms/step - loss: 0.1213 - val_loss: 0.1152\n",
      "Epoch 31 | val-SMAPE: 88.48486053518569\n",
      "Epoch 32/100\n",
      "1250/1250 [==============================] - 12s 10ms/step - loss: 0.1189 - val_loss: 0.1178\n",
      "Epoch 32 | val-SMAPE: 88.21768034727145\n",
      "Epoch 33/100\n",
      "1250/1250 [==============================] - 13s 10ms/step - loss: 0.1194 - val_loss: 0.1168\n",
      "Epoch 33 | val-SMAPE: 88.32325778829937\n",
      "Epoch 34/100\n",
      "1250/1250 [==============================] - 13s 10ms/step - loss: 0.1195 - val_loss: 0.1164\n",
      "Epoch 34 | val-SMAPE: 88.35705124820845\n",
      "Epoch 35/100\n",
      "1250/1250 [==============================] - 13s 10ms/step - loss: 0.1196 - val_loss: 0.1181\n",
      "Epoch 35 | val-SMAPE: 88.19165257617641\n",
      "Epoch 36/100\n",
      "1250/1250 [==============================] - 12s 10ms/step - loss: 0.1219 - val_loss: 0.1129\n",
      "Epoch 36 | val-SMAPE: 88.71309425180348\n",
      "Epoch 37/100\n",
      "1250/1250 [==============================] - 13s 10ms/step - loss: 0.1188 - val_loss: 0.1186\n",
      "Epoch 37 | val-SMAPE: 88.14193769596899\n",
      "Epoch 38/100\n",
      "1250/1250 [==============================] - 13s 10ms/step - loss: 0.1198 - val_loss: 0.1175\n",
      "Epoch 38 | val-SMAPE: 88.24837040394927\n",
      "Epoch 39/100\n",
      "1250/1250 [==============================] - 13s 10ms/step - loss: 0.1204 - val_loss: 0.1188\n",
      "Epoch 39 | val-SMAPE: 88.12124812617324\n",
      "Epoch 40/100\n",
      "1250/1250 [==============================] - 13s 10ms/step - loss: 0.1212 - val_loss: 0.1187\n",
      "Epoch 40 | val-SMAPE: 88.13449862078787\n",
      "Epoch 41/100\n",
      "1250/1250 [==============================] - 13s 10ms/step - loss: 0.1209 - val_loss: 0.1170\n",
      "Epoch 41 | val-SMAPE: 88.29527279266563\n",
      "Epoch 42/100\n",
      "1250/1250 [==============================] - 13s 10ms/step - loss: 0.1220 - val_loss: 0.1164\n",
      "Epoch 42 | val-SMAPE: 88.35603416754076\n",
      "Epoch 43/100\n",
      "1250/1250 [==============================] - 13s 10ms/step - loss: 0.1208 - val_loss: 0.1159\n",
      "Epoch 43 | val-SMAPE: 88.41284485653233\n",
      "Epoch 44/100\n",
      "1250/1250 [==============================] - 13s 10ms/step - loss: 0.1200 - val_loss: 0.1195\n",
      "Epoch 44 | val-SMAPE: 88.04988913023128\n",
      "Epoch 45/100\n",
      "1250/1250 [==============================] - 13s 10ms/step - loss: 0.1211 - val_loss: 0.1151\n",
      "Epoch 45 | val-SMAPE: 88.4931940274934\n",
      "Epoch 46/100\n",
      "1250/1250 [==============================] - 13s 10ms/step - loss: 0.1210 - val_loss: 0.1174\n",
      "Epoch 46 | val-SMAPE: 88.26081750150293\n",
      "Epoch 47/100\n",
      "1250/1250 [==============================] - 12s 10ms/step - loss: 0.1187 - val_loss: 0.1191\n",
      "Epoch 47 | val-SMAPE: 88.08570881612981\n",
      "Epoch 48/100\n",
      "1250/1250 [==============================] - 13s 10ms/step - loss: 0.1222 - val_loss: 0.1174\n",
      "Epoch 48 | val-SMAPE: 88.25727603040062\n",
      "Epoch 49/100\n",
      "1250/1250 [==============================] - 13s 10ms/step - loss: 0.1215 - val_loss: 0.1197\n",
      "Epoch 49 | val-SMAPE: 88.03408338497273\n",
      "Epoch 50/100\n",
      "1250/1250 [==============================] - 13s 10ms/step - loss: 0.1213 - val_loss: 0.1187\n",
      "Epoch 50 | val-SMAPE: 88.12932121233106\n",
      "Epoch 51/100\n",
      "1250/1250 [==============================] - 13s 10ms/step - loss: 0.1197 - val_loss: 0.1195\n",
      "Epoch 51 | val-SMAPE: 88.04764362553564\n",
      "Epoch 52/100\n",
      "1250/1250 [==============================] - 13s 10ms/step - loss: 0.1208 - val_loss: 0.1166\n",
      "Epoch 52 | val-SMAPE: 88.33934691949533\n",
      "Epoch 53/100\n",
      "1250/1250 [==============================] - 13s 10ms/step - loss: 0.1198 - val_loss: 0.1194\n",
      "Epoch 53 | val-SMAPE: 88.06446934691988\n",
      "Epoch 54/100\n",
      "1250/1250 [==============================] - 13s 10ms/step - loss: 0.1212 - val_loss: 0.1167\n",
      "Epoch 54 | val-SMAPE: 88.32586345692667\n",
      "Epoch 55/100\n",
      "1250/1250 [==============================] - 13s 10ms/step - loss: 0.1218 - val_loss: 0.1185\n",
      "Epoch 55 | val-SMAPE: 88.14763482421255\n",
      "Epoch 56/100\n",
      "1250/1250 [==============================] - 13s 10ms/step - loss: 0.1204 - val_loss: 0.1148\n",
      "Epoch 56 | val-SMAPE: 88.51891068192438\n",
      "Epoch 57/100\n"
     ]
    },
    {
     "name": "stdout",
     "output_type": "stream",
     "text": [
      "1250/1250 [==============================] - 13s 10ms/step - loss: 0.1213 - val_loss: 0.1185\n",
      "Epoch 57 | val-SMAPE: 88.15097370280478\n",
      "Epoch 58/100\n",
      "1250/1250 [==============================] - 12s 10ms/step - loss: 0.1204 - val_loss: 0.1176\n",
      "Epoch 58 | val-SMAPE: 88.23680862999306\n",
      "Epoch 59/100\n",
      "1250/1250 [==============================] - 13s 10ms/step - loss: 0.1219 - val_loss: 0.1180\n",
      "Epoch 59 | val-SMAPE: 88.1976147982268\n",
      "Epoch 60/100\n",
      "1250/1250 [==============================] - 12s 10ms/step - loss: 0.1210 - val_loss: 0.1176\n",
      "Epoch 60 | val-SMAPE: 88.23899977052442\n",
      "Epoch 61/100\n",
      "1250/1250 [==============================] - 13s 10ms/step - loss: 0.1207 - val_loss: 0.1189\n",
      "Epoch 61 | val-SMAPE: 88.11243503736571\n",
      "Epoch 62/100\n",
      "1250/1250 [==============================] - 13s 10ms/step - loss: 0.1206 - val_loss: 0.1202\n",
      "Epoch 62 | val-SMAPE: 87.9786197645351\n",
      "Epoch 63/100\n",
      "1250/1250 [==============================] - 13s 10ms/step - loss: 0.1198 - val_loss: 0.1168\n",
      "Epoch 63 | val-SMAPE: 88.31711737319637\n",
      "Epoch 64/100\n",
      "1250/1250 [==============================] - 13s 10ms/step - loss: 0.1220 - val_loss: 0.1175\n",
      "Epoch 64 | val-SMAPE: 88.24925313775356\n",
      "Epoch 65/100\n",
      "1250/1250 [==============================] - 13s 10ms/step - loss: 0.1202 - val_loss: 0.1181\n",
      "Epoch 65 | val-SMAPE: 88.19314089532082\n",
      "Epoch 66/100\n",
      "1250/1250 [==============================] - 13s 10ms/step - loss: 0.1205 - val_loss: 0.1185\n",
      "Epoch 66 | val-SMAPE: 88.14788875528254\n",
      "Epoch 67/100\n",
      "1250/1250 [==============================] - 13s 10ms/step - loss: 0.1207 - val_loss: 0.1147\n",
      "Epoch 67 | val-SMAPE: 88.53126082760402\n",
      "Epoch 68/100\n",
      "1250/1250 [==============================] - 13s 10ms/step - loss: 0.1214 - val_loss: 0.1198\n",
      "Epoch 68 | val-SMAPE: 88.02405627898108\n",
      "Epoch 69/100\n",
      "1250/1250 [==============================] - 13s 10ms/step - loss: 0.1189 - val_loss: 0.1196\n",
      "Epoch 69 | val-SMAPE: 88.03596856215826\n",
      "Epoch 70/100\n",
      "1250/1250 [==============================] - 13s 10ms/step - loss: 0.1201 - val_loss: 0.1192\n",
      "Epoch 70 | val-SMAPE: 88.07790323447149\n",
      "Epoch 71/100\n",
      "1250/1250 [==============================] - 13s 10ms/step - loss: 0.1204 - val_loss: 0.1175\n",
      "Epoch 71 | val-SMAPE: 88.2453227475381\n",
      "Epoch 72/100\n",
      " 799/1250 [==================>...........] - ETA: 3s - loss: 0.1212"
     ]
    },
    {
     "ename": "KeyboardInterrupt",
     "evalue": "",
     "output_type": "error",
     "traceback": [
      "\u001b[0;31m---------------------------------------------------------------------------\u001b[0m",
      "\u001b[0;31mKeyboardInterrupt\u001b[0m                         Traceback (most recent call last)",
      "\u001b[0;32m<ipython-input-66-0ec005d636cb>\u001b[0m in \u001b[0;36m<module>\u001b[0;34m\u001b[0m\n\u001b[1;32m     13\u001b[0m                                 ],\n\u001b[1;32m     14\u001b[0m                                 \u001b[0minitial_epoch\u001b[0m\u001b[0;34m=\u001b[0m\u001b[0;36m0\u001b[0m\u001b[0;34m,\u001b[0m\u001b[0;34m\u001b[0m\u001b[0;34m\u001b[0m\u001b[0m\n\u001b[0;32m---> 15\u001b[0;31m                                 \u001b[0mepochs\u001b[0m\u001b[0;34m=\u001b[0m\u001b[0;36m100\u001b[0m\u001b[0;34m\u001b[0m\u001b[0;34m\u001b[0m\u001b[0m\n\u001b[0m\u001b[1;32m     16\u001b[0m \u001b[0;34m\u001b[0m\u001b[0m\n\u001b[1;32m     17\u001b[0m                                )\n",
      "\u001b[0;32m/usr/local/lib/python3.7/site-packages/keras/legacy/interfaces.py\u001b[0m in \u001b[0;36mwrapper\u001b[0;34m(*args, **kwargs)\u001b[0m\n\u001b[1;32m     89\u001b[0m                 warnings.warn('Update your `' + object_name +\n\u001b[1;32m     90\u001b[0m                               '` call to the Keras 2 API: ' + signature, stacklevel=2)\n\u001b[0;32m---> 91\u001b[0;31m             \u001b[0;32mreturn\u001b[0m \u001b[0mfunc\u001b[0m\u001b[0;34m(\u001b[0m\u001b[0;34m*\u001b[0m\u001b[0margs\u001b[0m\u001b[0;34m,\u001b[0m \u001b[0;34m**\u001b[0m\u001b[0mkwargs\u001b[0m\u001b[0;34m)\u001b[0m\u001b[0;34m\u001b[0m\u001b[0;34m\u001b[0m\u001b[0m\n\u001b[0m\u001b[1;32m     92\u001b[0m         \u001b[0mwrapper\u001b[0m\u001b[0;34m.\u001b[0m\u001b[0m_original_function\u001b[0m \u001b[0;34m=\u001b[0m \u001b[0mfunc\u001b[0m\u001b[0;34m\u001b[0m\u001b[0;34m\u001b[0m\u001b[0m\n\u001b[1;32m     93\u001b[0m         \u001b[0;32mreturn\u001b[0m \u001b[0mwrapper\u001b[0m\u001b[0;34m\u001b[0m\u001b[0;34m\u001b[0m\u001b[0m\n",
      "\u001b[0;32m/usr/local/lib/python3.7/site-packages/keras/models.py\u001b[0m in \u001b[0;36mfit_generator\u001b[0;34m(self, generator, steps_per_epoch, epochs, verbose, callbacks, validation_data, validation_steps, class_weight, max_queue_size, workers, use_multiprocessing, shuffle, initial_epoch)\u001b[0m\n\u001b[1;32m   1313\u001b[0m                                         \u001b[0muse_multiprocessing\u001b[0m\u001b[0;34m=\u001b[0m\u001b[0muse_multiprocessing\u001b[0m\u001b[0;34m,\u001b[0m\u001b[0;34m\u001b[0m\u001b[0;34m\u001b[0m\u001b[0m\n\u001b[1;32m   1314\u001b[0m                                         \u001b[0mshuffle\u001b[0m\u001b[0;34m=\u001b[0m\u001b[0mshuffle\u001b[0m\u001b[0;34m,\u001b[0m\u001b[0;34m\u001b[0m\u001b[0;34m\u001b[0m\u001b[0m\n\u001b[0;32m-> 1315\u001b[0;31m                                         initial_epoch=initial_epoch)\n\u001b[0m\u001b[1;32m   1316\u001b[0m \u001b[0;34m\u001b[0m\u001b[0m\n\u001b[1;32m   1317\u001b[0m     \u001b[0;34m@\u001b[0m\u001b[0minterfaces\u001b[0m\u001b[0;34m.\u001b[0m\u001b[0mlegacy_generator_methods_support\u001b[0m\u001b[0;34m\u001b[0m\u001b[0;34m\u001b[0m\u001b[0m\n",
      "\u001b[0;32m/usr/local/lib/python3.7/site-packages/keras/legacy/interfaces.py\u001b[0m in \u001b[0;36mwrapper\u001b[0;34m(*args, **kwargs)\u001b[0m\n\u001b[1;32m     89\u001b[0m                 warnings.warn('Update your `' + object_name +\n\u001b[1;32m     90\u001b[0m                               '` call to the Keras 2 API: ' + signature, stacklevel=2)\n\u001b[0;32m---> 91\u001b[0;31m             \u001b[0;32mreturn\u001b[0m \u001b[0mfunc\u001b[0m\u001b[0;34m(\u001b[0m\u001b[0;34m*\u001b[0m\u001b[0margs\u001b[0m\u001b[0;34m,\u001b[0m \u001b[0;34m**\u001b[0m\u001b[0mkwargs\u001b[0m\u001b[0;34m)\u001b[0m\u001b[0;34m\u001b[0m\u001b[0;34m\u001b[0m\u001b[0m\n\u001b[0m\u001b[1;32m     92\u001b[0m         \u001b[0mwrapper\u001b[0m\u001b[0;34m.\u001b[0m\u001b[0m_original_function\u001b[0m \u001b[0;34m=\u001b[0m \u001b[0mfunc\u001b[0m\u001b[0;34m\u001b[0m\u001b[0;34m\u001b[0m\u001b[0m\n\u001b[1;32m     93\u001b[0m         \u001b[0;32mreturn\u001b[0m \u001b[0mwrapper\u001b[0m\u001b[0;34m\u001b[0m\u001b[0;34m\u001b[0m\u001b[0m\n",
      "\u001b[0;32m/usr/local/lib/python3.7/site-packages/keras/engine/training.py\u001b[0m in \u001b[0;36mfit_generator\u001b[0;34m(self, generator, steps_per_epoch, epochs, verbose, callbacks, validation_data, validation_steps, class_weight, max_queue_size, workers, use_multiprocessing, shuffle, initial_epoch)\u001b[0m\n\u001b[1;32m   2192\u001b[0m                 \u001b[0mbatch_index\u001b[0m \u001b[0;34m=\u001b[0m \u001b[0;36m0\u001b[0m\u001b[0;34m\u001b[0m\u001b[0;34m\u001b[0m\u001b[0m\n\u001b[1;32m   2193\u001b[0m                 \u001b[0;32mwhile\u001b[0m \u001b[0msteps_done\u001b[0m \u001b[0;34m<\u001b[0m \u001b[0msteps_per_epoch\u001b[0m\u001b[0;34m:\u001b[0m\u001b[0;34m\u001b[0m\u001b[0;34m\u001b[0m\u001b[0m\n\u001b[0;32m-> 2194\u001b[0;31m                     \u001b[0mgenerator_output\u001b[0m \u001b[0;34m=\u001b[0m \u001b[0mnext\u001b[0m\u001b[0;34m(\u001b[0m\u001b[0moutput_generator\u001b[0m\u001b[0;34m)\u001b[0m\u001b[0;34m\u001b[0m\u001b[0;34m\u001b[0m\u001b[0m\n\u001b[0m\u001b[1;32m   2195\u001b[0m \u001b[0;34m\u001b[0m\u001b[0m\n\u001b[1;32m   2196\u001b[0m                     \u001b[0;32mif\u001b[0m \u001b[0;32mnot\u001b[0m \u001b[0mhasattr\u001b[0m\u001b[0;34m(\u001b[0m\u001b[0mgenerator_output\u001b[0m\u001b[0;34m,\u001b[0m \u001b[0;34m'__len__'\u001b[0m\u001b[0;34m)\u001b[0m\u001b[0;34m:\u001b[0m\u001b[0;34m\u001b[0m\u001b[0;34m\u001b[0m\u001b[0m\n",
      "\u001b[0;32m/usr/local/lib/python3.7/site-packages/keras/utils/data_utils.py\u001b[0m in \u001b[0;36mget\u001b[0;34m(self)\u001b[0m\n\u001b[1;32m    785\u001b[0m                     \u001b[0;32mraise\u001b[0m \u001b[0mStopIteration\u001b[0m\u001b[0;34m(\u001b[0m\u001b[0;34m)\u001b[0m\u001b[0;34m\u001b[0m\u001b[0;34m\u001b[0m\u001b[0m\n\u001b[1;32m    786\u001b[0m                 \u001b[0;32melse\u001b[0m\u001b[0;34m:\u001b[0m\u001b[0;34m\u001b[0m\u001b[0;34m\u001b[0m\u001b[0m\n\u001b[0;32m--> 787\u001b[0;31m                     \u001b[0mtime\u001b[0m\u001b[0;34m.\u001b[0m\u001b[0msleep\u001b[0m\u001b[0;34m(\u001b[0m\u001b[0mself\u001b[0m\u001b[0;34m.\u001b[0m\u001b[0mwait_time\u001b[0m\u001b[0;34m)\u001b[0m\u001b[0;34m\u001b[0m\u001b[0;34m\u001b[0m\u001b[0m\n\u001b[0m\u001b[1;32m    788\u001b[0m \u001b[0;34m\u001b[0m\u001b[0m\n\u001b[1;32m    789\u001b[0m         \u001b[0;31m# Make sure to rethrow the first exception in the queue, if any\u001b[0m\u001b[0;34m\u001b[0m\u001b[0;34m\u001b[0m\u001b[0;34m\u001b[0m\u001b[0m\n",
      "\u001b[0;31mKeyboardInterrupt\u001b[0m: "
     ]
    }
   ],
   "source": [
    "\n",
    "log_dir = 'logs/demo_ensemble_dense'\n",
    "demographic_model.fit_generator(train_demo_gen,\n",
    "                                steps_per_epoch=len(train_raw_demo)//batch_size,\n",
    "                                validation_data=val_demo_gen,\n",
    "                                validation_steps=len(val_raw_demo)//batch_size,\n",
    "                                callbacks=[\n",
    "                                    EvaluateSMAPE(None, None, 'val', scaler_y=train_scaler, use_SMAPE_loss=True),\n",
    "                                     TensorBoard(log_dir),\n",
    "                                     ModelCheckpoint(log_dir + '/ep{epoch}-val_SMAPE:{val_SMAPE}.h5',\n",
    "                                                    monitor='val_SMAPE',\n",
    "                                                    mode='max',)\n",
    "                                ],\n",
    "                                initial_epoch=0,\n",
    "                                epochs=100\n",
    "                                \n",
    "                               )"
   ]
  },
  {
   "cell_type": "markdown",
   "metadata": {
    "colab_type": "text",
    "id": "vshLkYbl-te3"
   },
   "source": [
    "# DEMOGRAPHIC + CC + KPLUS"
   ]
  },
  {
   "cell_type": "code",
   "execution_count": 0,
   "metadata": {
    "colab": {},
    "colab_type": "code",
    "id": "DIJQPvZt-te-"
   },
   "outputs": [],
   "source": [
    "\n",
    "def create_all_x_data(ids):\n",
    "    ids_df = pd.DataFrame(ids, columns=['id'])\n",
    "    train_kplus = pd.merge(scaled_kplus, ids_df, on='id', how='right')\n",
    "    train_cc_persons = pd.merge(cc_persons, ids_df, on='id', how='right')\n",
    "\n",
    "    padding_value = float(-100)\n",
    "    kplus_padding = cc_padding = padding_value\n",
    "    kplus_padding = kplus_scaler.transform([[0,0]])\n",
    "    cc_padding = cc_scaler.transform([[0,0]])\n",
    "    kplus_xs = create_daily_kplus(train_kplus, kplus_padding)\n",
    "    cc_persons_xs = create_credit_seq(train_cc_persons, cc_padding)\n",
    "    transaction_xs = np.concatenate((kplus_xs, cc_persons_xs), axis=2)\n",
    "\n",
    "    demographic_xs = create_demographic_data(raw_demographics.set_index('id').loc[ids])\n",
    "\n",
    "\n",
    "    return demographic_xs, transaction_xs"
   ]
  },
  {
   "cell_type": "code",
   "execution_count": 0,
   "metadata": {
    "colab": {},
    "colab_type": "code",
    "id": "67zravLe-te_"
   },
   "outputs": [],
   "source": [
    "def create_all_y_data(ids):\n",
    "    return scaled_train_set.loc[ids]['income'].to_numpy()"
   ]
  },
  {
   "cell_type": "code",
   "execution_count": 0,
   "metadata": {
    "colab": {},
    "colab_type": "code",
    "id": "y3h82Bs7CBd0"
   },
   "outputs": [],
   "source": [
    "ids = train_set['id'].to_list()\n",
    "demographic_xs, transaction_xs = create_all_x_data(ids)\n",
    "ys = create_all_y_data(ids)"
   ]
  },
  {
   "cell_type": "code",
   "execution_count": 0,
   "metadata": {
    "colab": {
     "base_uri": "https://localhost:8080/",
     "height": 34
    },
    "colab_type": "code",
    "executionInfo": {
     "elapsed": 250108,
     "status": "ok",
     "timestamp": 1572969834072,
     "user": {
      "displayName": "ฉัตรชัย แซ่ตัน",
      "photoUrl": "",
      "userId": "04919101980351817114"
     },
     "user_tz": -420
    },
    "id": "_US0QSzx-tfA",
    "outputId": "06f50faf-a3f2-451b-ceed-ab83ed23ffad"
   },
   "outputs": [
    {
     "data": {
      "text/plain": [
       "((50000, 21), (50000, 181, 4), (50000,))"
      ]
     },
     "execution_count": 17,
     "metadata": {
      "tags": []
     },
     "output_type": "execute_result"
    }
   ],
   "source": [
    "demographic_xs.shape, transaction_xs.shape, ys.shape"
   ]
  },
  {
   "cell_type": "code",
   "execution_count": 0,
   "metadata": {
    "colab": {},
    "colab_type": "code",
    "id": "1t63vSc9-tfC"
   },
   "outputs": [],
   "source": [
    "demo_x_train, demo_x_val, transaction_x_train, transaction_x_val, y_train, y_val \\\n",
    "= train_test_split(demographic_xs, transaction_xs, ys, test_size=0.2)"
   ]
  },
  {
   "cell_type": "code",
   "execution_count": 0,
   "metadata": {
    "colab": {
     "base_uri": "https://localhost:8080/",
     "height": 34
    },
    "colab_type": "code",
    "executionInfo": {
     "elapsed": 244756,
     "status": "ok",
     "timestamp": 1572969834073,
     "user": {
      "displayName": "ฉัตรชัย แซ่ตัน",
      "photoUrl": "",
      "userId": "04919101980351817114"
     },
     "user_tz": -420
    },
    "id": "-5_v3tqYnYJQ",
    "outputId": "1c584a54-f0e2-43d0-915c-c3a7be6e8f70"
   },
   "outputs": [
    {
     "data": {
      "text/plain": [
       "(40000, 21)"
      ]
     },
     "execution_count": 48,
     "metadata": {
      "tags": []
     },
     "output_type": "execute_result"
    }
   ],
   "source": [
    "demo_x_train.shape"
   ]
  },
  {
   "cell_type": "code",
   "execution_count": 0,
   "metadata": {
    "colab": {},
    "colab_type": "code",
    "id": "06v8MoRW-tfF"
   },
   "outputs": [],
   "source": [
    "transaction_model = load_model('/content/logs/kplus_cc_conv_maxpool3/ep14-val_SMAPE:91.58859339541026.h5'\n",
    "                               , custom_objects={'loss_func':SMAPE_loss(train_scaler)})"
   ]
  },
  {
   "cell_type": "code",
   "execution_count": 0,
   "metadata": {
    "colab": {
     "base_uri": "https://localhost:8080/",
     "height": 663
    },
    "colab_type": "code",
    "executionInfo": {
     "elapsed": 2270,
     "status": "ok",
     "timestamp": 1572969948923,
     "user": {
      "displayName": "ฉัตรชัย แซ่ตัน",
      "photoUrl": "",
      "userId": "04919101980351817114"
     },
     "user_tz": -420
    },
    "id": "VZVh8tCU-tfG",
    "outputId": "2c33c650-36a2-4198-fdf2-79bee404e8f2"
   },
   "outputs": [
    {
     "name": "stdout",
     "output_type": "stream",
     "text": [
      "Model: \"sequential_7\"\n",
      "_________________________________________________________________\n",
      "Layer (type)                 Output Shape              Param #   \n",
      "=================================================================\n",
      "conv1d_22 (Conv1D)           (None, 179, 64)           832       \n",
      "_________________________________________________________________\n",
      "conv1d_23 (Conv1D)           (None, 177, 64)           12352     \n",
      "_________________________________________________________________\n",
      "max_pooling1d_13 (MaxPooling (None, 88, 64)            0         \n",
      "_________________________________________________________________\n",
      "dropout_1 (Dropout)          (None, 88, 64)            0         \n",
      "_________________________________________________________________\n",
      "conv1d_24 (Conv1D)           (None, 86, 16)            3088      \n",
      "_________________________________________________________________\n",
      "conv1d_25 (Conv1D)           (None, 84, 16)            784       \n",
      "_________________________________________________________________\n",
      "max_pooling1d_14 (MaxPooling (None, 42, 16)            0         \n",
      "_________________________________________________________________\n",
      "dropout_2 (Dropout)          (None, 42, 16)            0         \n",
      "_________________________________________________________________\n",
      "conv1d_26 (Conv1D)           (None, 40, 4)             196       \n",
      "_________________________________________________________________\n",
      "conv1d_27 (Conv1D)           (None, 38, 4)             52        \n",
      "_________________________________________________________________\n",
      "max_pooling1d_15 (MaxPooling (None, 19, 4)             0         \n",
      "_________________________________________________________________\n",
      "dropout_3 (Dropout)          (None, 19, 4)             0         \n",
      "_________________________________________________________________\n",
      "flatten_7 (Flatten)          (None, 76)                0         \n",
      "_________________________________________________________________\n",
      "dense_13 (Dense)             (None, 40)                3080      \n",
      "_________________________________________________________________\n",
      "dense_14 (Dense)             (None, 1)                 41        \n",
      "=================================================================\n",
      "Total params: 20,425\n",
      "Trainable params: 20,425\n",
      "Non-trainable params: 0\n",
      "_________________________________________________________________\n"
     ]
    }
   ],
   "source": [
    "transaction_model.summary()"
   ]
  },
  {
   "cell_type": "code",
   "execution_count": 0,
   "metadata": {
    "colab": {},
    "colab_type": "code",
    "id": "vt1ixAUQ-tfI"
   },
   "outputs": [],
   "source": [
    "for layer in transaction_model.layers:\n",
    "    layer.trainable = True"
   ]
  },
  {
   "cell_type": "code",
   "execution_count": 0,
   "metadata": {
    "colab": {},
    "colab_type": "code",
    "id": "c07cJw2A-tfK"
   },
   "outputs": [],
   "source": [
    "demographic_model = Sequential()\n",
    "demographic_model.add(Dense(20, activation='relu', input_shape=(21,)))\n",
    "demographic_model.add(Dense(20, activation='relu'))\n",
    "demographic_model.add(Dense(10, activation='relu'))\n",
    "demographic_model.add(Dense(1))"
   ]
  },
  {
   "cell_type": "code",
   "execution_count": 0,
   "metadata": {
    "colab": {
     "base_uri": "https://localhost:8080/",
     "height": 289
    },
    "colab_type": "code",
    "executionInfo": {
     "elapsed": 1121,
     "status": "ok",
     "timestamp": 1572969992593,
     "user": {
      "displayName": "ฉัตรชัย แซ่ตัน",
      "photoUrl": "",
      "userId": "04919101980351817114"
     },
     "user_tz": -420
    },
    "id": "MWXMTjR6-tfL",
    "outputId": "4cbda4ed-9711-4cdb-996a-8e559a29b3e1"
   },
   "outputs": [
    {
     "name": "stdout",
     "output_type": "stream",
     "text": [
      "Model: \"sequential_8\"\n",
      "_________________________________________________________________\n",
      "Layer (type)                 Output Shape              Param #   \n",
      "=================================================================\n",
      "dense_15 (Dense)             (None, 20)                440       \n",
      "_________________________________________________________________\n",
      "dense_16 (Dense)             (None, 20)                420       \n",
      "_________________________________________________________________\n",
      "dense_17 (Dense)             (None, 10)                210       \n",
      "_________________________________________________________________\n",
      "dense_18 (Dense)             (None, 1)                 11        \n",
      "=================================================================\n",
      "Total params: 1,081\n",
      "Trainable params: 1,081\n",
      "Non-trainable params: 0\n",
      "_________________________________________________________________\n"
     ]
    }
   ],
   "source": [
    "demographic_model.compile(optimizer='adam', loss=SMAPE_loss(train_scaler))\n",
    "demographic_model.summary()"
   ]
  },
  {
   "cell_type": "code",
   "execution_count": 0,
   "metadata": {
    "colab": {
     "base_uri": "https://localhost:8080/",
     "height": 630
    },
    "colab_type": "code",
    "executionInfo": {
     "elapsed": 45966,
     "status": "error",
     "timestamp": 1572970049833,
     "user": {
      "displayName": "ฉัตรชัย แซ่ตัน",
      "photoUrl": "",
      "userId": "04919101980351817114"
     },
     "user_tz": -420
    },
    "id": "2Gl0YmZOmunI",
    "outputId": "6aeb4a77-afc8-41b0-96d4-7471ec093f48"
   },
   "outputs": [
    {
     "name": "stdout",
     "output_type": "stream",
     "text": [
      "Train on 40000 samples, validate on 10000 samples\n",
      "Epoch 1/100\n",
      "40000/40000 [==============================] - 7s 171us/step - loss: 0.1056 - val_loss: 0.1045\n",
      "Epoch 2/100\n",
      "40000/40000 [==============================] - 6s 143us/step - loss: 0.1027 - val_loss: 0.1043\n",
      "Epoch 3/100\n",
      "40000/40000 [==============================] - 6s 144us/step - loss: 0.1027 - val_loss: 0.1036\n",
      "Epoch 4/100\n",
      "40000/40000 [==============================] - 6s 144us/step - loss: 0.1025 - val_loss: 0.1038\n",
      "Epoch 5/100\n",
      "40000/40000 [==============================] - 6s 145us/step - loss: 0.1024 - val_loss: 0.1037\n",
      "Epoch 6/100\n",
      "40000/40000 [==============================] - 6s 143us/step - loss: 0.1024 - val_loss: 0.1039\n",
      "Epoch 7/100\n",
      "40000/40000 [==============================] - 6s 144us/step - loss: 0.1024 - val_loss: 0.1039\n",
      "Epoch 8/100\n",
      "21440/40000 [===============>..............] - ETA: 2s - loss: 0.1016"
     ]
    },
    {
     "ename": "KeyboardInterrupt",
     "evalue": "ignored",
     "output_type": "error",
     "traceback": [
      "\u001b[0;31m---------------------------------------------------------------------------\u001b[0m",
      "\u001b[0;31mKeyboardInterrupt\u001b[0m                         Traceback (most recent call last)",
      "\u001b[0;32m<ipython-input-53-fa90e08b5460>\u001b[0m in \u001b[0;36m<module>\u001b[0;34m()\u001b[0m\n\u001b[1;32m      1\u001b[0m demographic_model.fit(demo_x_train, y_train,\n\u001b[1;32m      2\u001b[0m           \u001b[0mvalidation_data\u001b[0m\u001b[0;34m=\u001b[0m\u001b[0;34m(\u001b[0m\u001b[0mdemo_x_val\u001b[0m\u001b[0;34m,\u001b[0m \u001b[0my_val\u001b[0m\u001b[0;34m)\u001b[0m\u001b[0;34m,\u001b[0m\u001b[0;34m\u001b[0m\u001b[0;34m\u001b[0m\u001b[0m\n\u001b[0;32m----> 3\u001b[0;31m           epochs=100)\n\u001b[0m",
      "\u001b[0;32m/usr/local/lib/python3.6/dist-packages/keras/engine/training.py\u001b[0m in \u001b[0;36mfit\u001b[0;34m(self, x, y, batch_size, epochs, verbose, callbacks, validation_split, validation_data, shuffle, class_weight, sample_weight, initial_epoch, steps_per_epoch, validation_steps, validation_freq, max_queue_size, workers, use_multiprocessing, **kwargs)\u001b[0m\n\u001b[1;32m   1176\u001b[0m                                         \u001b[0msteps_per_epoch\u001b[0m\u001b[0;34m=\u001b[0m\u001b[0msteps_per_epoch\u001b[0m\u001b[0;34m,\u001b[0m\u001b[0;34m\u001b[0m\u001b[0;34m\u001b[0m\u001b[0m\n\u001b[1;32m   1177\u001b[0m                                         \u001b[0mvalidation_steps\u001b[0m\u001b[0;34m=\u001b[0m\u001b[0mvalidation_steps\u001b[0m\u001b[0;34m,\u001b[0m\u001b[0;34m\u001b[0m\u001b[0;34m\u001b[0m\u001b[0m\n\u001b[0;32m-> 1178\u001b[0;31m                                         validation_freq=validation_freq)\n\u001b[0m\u001b[1;32m   1179\u001b[0m \u001b[0;34m\u001b[0m\u001b[0m\n\u001b[1;32m   1180\u001b[0m     def evaluate(self,\n",
      "\u001b[0;32m/usr/local/lib/python3.6/dist-packages/keras/engine/training_arrays.py\u001b[0m in \u001b[0;36mfit_loop\u001b[0;34m(model, fit_function, fit_inputs, out_labels, batch_size, epochs, verbose, callbacks, val_function, val_inputs, shuffle, callback_metrics, initial_epoch, steps_per_epoch, validation_steps, validation_freq)\u001b[0m\n\u001b[1;32m    202\u001b[0m                     \u001b[0mins_batch\u001b[0m\u001b[0;34m[\u001b[0m\u001b[0mi\u001b[0m\u001b[0;34m]\u001b[0m \u001b[0;34m=\u001b[0m \u001b[0mins_batch\u001b[0m\u001b[0;34m[\u001b[0m\u001b[0mi\u001b[0m\u001b[0;34m]\u001b[0m\u001b[0;34m.\u001b[0m\u001b[0mtoarray\u001b[0m\u001b[0;34m(\u001b[0m\u001b[0;34m)\u001b[0m\u001b[0;34m\u001b[0m\u001b[0;34m\u001b[0m\u001b[0m\n\u001b[1;32m    203\u001b[0m \u001b[0;34m\u001b[0m\u001b[0m\n\u001b[0;32m--> 204\u001b[0;31m                 \u001b[0mouts\u001b[0m \u001b[0;34m=\u001b[0m \u001b[0mfit_function\u001b[0m\u001b[0;34m(\u001b[0m\u001b[0mins_batch\u001b[0m\u001b[0;34m)\u001b[0m\u001b[0;34m\u001b[0m\u001b[0;34m\u001b[0m\u001b[0m\n\u001b[0m\u001b[1;32m    205\u001b[0m                 \u001b[0mouts\u001b[0m \u001b[0;34m=\u001b[0m \u001b[0mto_list\u001b[0m\u001b[0;34m(\u001b[0m\u001b[0mouts\u001b[0m\u001b[0;34m)\u001b[0m\u001b[0;34m\u001b[0m\u001b[0;34m\u001b[0m\u001b[0m\n\u001b[1;32m    206\u001b[0m                 \u001b[0;32mfor\u001b[0m \u001b[0ml\u001b[0m\u001b[0;34m,\u001b[0m \u001b[0mo\u001b[0m \u001b[0;32min\u001b[0m \u001b[0mzip\u001b[0m\u001b[0;34m(\u001b[0m\u001b[0mout_labels\u001b[0m\u001b[0;34m,\u001b[0m \u001b[0mouts\u001b[0m\u001b[0;34m)\u001b[0m\u001b[0;34m:\u001b[0m\u001b[0;34m\u001b[0m\u001b[0;34m\u001b[0m\u001b[0m\n",
      "\u001b[0;32m/usr/local/lib/python3.6/dist-packages/keras/backend/tensorflow_backend.py\u001b[0m in \u001b[0;36m__call__\u001b[0;34m(self, inputs)\u001b[0m\n\u001b[1;32m   2977\u001b[0m                     \u001b[0;32mreturn\u001b[0m \u001b[0mself\u001b[0m\u001b[0;34m.\u001b[0m\u001b[0m_legacy_call\u001b[0m\u001b[0;34m(\u001b[0m\u001b[0minputs\u001b[0m\u001b[0;34m)\u001b[0m\u001b[0;34m\u001b[0m\u001b[0;34m\u001b[0m\u001b[0m\n\u001b[1;32m   2978\u001b[0m \u001b[0;34m\u001b[0m\u001b[0m\n\u001b[0;32m-> 2979\u001b[0;31m             \u001b[0;32mreturn\u001b[0m \u001b[0mself\u001b[0m\u001b[0;34m.\u001b[0m\u001b[0m_call\u001b[0m\u001b[0;34m(\u001b[0m\u001b[0minputs\u001b[0m\u001b[0;34m)\u001b[0m\u001b[0;34m\u001b[0m\u001b[0;34m\u001b[0m\u001b[0m\n\u001b[0m\u001b[1;32m   2980\u001b[0m         \u001b[0;32melse\u001b[0m\u001b[0;34m:\u001b[0m\u001b[0;34m\u001b[0m\u001b[0;34m\u001b[0m\u001b[0m\n\u001b[1;32m   2981\u001b[0m             \u001b[0;32mif\u001b[0m \u001b[0mpy_any\u001b[0m\u001b[0;34m(\u001b[0m\u001b[0mis_tensor\u001b[0m\u001b[0;34m(\u001b[0m\u001b[0mx\u001b[0m\u001b[0;34m)\u001b[0m \u001b[0;32mfor\u001b[0m \u001b[0mx\u001b[0m \u001b[0;32min\u001b[0m \u001b[0minputs\u001b[0m\u001b[0;34m)\u001b[0m\u001b[0;34m:\u001b[0m\u001b[0;34m\u001b[0m\u001b[0;34m\u001b[0m\u001b[0m\n",
      "\u001b[0;32m/usr/local/lib/python3.6/dist-packages/keras/backend/tensorflow_backend.py\u001b[0m in \u001b[0;36m_call\u001b[0;34m(self, inputs)\u001b[0m\n\u001b[1;32m   2935\u001b[0m             \u001b[0mfetched\u001b[0m \u001b[0;34m=\u001b[0m \u001b[0mself\u001b[0m\u001b[0;34m.\u001b[0m\u001b[0m_callable_fn\u001b[0m\u001b[0;34m(\u001b[0m\u001b[0;34m*\u001b[0m\u001b[0marray_vals\u001b[0m\u001b[0;34m,\u001b[0m \u001b[0mrun_metadata\u001b[0m\u001b[0;34m=\u001b[0m\u001b[0mself\u001b[0m\u001b[0;34m.\u001b[0m\u001b[0mrun_metadata\u001b[0m\u001b[0;34m)\u001b[0m\u001b[0;34m\u001b[0m\u001b[0;34m\u001b[0m\u001b[0m\n\u001b[1;32m   2936\u001b[0m         \u001b[0;32melse\u001b[0m\u001b[0;34m:\u001b[0m\u001b[0;34m\u001b[0m\u001b[0;34m\u001b[0m\u001b[0m\n\u001b[0;32m-> 2937\u001b[0;31m             \u001b[0mfetched\u001b[0m \u001b[0;34m=\u001b[0m \u001b[0mself\u001b[0m\u001b[0;34m.\u001b[0m\u001b[0m_callable_fn\u001b[0m\u001b[0;34m(\u001b[0m\u001b[0;34m*\u001b[0m\u001b[0marray_vals\u001b[0m\u001b[0;34m)\u001b[0m\u001b[0;34m\u001b[0m\u001b[0;34m\u001b[0m\u001b[0m\n\u001b[0m\u001b[1;32m   2938\u001b[0m         \u001b[0;32mreturn\u001b[0m \u001b[0mfetched\u001b[0m\u001b[0;34m[\u001b[0m\u001b[0;34m:\u001b[0m\u001b[0mlen\u001b[0m\u001b[0;34m(\u001b[0m\u001b[0mself\u001b[0m\u001b[0;34m.\u001b[0m\u001b[0moutputs\u001b[0m\u001b[0;34m)\u001b[0m\u001b[0;34m]\u001b[0m\u001b[0;34m\u001b[0m\u001b[0;34m\u001b[0m\u001b[0m\n\u001b[1;32m   2939\u001b[0m \u001b[0;34m\u001b[0m\u001b[0m\n",
      "\u001b[0;32m/usr/local/lib/python3.6/dist-packages/tensorflow_core/python/client/session.py\u001b[0m in \u001b[0;36m__call__\u001b[0;34m(self, *args, **kwargs)\u001b[0m\n\u001b[1;32m   1470\u001b[0m         ret = tf_session.TF_SessionRunCallable(self._session._session,\n\u001b[1;32m   1471\u001b[0m                                                \u001b[0mself\u001b[0m\u001b[0;34m.\u001b[0m\u001b[0m_handle\u001b[0m\u001b[0;34m,\u001b[0m \u001b[0margs\u001b[0m\u001b[0;34m,\u001b[0m\u001b[0;34m\u001b[0m\u001b[0;34m\u001b[0m\u001b[0m\n\u001b[0;32m-> 1472\u001b[0;31m                                                run_metadata_ptr)\n\u001b[0m\u001b[1;32m   1473\u001b[0m         \u001b[0;32mif\u001b[0m \u001b[0mrun_metadata\u001b[0m\u001b[0;34m:\u001b[0m\u001b[0;34m\u001b[0m\u001b[0;34m\u001b[0m\u001b[0m\n\u001b[1;32m   1474\u001b[0m           \u001b[0mproto_data\u001b[0m \u001b[0;34m=\u001b[0m \u001b[0mtf_session\u001b[0m\u001b[0;34m.\u001b[0m\u001b[0mTF_GetBuffer\u001b[0m\u001b[0;34m(\u001b[0m\u001b[0mrun_metadata_ptr\u001b[0m\u001b[0;34m)\u001b[0m\u001b[0;34m\u001b[0m\u001b[0;34m\u001b[0m\u001b[0m\n",
      "\u001b[0;31mKeyboardInterrupt\u001b[0m: "
     ]
    }
   ],
   "source": [
    "demographic_model.fit(demo_x_train, y_train,\n",
    "          validation_data=(demo_x_val, y_val),\n",
    "          epochs=100)"
   ]
  },
  {
   "cell_type": "code",
   "execution_count": 0,
   "metadata": {
    "colab": {},
    "colab_type": "code",
    "id": "NFy9V4TULTj8"
   },
   "outputs": [],
   "source": [
    "for layer in demographic_model.layers:\n",
    "    layer.trainable = True"
   ]
  },
  {
   "cell_type": "code",
   "execution_count": 0,
   "metadata": {
    "colab": {},
    "colab_type": "code",
    "id": "Nu6XI1Jr-tfO"
   },
   "outputs": [],
   "source": [
    "x = Concatenate()([demographic_model.layers[-2].output, transaction_model.layers[-2].output])\n",
    "x = Dense(32,)(x)\n",
    "x = Dense(16,)(x)\n",
    "x = Dense(1)(x)\n",
    "model = Model(inputs=[demographic_model.input, transaction_model.input], outputs=x)"
   ]
  },
  {
   "cell_type": "code",
   "execution_count": 0,
   "metadata": {
    "colab": {},
    "colab_type": "code",
    "id": "sd0fvj-gCBeG",
    "outputId": "fe4e2fc0-f198-4e8b-9a42-d46d516dcf2e"
   },
   "outputs": [
    {
     "name": "stderr",
     "output_type": "stream",
     "text": [
      "W1106 16:58:32.322900 140655518598976 deprecation.py:323] From /usr/local/lib/python3.6/dist-packages/tensorflow_core/python/ops/math_grad.py:1375: where (from tensorflow.python.ops.array_ops) is deprecated and will be removed in a future version.\n",
      "Instructions for updating:\n",
      "Use tf.where in 2.0, which has the same broadcast rule as np.where\n",
      "W1106 16:58:33.236465 140655518598976 module_wrapper.py:137] From /home/porlolicon/.local/lib/python3.6/site-packages/keras/backend/tensorflow_backend.py:422: The name tf.global_variables is deprecated. Please use tf.compat.v1.global_variables instead.\n",
      "\n"
     ]
    }
   ],
   "source": [
    "model = load_model('logs/demo_kplus_cc_conv/ep18-val_SMAPE:91.62421650469304.h5',\n",
    "                  custom_objects={'loss_func':SMAPE_loss(train_scaler)})"
   ]
  },
  {
   "cell_type": "code",
   "execution_count": 0,
   "metadata": {
    "colab": {
     "base_uri": "https://localhost:8080/",
     "height": 952
    },
    "colab_type": "code",
    "collapsed": true,
    "executionInfo": {
     "elapsed": 805,
     "status": "ok",
     "timestamp": 1572970066318,
     "user": {
      "displayName": "ฉัตรชัย แซ่ตัน",
      "photoUrl": "",
      "userId": "04919101980351817114"
     },
     "user_tz": -420
    },
    "id": "UdNK-hsD-tfP",
    "outputId": "95ac9bc9-301d-4c49-bcbd-4dcc992cc1aa"
   },
   "outputs": [
    {
     "name": "stdout",
     "output_type": "stream",
     "text": [
      "Model: \"model_1\"\n",
      "__________________________________________________________________________________________________\n",
      "Layer (type)                    Output Shape         Param #     Connected to                     \n",
      "==================================================================================================\n",
      "conv1d_22_input (InputLayer)    (None, 181, 4)       0                                            \n",
      "__________________________________________________________________________________________________\n",
      "conv1d_22 (Conv1D)              (None, 179, 64)      832         conv1d_22_input[0][0]            \n",
      "__________________________________________________________________________________________________\n",
      "conv1d_23 (Conv1D)              (None, 177, 64)      12352       conv1d_22[0][0]                  \n",
      "__________________________________________________________________________________________________\n",
      "max_pooling1d_13 (MaxPooling1D) (None, 88, 64)       0           conv1d_23[0][0]                  \n",
      "__________________________________________________________________________________________________\n",
      "dropout_1 (Dropout)             (None, 88, 64)       0           max_pooling1d_13[0][0]           \n",
      "__________________________________________________________________________________________________\n",
      "conv1d_24 (Conv1D)              (None, 86, 16)       3088        dropout_1[0][0]                  \n",
      "__________________________________________________________________________________________________\n",
      "conv1d_25 (Conv1D)              (None, 84, 16)       784         conv1d_24[0][0]                  \n",
      "__________________________________________________________________________________________________\n",
      "max_pooling1d_14 (MaxPooling1D) (None, 42, 16)       0           conv1d_25[0][0]                  \n",
      "__________________________________________________________________________________________________\n",
      "dropout_2 (Dropout)             (None, 42, 16)       0           max_pooling1d_14[0][0]           \n",
      "__________________________________________________________________________________________________\n",
      "conv1d_26 (Conv1D)              (None, 40, 4)        196         dropout_2[0][0]                  \n",
      "__________________________________________________________________________________________________\n",
      "conv1d_27 (Conv1D)              (None, 38, 4)        52          conv1d_26[0][0]                  \n",
      "__________________________________________________________________________________________________\n",
      "dense_15_input (InputLayer)     (None, 21)           0                                            \n",
      "__________________________________________________________________________________________________\n",
      "max_pooling1d_15 (MaxPooling1D) (None, 19, 4)        0           conv1d_27[0][0]                  \n",
      "__________________________________________________________________________________________________\n",
      "dense_15 (Dense)                (None, 20)           440         dense_15_input[0][0]             \n",
      "__________________________________________________________________________________________________\n",
      "dropout_3 (Dropout)             (None, 19, 4)        0           max_pooling1d_15[0][0]           \n",
      "__________________________________________________________________________________________________\n",
      "dense_16 (Dense)                (None, 20)           420         dense_15[0][0]                   \n",
      "__________________________________________________________________________________________________\n",
      "flatten_7 (Flatten)             (None, 76)           0           dropout_3[0][0]                  \n",
      "__________________________________________________________________________________________________\n",
      "dense_17 (Dense)                (None, 10)           210         dense_16[0][0]                   \n",
      "__________________________________________________________________________________________________\n",
      "dense_13 (Dense)                (None, 40)           3080        flatten_7[0][0]                  \n",
      "__________________________________________________________________________________________________\n",
      "concatenate_1 (Concatenate)     (None, 50)           0           dense_17[0][0]                   \n",
      "                                                                 dense_13[0][0]                   \n",
      "__________________________________________________________________________________________________\n",
      "dense_19 (Dense)                (None, 32)           1632        concatenate_1[0][0]              \n",
      "__________________________________________________________________________________________________\n",
      "dense_20 (Dense)                (None, 16)           528         dense_19[0][0]                   \n",
      "__________________________________________________________________________________________________\n",
      "dense_21 (Dense)                (None, 1)            17          dense_20[0][0]                   \n",
      "==================================================================================================\n",
      "Total params: 23,631\n",
      "Trainable params: 23,631\n",
      "Non-trainable params: 0\n",
      "__________________________________________________________________________________________________\n"
     ]
    }
   ],
   "source": [
    "model.compile(optimizer='adam', loss=SMAPE_loss(train_scaler))\n",
    "model.summary()"
   ]
  },
  {
   "cell_type": "code",
   "execution_count": 0,
   "metadata": {
    "colab": {
     "base_uri": "https://localhost:8080/",
     "height": 1000
    },
    "colab_type": "code",
    "executionInfo": {
     "elapsed": 301624,
     "status": "error",
     "timestamp": 1572970387663,
     "user": {
      "displayName": "ฉัตรชัย แซ่ตัน",
      "photoUrl": "",
      "userId": "04919101980351817114"
     },
     "user_tz": -420
    },
    "id": "2QdmBkSr-tfQ",
    "outputId": "88b94175-510a-4e03-ba94-51079491bc4a"
   },
   "outputs": [
    {
     "name": "stdout",
     "output_type": "stream",
     "text": [
      "Train on 40000 samples, validate on 10000 samples\n",
      "Epoch 1/100\n",
      "40000/40000 [==============================] - 17s 434us/step - loss: 0.0893 - val_loss: 0.0909\n",
      "Epoch 1 | val-SMAPE: 90.91143378138543\n",
      "Epoch 2/100\n",
      "40000/40000 [==============================] - 16s 401us/step - loss: 0.0898 - val_loss: 0.0866\n",
      "Epoch 2 | val-SMAPE: 91.3358620095253\n",
      "Epoch 3/100\n",
      "40000/40000 [==============================] - 16s 400us/step - loss: 0.0872 - val_loss: 0.0863\n",
      "Epoch 3 | val-SMAPE: 91.36757788538932\n",
      "Epoch 4/100\n",
      "40000/40000 [==============================] - 16s 400us/step - loss: 0.0869 - val_loss: 0.0864\n",
      "Epoch 4 | val-SMAPE: 91.36087724685669\n",
      "Epoch 5/100\n",
      "40000/40000 [==============================] - 16s 401us/step - loss: 0.0856 - val_loss: 0.0913\n",
      "Epoch 5 | val-SMAPE: 90.86773957848548\n",
      "Epoch 6/100\n",
      "40000/40000 [==============================] - 16s 399us/step - loss: 0.0856 - val_loss: 0.0863\n",
      "Epoch 6 | val-SMAPE: 91.36810836315155\n",
      "Epoch 7/100\n",
      "40000/40000 [==============================] - 16s 399us/step - loss: 0.0855 - val_loss: 0.0887\n",
      "Epoch 7 | val-SMAPE: 91.12759979486465\n",
      "Epoch 8/100\n",
      "40000/40000 [==============================] - 16s 401us/step - loss: 0.0849 - val_loss: 0.0867\n",
      "Epoch 8 | val-SMAPE: 91.33020128369331\n",
      "Epoch 9/100\n",
      "40000/40000 [==============================] - 16s 399us/step - loss: 0.0848 - val_loss: 0.0883\n",
      "Epoch 9 | val-SMAPE: 91.17021273136139\n",
      "Epoch 10/100\n",
      "40000/40000 [==============================] - 16s 400us/step - loss: 0.0854 - val_loss: 0.0855\n",
      "Epoch 10 | val-SMAPE: 91.44517380058765\n",
      "Epoch 11/100\n",
      "40000/40000 [==============================] - 16s 405us/step - loss: 0.0848 - val_loss: 0.0848\n",
      "Epoch 11 | val-SMAPE: 91.51677284121513\n",
      "Epoch 12/100\n",
      "40000/40000 [==============================] - 16s 398us/step - loss: 0.0846 - val_loss: 0.0838\n",
      "Epoch 12 | val-SMAPE: 91.62306625902653\n",
      "Epoch 13/100\n",
      "40000/40000 [==============================] - 16s 408us/step - loss: 0.0847 - val_loss: 0.0852\n",
      "Epoch 13 | val-SMAPE: 91.47696905136108\n",
      "Epoch 14/100\n",
      "40000/40000 [==============================] - 16s 408us/step - loss: 0.0845 - val_loss: 0.0840\n",
      "Epoch 14 | val-SMAPE: 91.59550624132156\n",
      "Epoch 15/100\n",
      "40000/40000 [==============================] - 16s 401us/step - loss: 0.0843 - val_loss: 0.0842\n",
      "Epoch 15 | val-SMAPE: 91.58281143069267\n",
      "Epoch 16/100\n",
      "40000/40000 [==============================] - 16s 400us/step - loss: 0.0844 - val_loss: 0.0856\n",
      "Epoch 16 | val-SMAPE: 91.43832965612411\n",
      "Epoch 17/100\n",
      "40000/40000 [==============================] - 16s 401us/step - loss: 0.0846 - val_loss: 0.0848\n",
      "Epoch 17 | val-SMAPE: 91.52271442234516\n",
      "Epoch 18/100\n",
      "40000/40000 [==============================] - 16s 401us/step - loss: 0.0840 - val_loss: 0.0838\n",
      "Epoch 18 | val-SMAPE: 91.62421650469304\n",
      "Epoch 19/100\n",
      " 7264/40000 [====>.........................] - ETA: 12s - loss: 0.0828"
     ]
    },
    {
     "ename": "KeyboardInterrupt",
     "evalue": "ignored",
     "output_type": "error",
     "traceback": [
      "\u001b[0;31m---------------------------------------------------------------------------\u001b[0m",
      "\u001b[0;31mKeyboardInterrupt\u001b[0m                         Traceback (most recent call last)",
      "\u001b[0;32m<ipython-input-58-7e76844f174a>\u001b[0m in \u001b[0;36m<module>\u001b[0;34m()\u001b[0m\n\u001b[1;32m     10\u001b[0m                      ],\n\u001b[1;32m     11\u001b[0m           \u001b[0minitial_epoch\u001b[0m\u001b[0;34m=\u001b[0m\u001b[0;36m0\u001b[0m\u001b[0;34m,\u001b[0m\u001b[0;34m\u001b[0m\u001b[0;34m\u001b[0m\u001b[0m\n\u001b[0;32m---> 12\u001b[0;31m          epochs=100)\n\u001b[0m",
      "\u001b[0;32m/usr/local/lib/python3.6/dist-packages/keras/engine/training.py\u001b[0m in \u001b[0;36mfit\u001b[0;34m(self, x, y, batch_size, epochs, verbose, callbacks, validation_split, validation_data, shuffle, class_weight, sample_weight, initial_epoch, steps_per_epoch, validation_steps, validation_freq, max_queue_size, workers, use_multiprocessing, **kwargs)\u001b[0m\n\u001b[1;32m   1176\u001b[0m                                         \u001b[0msteps_per_epoch\u001b[0m\u001b[0;34m=\u001b[0m\u001b[0msteps_per_epoch\u001b[0m\u001b[0;34m,\u001b[0m\u001b[0;34m\u001b[0m\u001b[0;34m\u001b[0m\u001b[0m\n\u001b[1;32m   1177\u001b[0m                                         \u001b[0mvalidation_steps\u001b[0m\u001b[0;34m=\u001b[0m\u001b[0mvalidation_steps\u001b[0m\u001b[0;34m,\u001b[0m\u001b[0;34m\u001b[0m\u001b[0;34m\u001b[0m\u001b[0m\n\u001b[0;32m-> 1178\u001b[0;31m                                         validation_freq=validation_freq)\n\u001b[0m\u001b[1;32m   1179\u001b[0m \u001b[0;34m\u001b[0m\u001b[0m\n\u001b[1;32m   1180\u001b[0m     def evaluate(self,\n",
      "\u001b[0;32m/usr/local/lib/python3.6/dist-packages/keras/engine/training_arrays.py\u001b[0m in \u001b[0;36mfit_loop\u001b[0;34m(model, fit_function, fit_inputs, out_labels, batch_size, epochs, verbose, callbacks, val_function, val_inputs, shuffle, callback_metrics, initial_epoch, steps_per_epoch, validation_steps, validation_freq)\u001b[0m\n\u001b[1;32m    202\u001b[0m                     \u001b[0mins_batch\u001b[0m\u001b[0;34m[\u001b[0m\u001b[0mi\u001b[0m\u001b[0;34m]\u001b[0m \u001b[0;34m=\u001b[0m \u001b[0mins_batch\u001b[0m\u001b[0;34m[\u001b[0m\u001b[0mi\u001b[0m\u001b[0;34m]\u001b[0m\u001b[0;34m.\u001b[0m\u001b[0mtoarray\u001b[0m\u001b[0;34m(\u001b[0m\u001b[0;34m)\u001b[0m\u001b[0;34m\u001b[0m\u001b[0;34m\u001b[0m\u001b[0m\n\u001b[1;32m    203\u001b[0m \u001b[0;34m\u001b[0m\u001b[0m\n\u001b[0;32m--> 204\u001b[0;31m                 \u001b[0mouts\u001b[0m \u001b[0;34m=\u001b[0m \u001b[0mfit_function\u001b[0m\u001b[0;34m(\u001b[0m\u001b[0mins_batch\u001b[0m\u001b[0;34m)\u001b[0m\u001b[0;34m\u001b[0m\u001b[0;34m\u001b[0m\u001b[0m\n\u001b[0m\u001b[1;32m    205\u001b[0m                 \u001b[0mouts\u001b[0m \u001b[0;34m=\u001b[0m \u001b[0mto_list\u001b[0m\u001b[0;34m(\u001b[0m\u001b[0mouts\u001b[0m\u001b[0;34m)\u001b[0m\u001b[0;34m\u001b[0m\u001b[0;34m\u001b[0m\u001b[0m\n\u001b[1;32m    206\u001b[0m                 \u001b[0;32mfor\u001b[0m \u001b[0ml\u001b[0m\u001b[0;34m,\u001b[0m \u001b[0mo\u001b[0m \u001b[0;32min\u001b[0m \u001b[0mzip\u001b[0m\u001b[0;34m(\u001b[0m\u001b[0mout_labels\u001b[0m\u001b[0;34m,\u001b[0m \u001b[0mouts\u001b[0m\u001b[0;34m)\u001b[0m\u001b[0;34m:\u001b[0m\u001b[0;34m\u001b[0m\u001b[0;34m\u001b[0m\u001b[0m\n",
      "\u001b[0;32m/usr/local/lib/python3.6/dist-packages/keras/backend/tensorflow_backend.py\u001b[0m in \u001b[0;36m__call__\u001b[0;34m(self, inputs)\u001b[0m\n\u001b[1;32m   2977\u001b[0m                     \u001b[0;32mreturn\u001b[0m \u001b[0mself\u001b[0m\u001b[0;34m.\u001b[0m\u001b[0m_legacy_call\u001b[0m\u001b[0;34m(\u001b[0m\u001b[0minputs\u001b[0m\u001b[0;34m)\u001b[0m\u001b[0;34m\u001b[0m\u001b[0;34m\u001b[0m\u001b[0m\n\u001b[1;32m   2978\u001b[0m \u001b[0;34m\u001b[0m\u001b[0m\n\u001b[0;32m-> 2979\u001b[0;31m             \u001b[0;32mreturn\u001b[0m \u001b[0mself\u001b[0m\u001b[0;34m.\u001b[0m\u001b[0m_call\u001b[0m\u001b[0;34m(\u001b[0m\u001b[0minputs\u001b[0m\u001b[0;34m)\u001b[0m\u001b[0;34m\u001b[0m\u001b[0;34m\u001b[0m\u001b[0m\n\u001b[0m\u001b[1;32m   2980\u001b[0m         \u001b[0;32melse\u001b[0m\u001b[0;34m:\u001b[0m\u001b[0;34m\u001b[0m\u001b[0;34m\u001b[0m\u001b[0m\n\u001b[1;32m   2981\u001b[0m             \u001b[0;32mif\u001b[0m \u001b[0mpy_any\u001b[0m\u001b[0;34m(\u001b[0m\u001b[0mis_tensor\u001b[0m\u001b[0;34m(\u001b[0m\u001b[0mx\u001b[0m\u001b[0;34m)\u001b[0m \u001b[0;32mfor\u001b[0m \u001b[0mx\u001b[0m \u001b[0;32min\u001b[0m \u001b[0minputs\u001b[0m\u001b[0;34m)\u001b[0m\u001b[0;34m:\u001b[0m\u001b[0;34m\u001b[0m\u001b[0;34m\u001b[0m\u001b[0m\n",
      "\u001b[0;32m/usr/local/lib/python3.6/dist-packages/keras/backend/tensorflow_backend.py\u001b[0m in \u001b[0;36m_call\u001b[0;34m(self, inputs)\u001b[0m\n\u001b[1;32m   2935\u001b[0m             \u001b[0mfetched\u001b[0m \u001b[0;34m=\u001b[0m \u001b[0mself\u001b[0m\u001b[0;34m.\u001b[0m\u001b[0m_callable_fn\u001b[0m\u001b[0;34m(\u001b[0m\u001b[0;34m*\u001b[0m\u001b[0marray_vals\u001b[0m\u001b[0;34m,\u001b[0m \u001b[0mrun_metadata\u001b[0m\u001b[0;34m=\u001b[0m\u001b[0mself\u001b[0m\u001b[0;34m.\u001b[0m\u001b[0mrun_metadata\u001b[0m\u001b[0;34m)\u001b[0m\u001b[0;34m\u001b[0m\u001b[0;34m\u001b[0m\u001b[0m\n\u001b[1;32m   2936\u001b[0m         \u001b[0;32melse\u001b[0m\u001b[0;34m:\u001b[0m\u001b[0;34m\u001b[0m\u001b[0;34m\u001b[0m\u001b[0m\n\u001b[0;32m-> 2937\u001b[0;31m             \u001b[0mfetched\u001b[0m \u001b[0;34m=\u001b[0m \u001b[0mself\u001b[0m\u001b[0;34m.\u001b[0m\u001b[0m_callable_fn\u001b[0m\u001b[0;34m(\u001b[0m\u001b[0;34m*\u001b[0m\u001b[0marray_vals\u001b[0m\u001b[0;34m)\u001b[0m\u001b[0;34m\u001b[0m\u001b[0;34m\u001b[0m\u001b[0m\n\u001b[0m\u001b[1;32m   2938\u001b[0m         \u001b[0;32mreturn\u001b[0m \u001b[0mfetched\u001b[0m\u001b[0;34m[\u001b[0m\u001b[0;34m:\u001b[0m\u001b[0mlen\u001b[0m\u001b[0;34m(\u001b[0m\u001b[0mself\u001b[0m\u001b[0;34m.\u001b[0m\u001b[0moutputs\u001b[0m\u001b[0;34m)\u001b[0m\u001b[0;34m]\u001b[0m\u001b[0;34m\u001b[0m\u001b[0;34m\u001b[0m\u001b[0m\n\u001b[1;32m   2939\u001b[0m \u001b[0;34m\u001b[0m\u001b[0m\n",
      "\u001b[0;32m/usr/local/lib/python3.6/dist-packages/tensorflow_core/python/client/session.py\u001b[0m in \u001b[0;36m__call__\u001b[0;34m(self, *args, **kwargs)\u001b[0m\n\u001b[1;32m   1470\u001b[0m         ret = tf_session.TF_SessionRunCallable(self._session._session,\n\u001b[1;32m   1471\u001b[0m                                                \u001b[0mself\u001b[0m\u001b[0;34m.\u001b[0m\u001b[0m_handle\u001b[0m\u001b[0;34m,\u001b[0m \u001b[0margs\u001b[0m\u001b[0;34m,\u001b[0m\u001b[0;34m\u001b[0m\u001b[0;34m\u001b[0m\u001b[0m\n\u001b[0;32m-> 1472\u001b[0;31m                                                run_metadata_ptr)\n\u001b[0m\u001b[1;32m   1473\u001b[0m         \u001b[0;32mif\u001b[0m \u001b[0mrun_metadata\u001b[0m\u001b[0;34m:\u001b[0m\u001b[0;34m\u001b[0m\u001b[0;34m\u001b[0m\u001b[0m\n\u001b[1;32m   1474\u001b[0m           \u001b[0mproto_data\u001b[0m \u001b[0;34m=\u001b[0m \u001b[0mtf_session\u001b[0m\u001b[0;34m.\u001b[0m\u001b[0mTF_GetBuffer\u001b[0m\u001b[0;34m(\u001b[0m\u001b[0mrun_metadata_ptr\u001b[0m\u001b[0;34m)\u001b[0m\u001b[0;34m\u001b[0m\u001b[0;34m\u001b[0m\u001b[0m\n",
      "\u001b[0;31mKeyboardInterrupt\u001b[0m: "
     ]
    }
   ],
   "source": [
    "log_dir = 'logs/demo_kplus_cc_conv'\n",
    "\n",
    "model.fit([demo_x_train, transaction_x_train], y_train,\n",
    "          validation_data=([demo_x_val, transaction_x_val], y_val),\n",
    "          shuffle=True,\n",
    "          batch_size=32,\n",
    "          callbacks=[EvaluateSMAPE(x_val, y_val, 'val', scaler_y=train_scaler, use_SMAPE_loss=True),\n",
    "                     TensorBoard(log_dir),\n",
    "                     ModelCheckpoint(log_dir + '/ep{epoch}-val_SMAPE:{val_SMAPE}.h5')\n",
    "                     ],\n",
    "          initial_epoch=0,\n",
    "         epochs=100)"
   ]
  },
  {
   "cell_type": "code",
   "execution_count": 0,
   "metadata": {
    "colab": {},
    "colab_type": "code",
    "id": "JGnc1qNcCBeO",
    "outputId": "d0599cb3-321b-4835-8f55-4e9a0eafda75"
   },
   "outputs": [
    {
     "name": "stdout",
     "output_type": "stream",
     "text": [
      "Epoch 1/100\n",
      "50000/50000 [==============================] - 8s 165us/step - loss: 0.0848\n",
      "Epoch 2/100\n",
      "50000/50000 [==============================] - 8s 164us/step - loss: 0.0842\n",
      "Epoch 3/100\n",
      "50000/50000 [==============================] - 8s 165us/step - loss: 0.0843\n",
      "Epoch 4/100\n",
      "50000/50000 [==============================] - 8s 164us/step - loss: 0.0843\n",
      "Epoch 5/100\n",
      "50000/50000 [==============================] - 8s 165us/step - loss: 0.0839\n",
      "Epoch 6/100\n",
      "50000/50000 [==============================] - 8s 163us/step - loss: 0.0847\n",
      "Epoch 7/100\n",
      "50000/50000 [==============================] - 8s 164us/step - loss: 0.0841\n",
      "Epoch 8/100\n",
      "50000/50000 [==============================] - 8s 163us/step - loss: 0.0840\n",
      "Epoch 9/100\n",
      "50000/50000 [==============================] - 8s 162us/step - loss: 0.0844\n",
      "Epoch 10/100\n",
      "50000/50000 [==============================] - 8s 163us/step - loss: 0.0838\n",
      "Epoch 11/100\n",
      "50000/50000 [==============================] - 8s 163us/step - loss: 0.0840\n",
      "Epoch 12/100\n",
      " 9952/50000 [====>.........................] - ETA: 6s - loss: 0.0862"
     ]
    },
    {
     "ename": "KeyboardInterrupt",
     "evalue": "",
     "output_type": "error",
     "traceback": [
      "\u001b[0;31m---------------------------------------------------------------------------\u001b[0m",
      "\u001b[0;31mKeyboardInterrupt\u001b[0m                         Traceback (most recent call last)",
      "\u001b[0;32m<ipython-input-23-0e650e4109f8>\u001b[0m in \u001b[0;36m<module>\u001b[0;34m\u001b[0m\n\u001b[1;32m     11\u001b[0m                      ],\n\u001b[1;32m     12\u001b[0m           \u001b[0minitial_epoch\u001b[0m\u001b[0;34m=\u001b[0m\u001b[0;36m0\u001b[0m\u001b[0;34m,\u001b[0m\u001b[0;34m\u001b[0m\u001b[0;34m\u001b[0m\u001b[0m\n\u001b[0;32m---> 13\u001b[0;31m          epochs=100)\n\u001b[0m",
      "\u001b[0;32m~/.local/lib/python3.6/site-packages/keras/engine/training.py\u001b[0m in \u001b[0;36mfit\u001b[0;34m(self, x, y, batch_size, epochs, verbose, callbacks, validation_split, validation_data, shuffle, class_weight, sample_weight, initial_epoch, steps_per_epoch, validation_steps, validation_freq, max_queue_size, workers, use_multiprocessing, **kwargs)\u001b[0m\n\u001b[1;32m   1237\u001b[0m                                         \u001b[0msteps_per_epoch\u001b[0m\u001b[0;34m=\u001b[0m\u001b[0msteps_per_epoch\u001b[0m\u001b[0;34m,\u001b[0m\u001b[0;34m\u001b[0m\u001b[0;34m\u001b[0m\u001b[0m\n\u001b[1;32m   1238\u001b[0m                                         \u001b[0mvalidation_steps\u001b[0m\u001b[0;34m=\u001b[0m\u001b[0mvalidation_steps\u001b[0m\u001b[0;34m,\u001b[0m\u001b[0;34m\u001b[0m\u001b[0;34m\u001b[0m\u001b[0m\n\u001b[0;32m-> 1239\u001b[0;31m                                         validation_freq=validation_freq)\n\u001b[0m\u001b[1;32m   1240\u001b[0m \u001b[0;34m\u001b[0m\u001b[0m\n\u001b[1;32m   1241\u001b[0m     def evaluate(self,\n",
      "\u001b[0;32m~/.local/lib/python3.6/site-packages/keras/engine/training_arrays.py\u001b[0m in \u001b[0;36mfit_loop\u001b[0;34m(model, fit_function, fit_inputs, out_labels, batch_size, epochs, verbose, callbacks, val_function, val_inputs, shuffle, initial_epoch, steps_per_epoch, validation_steps, validation_freq)\u001b[0m\n\u001b[1;32m    194\u001b[0m                     \u001b[0mins_batch\u001b[0m\u001b[0;34m[\u001b[0m\u001b[0mi\u001b[0m\u001b[0;34m]\u001b[0m \u001b[0;34m=\u001b[0m \u001b[0mins_batch\u001b[0m\u001b[0;34m[\u001b[0m\u001b[0mi\u001b[0m\u001b[0;34m]\u001b[0m\u001b[0;34m.\u001b[0m\u001b[0mtoarray\u001b[0m\u001b[0;34m(\u001b[0m\u001b[0;34m)\u001b[0m\u001b[0;34m\u001b[0m\u001b[0;34m\u001b[0m\u001b[0m\n\u001b[1;32m    195\u001b[0m \u001b[0;34m\u001b[0m\u001b[0m\n\u001b[0;32m--> 196\u001b[0;31m                 \u001b[0mouts\u001b[0m \u001b[0;34m=\u001b[0m \u001b[0mfit_function\u001b[0m\u001b[0;34m(\u001b[0m\u001b[0mins_batch\u001b[0m\u001b[0;34m)\u001b[0m\u001b[0;34m\u001b[0m\u001b[0;34m\u001b[0m\u001b[0m\n\u001b[0m\u001b[1;32m    197\u001b[0m                 \u001b[0mouts\u001b[0m \u001b[0;34m=\u001b[0m \u001b[0mto_list\u001b[0m\u001b[0;34m(\u001b[0m\u001b[0mouts\u001b[0m\u001b[0;34m)\u001b[0m\u001b[0;34m\u001b[0m\u001b[0;34m\u001b[0m\u001b[0m\n\u001b[1;32m    198\u001b[0m                 \u001b[0;32mfor\u001b[0m \u001b[0ml\u001b[0m\u001b[0;34m,\u001b[0m \u001b[0mo\u001b[0m \u001b[0;32min\u001b[0m \u001b[0mzip\u001b[0m\u001b[0;34m(\u001b[0m\u001b[0mout_labels\u001b[0m\u001b[0;34m,\u001b[0m \u001b[0mouts\u001b[0m\u001b[0;34m)\u001b[0m\u001b[0;34m:\u001b[0m\u001b[0;34m\u001b[0m\u001b[0;34m\u001b[0m\u001b[0m\n",
      "\u001b[0;32m/usr/local/lib/python3.6/dist-packages/tensorflow_core/python/keras/backend.py\u001b[0m in \u001b[0;36m__call__\u001b[0;34m(self, inputs)\u001b[0m\n\u001b[1;32m   3474\u001b[0m \u001b[0;34m\u001b[0m\u001b[0m\n\u001b[1;32m   3475\u001b[0m     fetched = self._callable_fn(*array_vals,\n\u001b[0;32m-> 3476\u001b[0;31m                                 run_metadata=self.run_metadata)\n\u001b[0m\u001b[1;32m   3477\u001b[0m     \u001b[0mself\u001b[0m\u001b[0;34m.\u001b[0m\u001b[0m_call_fetch_callbacks\u001b[0m\u001b[0;34m(\u001b[0m\u001b[0mfetched\u001b[0m\u001b[0;34m[\u001b[0m\u001b[0;34m-\u001b[0m\u001b[0mlen\u001b[0m\u001b[0;34m(\u001b[0m\u001b[0mself\u001b[0m\u001b[0;34m.\u001b[0m\u001b[0m_fetches\u001b[0m\u001b[0;34m)\u001b[0m\u001b[0;34m:\u001b[0m\u001b[0;34m]\u001b[0m\u001b[0;34m)\u001b[0m\u001b[0;34m\u001b[0m\u001b[0;34m\u001b[0m\u001b[0m\n\u001b[1;32m   3478\u001b[0m     output_structure = nest.pack_sequence_as(\n",
      "\u001b[0;32m/usr/local/lib/python3.6/dist-packages/tensorflow_core/python/client/session.py\u001b[0m in \u001b[0;36m__call__\u001b[0;34m(self, *args, **kwargs)\u001b[0m\n\u001b[1;32m   1470\u001b[0m         ret = tf_session.TF_SessionRunCallable(self._session._session,\n\u001b[1;32m   1471\u001b[0m                                                \u001b[0mself\u001b[0m\u001b[0;34m.\u001b[0m\u001b[0m_handle\u001b[0m\u001b[0;34m,\u001b[0m \u001b[0margs\u001b[0m\u001b[0;34m,\u001b[0m\u001b[0;34m\u001b[0m\u001b[0;34m\u001b[0m\u001b[0m\n\u001b[0;32m-> 1472\u001b[0;31m                                                run_metadata_ptr)\n\u001b[0m\u001b[1;32m   1473\u001b[0m         \u001b[0;32mif\u001b[0m \u001b[0mrun_metadata\u001b[0m\u001b[0;34m:\u001b[0m\u001b[0;34m\u001b[0m\u001b[0;34m\u001b[0m\u001b[0m\n\u001b[1;32m   1474\u001b[0m           \u001b[0mproto_data\u001b[0m \u001b[0;34m=\u001b[0m \u001b[0mtf_session\u001b[0m\u001b[0;34m.\u001b[0m\u001b[0mTF_GetBuffer\u001b[0m\u001b[0;34m(\u001b[0m\u001b[0mrun_metadata_ptr\u001b[0m\u001b[0;34m)\u001b[0m\u001b[0;34m\u001b[0m\u001b[0;34m\u001b[0m\u001b[0m\n",
      "\u001b[0;31mKeyboardInterrupt\u001b[0m: "
     ]
    }
   ],
   "source": [
    "log_dir = 'logs/demo_kplus_cc_conv_no-val'\n",
    "\n",
    "model.fit([demographic_xs, transaction_xs], ys,\n",
    "#           validation_data=([demo_x_val, transaction_x_val], y_val),\n",
    "          shuffle=True,\n",
    "          batch_size=32,\n",
    "          callbacks=[\n",
    "#               EvaluateSMAPE(x_val, y_val, 'val', scaler_y=train_scaler, use_SMAPE_loss=True),\n",
    "                     TensorBoard(log_dir),\n",
    "                     ModelCheckpoint(log_dir + '/ep{epoch}-loss:{loss}.h5')\n",
    "                     ],\n",
    "          initial_epoch=0,\n",
    "         epochs=100)"
   ]
  },
  {
   "cell_type": "code",
   "execution_count": 0,
   "metadata": {
    "colab": {},
    "colab_type": "code",
    "id": "XOWf5lNO-tfX"
   },
   "outputs": [],
   "source": [
    "demo_test_xs, transaction_test_xs = create_all_x_data(test_set['id'].to_numpy())"
   ]
  },
  {
   "cell_type": "code",
   "execution_count": 0,
   "metadata": {
    "colab": {},
    "colab_type": "code",
    "id": "k5WJxVWNd3aR"
   },
   "outputs": [],
   "source": [
    "ys_pred = model.predict([demo_test_xs, transaction_test_xs])"
   ]
  },
  {
   "cell_type": "code",
   "execution_count": 0,
   "metadata": {
    "colab": {},
    "colab_type": "code",
    "id": "JSjahmeYeygO"
   },
   "outputs": [],
   "source": [
    "test_incomes = train_scaler.inverse_transform(ys_pred)"
   ]
  },
  {
   "cell_type": "code",
   "execution_count": 0,
   "metadata": {
    "colab": {},
    "colab_type": "code",
    "id": "rxItd5YHe0_z"
   },
   "outputs": [],
   "source": [
    "answer = test_set.copy()\n",
    "answer['income'] = test_incomes\n",
    "answer.to_csv(log_dir+'/answer.csv')"
   ]
  },
  {
   "cell_type": "code",
   "execution_count": 0,
   "metadata": {
    "colab": {},
    "colab_type": "code",
    "id": "OlfqvnczfWJ5"
   },
   "outputs": [],
   "source": []
  }
 ],
 "metadata": {
  "accelerator": "GPU",
  "colab": {
   "collapsed_sections": [
    "bsSlJe7z-tco",
    "IyjYlnCs-tc-",
    "DSFblXu6K9Zh"
   ],
   "name": "Regression.ipynb",
   "provenance": [],
   "toc_visible": true
  },
  "kernelspec": {
   "display_name": "Python 3",
   "language": "python",
   "name": "python3"
  },
  "language_info": {
   "codemirror_mode": {
    "name": "ipython",
    "version": 3
   },
   "file_extension": ".py",
   "mimetype": "text/x-python",
   "name": "python",
   "nbconvert_exporter": "python",
   "pygments_lexer": "ipython3",
   "version": "3.7.4"
  }
 },
 "nbformat": 4,
 "nbformat_minor": 1
}
