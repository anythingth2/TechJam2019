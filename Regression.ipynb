{
 "cells": [
  {
   "cell_type": "code",
   "execution_count": 1,
   "metadata": {},
   "outputs": [],
   "source": [
    "import pandas as pd\n",
    "import numpy as np\n",
    "import matplotlib.pyplot as plt"
   ]
  },
  {
   "cell_type": "code",
   "execution_count": 13,
   "metadata": {},
   "outputs": [],
   "source": [
    "demograpgics = pd.read_csv('datasets/exam-1/demographics.csv')\n",
    "cc = pd.read_csv('datasets/exam-1/cc.csv')\n",
    "cc.sort_values(by=['cc_no', 'pos_dt'], inplace=True)\n",
    "kplus = pd.read_csv('datasets/exam-1/kplus.csv')\n",
    "kplus.sort_values(by=['id', 'sunday'], inplace=True)\n",
    "train_set = pd.read_csv('datasets/exam-1/train.csv')\n",
    "test_set = pd.read_csv('datasets/exam-1/test.csv')"
   ]
  },
  {
   "cell_type": "code",
   "execution_count": 14,
   "metadata": {},
   "outputs": [
    {
     "data": {
      "text/html": [
       "<div>\n",
       "<style scoped>\n",
       "    .dataframe tbody tr th:only-of-type {\n",
       "        vertical-align: middle;\n",
       "    }\n",
       "\n",
       "    .dataframe tbody tr th {\n",
       "        vertical-align: top;\n",
       "    }\n",
       "\n",
       "    .dataframe thead th {\n",
       "        text-align: right;\n",
       "    }\n",
       "</style>\n",
       "<table border=\"1\" class=\"dataframe\">\n",
       "  <thead>\n",
       "    <tr style=\"text-align: right;\">\n",
       "      <th></th>\n",
       "      <th>id</th>\n",
       "      <th>cc_no</th>\n",
       "      <th>gender</th>\n",
       "      <th>ocp_cd</th>\n",
       "      <th>age</th>\n",
       "    </tr>\n",
       "  </thead>\n",
       "  <tbody>\n",
       "    <tr>\n",
       "      <th>0</th>\n",
       "      <td>1</td>\n",
       "      <td>1</td>\n",
       "      <td>2</td>\n",
       "      <td>9.0</td>\n",
       "      <td>5</td>\n",
       "    </tr>\n",
       "    <tr>\n",
       "      <th>1</th>\n",
       "      <td>1</td>\n",
       "      <td>98397</td>\n",
       "      <td>2</td>\n",
       "      <td>9.0</td>\n",
       "      <td>5</td>\n",
       "    </tr>\n",
       "    <tr>\n",
       "      <th>2</th>\n",
       "      <td>2</td>\n",
       "      <td>2</td>\n",
       "      <td>2</td>\n",
       "      <td>3.0</td>\n",
       "      <td>4</td>\n",
       "    </tr>\n",
       "    <tr>\n",
       "      <th>3</th>\n",
       "      <td>2</td>\n",
       "      <td>9740</td>\n",
       "      <td>2</td>\n",
       "      <td>3.0</td>\n",
       "      <td>4</td>\n",
       "    </tr>\n",
       "    <tr>\n",
       "      <th>4</th>\n",
       "      <td>3</td>\n",
       "      <td>3</td>\n",
       "      <td>2</td>\n",
       "      <td>1.0</td>\n",
       "      <td>3</td>\n",
       "    </tr>\n",
       "  </tbody>\n",
       "</table>\n",
       "</div>"
      ],
      "text/plain": [
       "   id  cc_no  gender  ocp_cd  age\n",
       "0   1      1       2     9.0    5\n",
       "1   1  98397       2     9.0    5\n",
       "2   2      2       2     3.0    4\n",
       "3   2   9740       2     3.0    4\n",
       "4   3      3       2     1.0    3"
      ]
     },
     "execution_count": 14,
     "metadata": {},
     "output_type": "execute_result"
    }
   ],
   "source": [
    "demograpgics.head()"
   ]
  },
  {
   "cell_type": "code",
   "execution_count": 15,
   "metadata": {},
   "outputs": [
    {
     "data": {
      "text/html": [
       "<div>\n",
       "<style scoped>\n",
       "    .dataframe tbody tr th:only-of-type {\n",
       "        vertical-align: middle;\n",
       "    }\n",
       "\n",
       "    .dataframe tbody tr th {\n",
       "        vertical-align: top;\n",
       "    }\n",
       "\n",
       "    .dataframe thead th {\n",
       "        text-align: right;\n",
       "    }\n",
       "</style>\n",
       "<table border=\"1\" class=\"dataframe\">\n",
       "  <thead>\n",
       "    <tr style=\"text-align: right;\">\n",
       "      <th></th>\n",
       "      <th>cc_no</th>\n",
       "      <th>pos_dt</th>\n",
       "      <th>cc_txn_amt</th>\n",
       "    </tr>\n",
       "  </thead>\n",
       "  <tbody>\n",
       "    <tr>\n",
       "      <th>30680</th>\n",
       "      <td>2</td>\n",
       "      <td>2018-03-10</td>\n",
       "      <td>800</td>\n",
       "    </tr>\n",
       "    <tr>\n",
       "      <th>30684</th>\n",
       "      <td>2</td>\n",
       "      <td>2018-03-12</td>\n",
       "      <td>3800</td>\n",
       "    </tr>\n",
       "    <tr>\n",
       "      <th>30685</th>\n",
       "      <td>2</td>\n",
       "      <td>2018-04-27</td>\n",
       "      <td>14700</td>\n",
       "    </tr>\n",
       "    <tr>\n",
       "      <th>30687</th>\n",
       "      <td>2</td>\n",
       "      <td>2018-04-29</td>\n",
       "      <td>4000</td>\n",
       "    </tr>\n",
       "    <tr>\n",
       "      <th>30682</th>\n",
       "      <td>2</td>\n",
       "      <td>2018-05-07</td>\n",
       "      <td>800</td>\n",
       "    </tr>\n",
       "    <tr>\n",
       "      <th>30681</th>\n",
       "      <td>2</td>\n",
       "      <td>2018-05-14</td>\n",
       "      <td>800</td>\n",
       "    </tr>\n",
       "    <tr>\n",
       "      <th>30686</th>\n",
       "      <td>2</td>\n",
       "      <td>2018-06-04</td>\n",
       "      <td>1000</td>\n",
       "    </tr>\n",
       "    <tr>\n",
       "      <th>30683</th>\n",
       "      <td>2</td>\n",
       "      <td>2018-06-11</td>\n",
       "      <td>1000</td>\n",
       "    </tr>\n",
       "    <tr>\n",
       "      <th>947320</th>\n",
       "      <td>4</td>\n",
       "      <td>2018-05-11</td>\n",
       "      <td>20000</td>\n",
       "    </tr>\n",
       "    <tr>\n",
       "      <th>947338</th>\n",
       "      <td>4</td>\n",
       "      <td>2018-05-11</td>\n",
       "      <td>30000</td>\n",
       "    </tr>\n",
       "    <tr>\n",
       "      <th>947318</th>\n",
       "      <td>4</td>\n",
       "      <td>2018-05-17</td>\n",
       "      <td>30000</td>\n",
       "    </tr>\n",
       "    <tr>\n",
       "      <th>947323</th>\n",
       "      <td>4</td>\n",
       "      <td>2018-05-17</td>\n",
       "      <td>20000</td>\n",
       "    </tr>\n",
       "    <tr>\n",
       "      <th>947321</th>\n",
       "      <td>4</td>\n",
       "      <td>2018-05-19</td>\n",
       "      <td>30000</td>\n",
       "    </tr>\n",
       "    <tr>\n",
       "      <th>947331</th>\n",
       "      <td>4</td>\n",
       "      <td>2018-05-19</td>\n",
       "      <td>20000</td>\n",
       "    </tr>\n",
       "    <tr>\n",
       "      <th>947334</th>\n",
       "      <td>4</td>\n",
       "      <td>2018-05-23</td>\n",
       "      <td>20000</td>\n",
       "    </tr>\n",
       "    <tr>\n",
       "      <th>947336</th>\n",
       "      <td>4</td>\n",
       "      <td>2018-05-23</td>\n",
       "      <td>30000</td>\n",
       "    </tr>\n",
       "    <tr>\n",
       "      <th>947335</th>\n",
       "      <td>4</td>\n",
       "      <td>2018-05-26</td>\n",
       "      <td>30000</td>\n",
       "    </tr>\n",
       "    <tr>\n",
       "      <th>947337</th>\n",
       "      <td>4</td>\n",
       "      <td>2018-05-26</td>\n",
       "      <td>20000</td>\n",
       "    </tr>\n",
       "    <tr>\n",
       "      <th>947319</th>\n",
       "      <td>4</td>\n",
       "      <td>2018-05-27</td>\n",
       "      <td>20000</td>\n",
       "    </tr>\n",
       "    <tr>\n",
       "      <th>947327</th>\n",
       "      <td>4</td>\n",
       "      <td>2018-05-27</td>\n",
       "      <td>30000</td>\n",
       "    </tr>\n",
       "  </tbody>\n",
       "</table>\n",
       "</div>"
      ],
      "text/plain": [
       "        cc_no      pos_dt  cc_txn_amt\n",
       "30680       2  2018-03-10         800\n",
       "30684       2  2018-03-12        3800\n",
       "30685       2  2018-04-27       14700\n",
       "30687       2  2018-04-29        4000\n",
       "30682       2  2018-05-07         800\n",
       "30681       2  2018-05-14         800\n",
       "30686       2  2018-06-04        1000\n",
       "30683       2  2018-06-11        1000\n",
       "947320      4  2018-05-11       20000\n",
       "947338      4  2018-05-11       30000\n",
       "947318      4  2018-05-17       30000\n",
       "947323      4  2018-05-17       20000\n",
       "947321      4  2018-05-19       30000\n",
       "947331      4  2018-05-19       20000\n",
       "947334      4  2018-05-23       20000\n",
       "947336      4  2018-05-23       30000\n",
       "947335      4  2018-05-26       30000\n",
       "947337      4  2018-05-26       20000\n",
       "947319      4  2018-05-27       20000\n",
       "947327      4  2018-05-27       30000"
      ]
     },
     "execution_count": 15,
     "metadata": {},
     "output_type": "execute_result"
    }
   ],
   "source": [
    "cc.head(20)"
   ]
  },
  {
   "cell_type": "code",
   "execution_count": 16,
   "metadata": {},
   "outputs": [
    {
     "data": {
      "text/html": [
       "<div>\n",
       "<style scoped>\n",
       "    .dataframe tbody tr th:only-of-type {\n",
       "        vertical-align: middle;\n",
       "    }\n",
       "\n",
       "    .dataframe tbody tr th {\n",
       "        vertical-align: top;\n",
       "    }\n",
       "\n",
       "    .dataframe thead th {\n",
       "        text-align: right;\n",
       "    }\n",
       "</style>\n",
       "<table border=\"1\" class=\"dataframe\">\n",
       "  <thead>\n",
       "    <tr style=\"text-align: right;\">\n",
       "      <th></th>\n",
       "      <th>id</th>\n",
       "      <th>sunday</th>\n",
       "      <th>kp_txn_count</th>\n",
       "      <th>kp_txn_amt</th>\n",
       "    </tr>\n",
       "  </thead>\n",
       "  <tbody>\n",
       "    <tr>\n",
       "      <th>822506</th>\n",
       "      <td>1</td>\n",
       "      <td>2018-06-03</td>\n",
       "      <td>1</td>\n",
       "      <td>1500</td>\n",
       "    </tr>\n",
       "    <tr>\n",
       "      <th>822505</th>\n",
       "      <td>1</td>\n",
       "      <td>2018-06-17</td>\n",
       "      <td>1</td>\n",
       "      <td>2000</td>\n",
       "    </tr>\n",
       "    <tr>\n",
       "      <th>100625</th>\n",
       "      <td>2</td>\n",
       "      <td>2018-01-07</td>\n",
       "      <td>2</td>\n",
       "      <td>600</td>\n",
       "    </tr>\n",
       "    <tr>\n",
       "      <th>100629</th>\n",
       "      <td>2</td>\n",
       "      <td>2018-01-14</td>\n",
       "      <td>3</td>\n",
       "      <td>3200</td>\n",
       "    </tr>\n",
       "    <tr>\n",
       "      <th>100641</th>\n",
       "      <td>2</td>\n",
       "      <td>2018-01-21</td>\n",
       "      <td>2</td>\n",
       "      <td>600</td>\n",
       "    </tr>\n",
       "    <tr>\n",
       "      <th>100644</th>\n",
       "      <td>2</td>\n",
       "      <td>2018-01-28</td>\n",
       "      <td>6</td>\n",
       "      <td>3000</td>\n",
       "    </tr>\n",
       "    <tr>\n",
       "      <th>100643</th>\n",
       "      <td>2</td>\n",
       "      <td>2018-02-04</td>\n",
       "      <td>4</td>\n",
       "      <td>13700</td>\n",
       "    </tr>\n",
       "    <tr>\n",
       "      <th>100627</th>\n",
       "      <td>2</td>\n",
       "      <td>2018-02-11</td>\n",
       "      <td>5</td>\n",
       "      <td>3500</td>\n",
       "    </tr>\n",
       "    <tr>\n",
       "      <th>100631</th>\n",
       "      <td>2</td>\n",
       "      <td>2018-02-18</td>\n",
       "      <td>5</td>\n",
       "      <td>2100</td>\n",
       "    </tr>\n",
       "    <tr>\n",
       "      <th>100633</th>\n",
       "      <td>2</td>\n",
       "      <td>2018-02-25</td>\n",
       "      <td>1</td>\n",
       "      <td>300</td>\n",
       "    </tr>\n",
       "    <tr>\n",
       "      <th>100623</th>\n",
       "      <td>2</td>\n",
       "      <td>2018-03-04</td>\n",
       "      <td>10</td>\n",
       "      <td>19500</td>\n",
       "    </tr>\n",
       "    <tr>\n",
       "      <th>100637</th>\n",
       "      <td>2</td>\n",
       "      <td>2018-03-11</td>\n",
       "      <td>1</td>\n",
       "      <td>3300</td>\n",
       "    </tr>\n",
       "    <tr>\n",
       "      <th>100642</th>\n",
       "      <td>2</td>\n",
       "      <td>2018-03-18</td>\n",
       "      <td>2</td>\n",
       "      <td>600</td>\n",
       "    </tr>\n",
       "    <tr>\n",
       "      <th>100640</th>\n",
       "      <td>2</td>\n",
       "      <td>2018-03-25</td>\n",
       "      <td>1</td>\n",
       "      <td>100</td>\n",
       "    </tr>\n",
       "    <tr>\n",
       "      <th>100639</th>\n",
       "      <td>2</td>\n",
       "      <td>2018-04-01</td>\n",
       "      <td>9</td>\n",
       "      <td>24200</td>\n",
       "    </tr>\n",
       "    <tr>\n",
       "      <th>100622</th>\n",
       "      <td>2</td>\n",
       "      <td>2018-04-08</td>\n",
       "      <td>3</td>\n",
       "      <td>4600</td>\n",
       "    </tr>\n",
       "    <tr>\n",
       "      <th>100632</th>\n",
       "      <td>2</td>\n",
       "      <td>2018-04-15</td>\n",
       "      <td>2</td>\n",
       "      <td>3500</td>\n",
       "    </tr>\n",
       "    <tr>\n",
       "      <th>100635</th>\n",
       "      <td>2</td>\n",
       "      <td>2018-04-22</td>\n",
       "      <td>4</td>\n",
       "      <td>4200</td>\n",
       "    </tr>\n",
       "    <tr>\n",
       "      <th>100626</th>\n",
       "      <td>2</td>\n",
       "      <td>2018-04-29</td>\n",
       "      <td>9</td>\n",
       "      <td>26900</td>\n",
       "    </tr>\n",
       "    <tr>\n",
       "      <th>100638</th>\n",
       "      <td>2</td>\n",
       "      <td>2018-05-06</td>\n",
       "      <td>8</td>\n",
       "      <td>20600</td>\n",
       "    </tr>\n",
       "  </tbody>\n",
       "</table>\n",
       "</div>"
      ],
      "text/plain": [
       "        id      sunday  kp_txn_count  kp_txn_amt\n",
       "822506   1  2018-06-03             1        1500\n",
       "822505   1  2018-06-17             1        2000\n",
       "100625   2  2018-01-07             2         600\n",
       "100629   2  2018-01-14             3        3200\n",
       "100641   2  2018-01-21             2         600\n",
       "100644   2  2018-01-28             6        3000\n",
       "100643   2  2018-02-04             4       13700\n",
       "100627   2  2018-02-11             5        3500\n",
       "100631   2  2018-02-18             5        2100\n",
       "100633   2  2018-02-25             1         300\n",
       "100623   2  2018-03-04            10       19500\n",
       "100637   2  2018-03-11             1        3300\n",
       "100642   2  2018-03-18             2         600\n",
       "100640   2  2018-03-25             1         100\n",
       "100639   2  2018-04-01             9       24200\n",
       "100622   2  2018-04-08             3        4600\n",
       "100632   2  2018-04-15             2        3500\n",
       "100635   2  2018-04-22             4        4200\n",
       "100626   2  2018-04-29             9       26900\n",
       "100638   2  2018-05-06             8       20600"
      ]
     },
     "execution_count": 16,
     "metadata": {},
     "output_type": "execute_result"
    }
   ],
   "source": [
    "kplus.head(20)"
   ]
  },
  {
   "cell_type": "code",
   "execution_count": 17,
   "metadata": {},
   "outputs": [
    {
     "data": {
      "text/html": [
       "<div>\n",
       "<style scoped>\n",
       "    .dataframe tbody tr th:only-of-type {\n",
       "        vertical-align: middle;\n",
       "    }\n",
       "\n",
       "    .dataframe tbody tr th {\n",
       "        vertical-align: top;\n",
       "    }\n",
       "\n",
       "    .dataframe thead th {\n",
       "        text-align: right;\n",
       "    }\n",
       "</style>\n",
       "<table border=\"1\" class=\"dataframe\">\n",
       "  <thead>\n",
       "    <tr style=\"text-align: right;\">\n",
       "      <th></th>\n",
       "      <th>id</th>\n",
       "      <th>income</th>\n",
       "    </tr>\n",
       "  </thead>\n",
       "  <tbody>\n",
       "    <tr>\n",
       "      <th>0</th>\n",
       "      <td>1</td>\n",
       "      <td>20000</td>\n",
       "    </tr>\n",
       "    <tr>\n",
       "      <th>1</th>\n",
       "      <td>2</td>\n",
       "      <td>106000</td>\n",
       "    </tr>\n",
       "    <tr>\n",
       "      <th>2</th>\n",
       "      <td>3</td>\n",
       "      <td>29000</td>\n",
       "    </tr>\n",
       "    <tr>\n",
       "      <th>3</th>\n",
       "      <td>4</td>\n",
       "      <td>61000</td>\n",
       "    </tr>\n",
       "    <tr>\n",
       "      <th>4</th>\n",
       "      <td>5</td>\n",
       "      <td>18000</td>\n",
       "    </tr>\n",
       "  </tbody>\n",
       "</table>\n",
       "</div>"
      ],
      "text/plain": [
       "   id  income\n",
       "0   1   20000\n",
       "1   2  106000\n",
       "2   3   29000\n",
       "3   4   61000\n",
       "4   5   18000"
      ]
     },
     "execution_count": 17,
     "metadata": {},
     "output_type": "execute_result"
    }
   ],
   "source": [
    "train_set.head()"
   ]
  },
  {
   "cell_type": "code",
   "execution_count": 18,
   "metadata": {},
   "outputs": [
    {
     "data": {
      "text/html": [
       "<div>\n",
       "<style scoped>\n",
       "    .dataframe tbody tr th:only-of-type {\n",
       "        vertical-align: middle;\n",
       "    }\n",
       "\n",
       "    .dataframe tbody tr th {\n",
       "        vertical-align: top;\n",
       "    }\n",
       "\n",
       "    .dataframe thead th {\n",
       "        text-align: right;\n",
       "    }\n",
       "</style>\n",
       "<table border=\"1\" class=\"dataframe\">\n",
       "  <thead>\n",
       "    <tr style=\"text-align: right;\">\n",
       "      <th></th>\n",
       "      <th>id</th>\n",
       "    </tr>\n",
       "  </thead>\n",
       "  <tbody>\n",
       "    <tr>\n",
       "      <th>0</th>\n",
       "      <td>50001</td>\n",
       "    </tr>\n",
       "    <tr>\n",
       "      <th>1</th>\n",
       "      <td>50002</td>\n",
       "    </tr>\n",
       "    <tr>\n",
       "      <th>2</th>\n",
       "      <td>50003</td>\n",
       "    </tr>\n",
       "    <tr>\n",
       "      <th>3</th>\n",
       "      <td>50004</td>\n",
       "    </tr>\n",
       "    <tr>\n",
       "      <th>4</th>\n",
       "      <td>50005</td>\n",
       "    </tr>\n",
       "  </tbody>\n",
       "</table>\n",
       "</div>"
      ],
      "text/plain": [
       "      id\n",
       "0  50001\n",
       "1  50002\n",
       "2  50003\n",
       "3  50004\n",
       "4  50005"
      ]
     },
     "execution_count": 18,
     "metadata": {},
     "output_type": "execute_result"
    }
   ],
   "source": [
    "test_set.head()"
   ]
  },
  {
   "cell_type": "code",
   "execution_count": 19,
   "metadata": {},
   "outputs": [
    {
     "data": {
      "text/html": [
       "<div>\n",
       "<style scoped>\n",
       "    .dataframe tbody tr th:only-of-type {\n",
       "        vertical-align: middle;\n",
       "    }\n",
       "\n",
       "    .dataframe tbody tr th {\n",
       "        vertical-align: top;\n",
       "    }\n",
       "\n",
       "    .dataframe thead th {\n",
       "        text-align: right;\n",
       "    }\n",
       "</style>\n",
       "<table border=\"1\" class=\"dataframe\">\n",
       "  <thead>\n",
       "    <tr style=\"text-align: right;\">\n",
       "      <th></th>\n",
       "      <th>cc_no</th>\n",
       "      <th>pos_dt</th>\n",
       "      <th>cc_txn_amt</th>\n",
       "      <th>id</th>\n",
       "    </tr>\n",
       "  </thead>\n",
       "  <tbody>\n",
       "    <tr>\n",
       "      <th>0</th>\n",
       "      <td>2</td>\n",
       "      <td>2018-03-10</td>\n",
       "      <td>800</td>\n",
       "      <td>2</td>\n",
       "    </tr>\n",
       "    <tr>\n",
       "      <th>1</th>\n",
       "      <td>2</td>\n",
       "      <td>2018-03-12</td>\n",
       "      <td>3800</td>\n",
       "      <td>2</td>\n",
       "    </tr>\n",
       "    <tr>\n",
       "      <th>2</th>\n",
       "      <td>2</td>\n",
       "      <td>2018-04-27</td>\n",
       "      <td>14700</td>\n",
       "      <td>2</td>\n",
       "    </tr>\n",
       "    <tr>\n",
       "      <th>3</th>\n",
       "      <td>2</td>\n",
       "      <td>2018-04-29</td>\n",
       "      <td>4000</td>\n",
       "      <td>2</td>\n",
       "    </tr>\n",
       "    <tr>\n",
       "      <th>4</th>\n",
       "      <td>2</td>\n",
       "      <td>2018-05-07</td>\n",
       "      <td>800</td>\n",
       "      <td>2</td>\n",
       "    </tr>\n",
       "  </tbody>\n",
       "</table>\n",
       "</div>"
      ],
      "text/plain": [
       "   cc_no      pos_dt  cc_txn_amt  id\n",
       "0      2  2018-03-10         800   2\n",
       "1      2  2018-03-12        3800   2\n",
       "2      2  2018-04-27       14700   2\n",
       "3      2  2018-04-29        4000   2\n",
       "4      2  2018-05-07         800   2"
      ]
     },
     "execution_count": 19,
     "metadata": {},
     "output_type": "execute_result"
    }
   ],
   "source": [
    "cc_with_id = pd.merge(cc, demograpgics[['id', 'cc_no']], on='cc_no')\n",
    "cc_with_id.head()"
   ]
  },
  {
   "cell_type": "code",
   "execution_count": 20,
   "metadata": {},
   "outputs": [
    {
     "data": {
      "text/plain": [
       "count    51467.000000\n",
       "mean        19.412692\n",
       "std         26.209876\n",
       "min          1.000000\n",
       "25%          4.000000\n",
       "50%         10.000000\n",
       "75%         25.000000\n",
       "max        754.000000\n",
       "Name: cc_txn_amt, dtype: float64"
      ]
     },
     "execution_count": 20,
     "metadata": {},
     "output_type": "execute_result"
    }
   ],
   "source": [
    "cc_with_id.groupby(['id'])['cc_txn_amt'].count().describe()"
   ]
  },
  {
   "cell_type": "code",
   "execution_count": 21,
   "metadata": {},
   "outputs": [
    {
     "name": "stdout",
     "output_type": "stream",
     "text": [
      "        id  income\n",
      "6075  6076   40000\n"
     ]
    },
    {
     "data": {
      "text/plain": [
       "<matplotlib.axes._subplots.AxesSubplot at 0x111ad2190>"
      ]
     },
     "execution_count": 21,
     "metadata": {},
     "output_type": "execute_result"
    },
    {
     "data": {
      "image/png": "[encoded data removed]",
      "text/plain": [
       "<Figure size 1728x576 with 1 Axes>"
      ]
     },
     "metadata": {
      "needs_background": "light"
     },
     "output_type": "display_data"
    }
   ],
   "source": [
    "person = train_set.sample(1)\n",
    "print(person)\n",
    "cc_with_id[cc_with_id['id'] == person['id'].values[0]].groupby('pos_dt')['cc_txn_amt'].sum().plot(figsize=(24,8))"
   ]
  },
  {
   "cell_type": "code",
   "execution_count": 22,
   "metadata": {},
   "outputs": [],
   "source": [
    "n_transaction_threshold = 8\n",
    "train_kplus = kplus[kplus['id'] <= 50000]\n",
    "grouped = train_kplus.groupby('id')\n",
    "trainable_ids = grouped.size().keys()[grouped.size() >= n_transaction_threshold]\n",
    "train_kplus = train_kplus[train_kplus['id'].isin(trainable_ids)]"
   ]
  },
  {
   "cell_type": "code",
   "execution_count": 23,
   "metadata": {
    "scrolled": true
   },
   "outputs": [
    {
     "data": {
      "text/html": [
       "<div>\n",
       "<style scoped>\n",
       "    .dataframe tbody tr th:only-of-type {\n",
       "        vertical-align: middle;\n",
       "    }\n",
       "\n",
       "    .dataframe tbody tr th {\n",
       "        vertical-align: top;\n",
       "    }\n",
       "\n",
       "    .dataframe thead th {\n",
       "        text-align: right;\n",
       "    }\n",
       "</style>\n",
       "<table border=\"1\" class=\"dataframe\">\n",
       "  <thead>\n",
       "    <tr style=\"text-align: right;\">\n",
       "      <th></th>\n",
       "      <th>id</th>\n",
       "      <th>sunday</th>\n",
       "      <th>kp_txn_count</th>\n",
       "      <th>kp_txn_amt</th>\n",
       "    </tr>\n",
       "  </thead>\n",
       "  <tbody>\n",
       "    <tr>\n",
       "      <th>100625</th>\n",
       "      <td>2</td>\n",
       "      <td>2018-01-07</td>\n",
       "      <td>2</td>\n",
       "      <td>600</td>\n",
       "    </tr>\n",
       "    <tr>\n",
       "      <th>100629</th>\n",
       "      <td>2</td>\n",
       "      <td>2018-01-14</td>\n",
       "      <td>3</td>\n",
       "      <td>3200</td>\n",
       "    </tr>\n",
       "    <tr>\n",
       "      <th>100641</th>\n",
       "      <td>2</td>\n",
       "      <td>2018-01-21</td>\n",
       "      <td>2</td>\n",
       "      <td>600</td>\n",
       "    </tr>\n",
       "    <tr>\n",
       "      <th>100644</th>\n",
       "      <td>2</td>\n",
       "      <td>2018-01-28</td>\n",
       "      <td>6</td>\n",
       "      <td>3000</td>\n",
       "    </tr>\n",
       "    <tr>\n",
       "      <th>100643</th>\n",
       "      <td>2</td>\n",
       "      <td>2018-02-04</td>\n",
       "      <td>4</td>\n",
       "      <td>13700</td>\n",
       "    </tr>\n",
       "  </tbody>\n",
       "</table>\n",
       "</div>"
      ],
      "text/plain": [
       "        id      sunday  kp_txn_count  kp_txn_amt\n",
       "100625   2  2018-01-07             2         600\n",
       "100629   2  2018-01-14             3        3200\n",
       "100641   2  2018-01-21             2         600\n",
       "100644   2  2018-01-28             6        3000\n",
       "100643   2  2018-02-04             4       13700"
      ]
     },
     "execution_count": 23,
     "metadata": {},
     "output_type": "execute_result"
    }
   ],
   "source": [
    "train_kplus.head()"
   ]
  },
  {
   "cell_type": "code",
   "execution_count": 24,
   "metadata": {},
   "outputs": [],
   "source": [
    "from sklearn.preprocessing import StandardScaler\n",
    "from sklearn.decomposition import PCA"
   ]
  },
  {
   "cell_type": "code",
   "execution_count": 25,
   "metadata": {},
   "outputs": [
    {
     "name": "stderr",
     "output_type": "stream",
     "text": [
      "/usr/local/lib/python3.7/site-packages/ipykernel_launcher.py:2: SettingWithCopyWarning: \n",
      "A value is trying to be set on a copy of a slice from a DataFrame.\n",
      "Try using .loc[row_indexer,col_indexer] = value instead\n",
      "\n",
      "See the caveats in the documentation: http://pandas.pydata.org/pandas-docs/stable/indexing.html#indexing-view-versus-copy\n",
      "  \n",
      "/usr/local/lib/python3.7/site-packages/pandas/core/indexing.py:543: SettingWithCopyWarning: \n",
      "A value is trying to be set on a copy of a slice from a DataFrame.\n",
      "Try using .loc[row_indexer,col_indexer] = value instead\n",
      "\n",
      "See the caveats in the documentation: http://pandas.pydata.org/pandas-docs/stable/indexing.html#indexing-view-versus-copy\n",
      "  self.obj[item] = s\n"
     ]
    }
   ],
   "source": [
    "standardizer = StandardScaler()\n",
    "train_kplus[['kp_txn_count', 'kp_txn_amt']] = standardizer.fit_transform(train_kplus[['kp_txn_count', 'kp_txn_amt']])"
   ]
  },
  {
   "cell_type": "code",
   "execution_count": 26,
   "metadata": {},
   "outputs": [
    {
     "name": "stderr",
     "output_type": "stream",
     "text": [
      "/usr/local/lib/python3.7/site-packages/ipykernel_launcher.py:2: SettingWithCopyWarning: \n",
      "A value is trying to be set on a copy of a slice from a DataFrame.\n",
      "Try using .loc[row_indexer,col_indexer] = value instead\n",
      "\n",
      "See the caveats in the documentation: http://pandas.pydata.org/pandas-docs/stable/indexing.html#indexing-view-versus-copy\n",
      "  \n"
     ]
    }
   ],
   "source": [
    "pca = PCA(n_components=1)\n",
    "train_kplus['count_amt_pca'] = pca.fit_transform(train_kplus[['kp_txn_count', 'kp_txn_amt']])"
   ]
  },
  {
   "cell_type": "code",
   "execution_count": 27,
   "metadata": {},
   "outputs": [
    {
     "data": {
      "text/html": [
       "<div>\n",
       "<style scoped>\n",
       "    .dataframe tbody tr th:only-of-type {\n",
       "        vertical-align: middle;\n",
       "    }\n",
       "\n",
       "    .dataframe tbody tr th {\n",
       "        vertical-align: top;\n",
       "    }\n",
       "\n",
       "    .dataframe thead th {\n",
       "        text-align: right;\n",
       "    }\n",
       "</style>\n",
       "<table border=\"1\" class=\"dataframe\">\n",
       "  <thead>\n",
       "    <tr style=\"text-align: right;\">\n",
       "      <th></th>\n",
       "      <th>id</th>\n",
       "      <th>sunday</th>\n",
       "      <th>kp_txn_count</th>\n",
       "      <th>kp_txn_amt</th>\n",
       "      <th>count_amt_pca</th>\n",
       "    </tr>\n",
       "  </thead>\n",
       "  <tbody>\n",
       "    <tr>\n",
       "      <th>100625</th>\n",
       "      <td>2</td>\n",
       "      <td>2018-01-07</td>\n",
       "      <td>-0.407708</td>\n",
       "      <td>-0.212274</td>\n",
       "      <td>-0.438394</td>\n",
       "    </tr>\n",
       "    <tr>\n",
       "      <th>100629</th>\n",
       "      <td>2</td>\n",
       "      <td>2018-01-14</td>\n",
       "      <td>-0.241733</td>\n",
       "      <td>-0.193170</td>\n",
       "      <td>-0.307523</td>\n",
       "    </tr>\n",
       "    <tr>\n",
       "      <th>100641</th>\n",
       "      <td>2</td>\n",
       "      <td>2018-01-21</td>\n",
       "      <td>-0.407708</td>\n",
       "      <td>-0.212274</td>\n",
       "      <td>-0.438394</td>\n",
       "    </tr>\n",
       "    <tr>\n",
       "      <th>100644</th>\n",
       "      <td>2</td>\n",
       "      <td>2018-01-28</td>\n",
       "      <td>0.256193</td>\n",
       "      <td>-0.194640</td>\n",
       "      <td>0.043525</td>\n",
       "    </tr>\n",
       "    <tr>\n",
       "      <th>100643</th>\n",
       "      <td>2</td>\n",
       "      <td>2018-02-04</td>\n",
       "      <td>-0.075757</td>\n",
       "      <td>-0.116020</td>\n",
       "      <td>-0.135607</td>\n",
       "    </tr>\n",
       "  </tbody>\n",
       "</table>\n",
       "</div>"
      ],
      "text/plain": [
       "        id      sunday  kp_txn_count  kp_txn_amt  count_amt_pca\n",
       "100625   2  2018-01-07     -0.407708   -0.212274      -0.438394\n",
       "100629   2  2018-01-14     -0.241733   -0.193170      -0.307523\n",
       "100641   2  2018-01-21     -0.407708   -0.212274      -0.438394\n",
       "100644   2  2018-01-28      0.256193   -0.194640       0.043525\n",
       "100643   2  2018-02-04     -0.075757   -0.116020      -0.135607"
      ]
     },
     "execution_count": 27,
     "metadata": {},
     "output_type": "execute_result"
    }
   ],
   "source": [
    "train_kplus.head()"
   ]
  },
  {
   "cell_type": "code",
   "execution_count": 54,
   "metadata": {},
   "outputs": [],
   "source": [
    "id_grouped = train_kplus.groupby('id')\n",
    "accept_ids = pd.Series(list(id_grouped.groups.keys()))\n",
    "xs = id_grouped.apply(lambda row: row['kp_txn_amt'].to_numpy()).to_numpy()\n",
    "\n",
    "ys = train_set[train_set['id'].isin(accept_ids)]['income'].to_numpy()\n",
    "income_mean = train_set['income'].mean()\n",
    "income_std = train_set['income'].std()\n",
    "ys = (ys - income_mean) / income_std\n",
    "# ys = StandardScaler().fit_transform(np.expand_dims(ys, axis=0))"
   ]
  },
  {
   "cell_type": "code",
   "execution_count": 57,
   "metadata": {},
   "outputs": [
    {
     "data": {
      "text/plain": [
       "array([-0.21227422, -0.19317025, -0.21227422, -0.19463978, -0.11601958,\n",
       "       -0.19096594, -0.2012527 , -0.21447853, -0.07340302, -0.19243548,\n",
       "       -0.21227422, -0.21594806, -0.03886891, -0.18288349, -0.19096594,\n",
       "       -0.18582256, -0.01903017, -0.06532057, -0.20566131, -0.20860038,\n",
       "       -0.20419177, -0.01315202, -0.20492654, -0.20492654,  0.07942878])"
      ]
     },
     "execution_count": 57,
     "metadata": {},
     "output_type": "execute_result"
    }
   ],
   "source": [
    "xs[0]"
   ]
  },
  {
   "cell_type": "code",
   "execution_count": 31,
   "metadata": {},
   "outputs": [
    {
     "data": {
      "text/plain": [
       "array([ 1.09051812, -0.35601812,  0.2451398 , ..., -0.20572864,\n",
       "       -0.54387997, -0.65659708])"
      ]
     },
     "execution_count": 31,
     "metadata": {},
     "output_type": "execute_result"
    }
   ],
   "source": [
    "ys"
   ]
  },
  {
   "cell_type": "code",
   "execution_count": 47,
   "metadata": {},
   "outputs": [
    {
     "name": "stderr",
     "output_type": "stream",
     "text": [
      "\n",
      "\n",
      "\n",
      "loss:0.242 | acc:0.0 :  19%|█▉        | 6543/34657 [02:37<11:17, 41.47it/s]\u001b[A\u001b[A\u001b[A"
     ]
    }
   ],
   "source": [
    "from keras.models import Sequential\n",
    "from keras.layers import LSTM, Dense, Input\n",
    "from keras.optimizers import Adam\n",
    "from tqdm import tqdm, trange, tnrange"
   ]
  },
  {
   "cell_type": "code",
   "execution_count": 58,
   "metadata": {},
   "outputs": [],
   "source": [
    "model = Sequential()\n",
    "model.add(LSTM(128, return_sequences=True, input_shape=(None,1)))\n",
    "model.add(LSTM(128, ))\n",
    "model.add(Dense(128, activation='linear'))\n",
    "model.add(Dense(1, activation='linear'))"
   ]
  },
  {
   "cell_type": "code",
   "execution_count": 59,
   "metadata": {},
   "outputs": [],
   "source": [
    "opt = Adam()"
   ]
  },
  {
   "cell_type": "code",
   "execution_count": 60,
   "metadata": {},
   "outputs": [
    {
     "name": "stdout",
     "output_type": "stream",
     "text": [
      "_________________________________________________________________\n",
      "Layer (type)                 Output Shape              Param #   \n",
      "=================================================================\n",
      "lstm_4 (LSTM)                (None, None, 128)         66560     \n",
      "_________________________________________________________________\n",
      "lstm_5 (LSTM)                (None, 128)               131584    \n",
      "_________________________________________________________________\n",
      "dense_4 (Dense)              (None, 128)               16512     \n",
      "_________________________________________________________________\n",
      "dense_5 (Dense)              (None, 1)                 129       \n",
      "=================================================================\n",
      "Total params: 214,785\n",
      "Trainable params: 214,785\n",
      "Non-trainable params: 0\n",
      "_________________________________________________________________\n"
     ]
    }
   ],
   "source": [
    "model.compile(loss='mse', optimizer=opt, metrics=['acc'] )\n",
    "model.summary()"
   ]
  },
  {
   "cell_type": "code",
   "execution_count": null,
   "metadata": {},
   "outputs": [],
   "source": [
    "\n"
   ]
  },
  {
   "cell_type": "code",
   "execution_count": null,
   "metadata": {
    "scrolled": true
   },
   "outputs": [
    {
     "data": {
      "application/vnd.jupyter.widget-view+json": {
       "model_id": "9b30bd34fb4043af9e3df86030e8e651",
       "version_major": 2,
       "version_minor": 0
      },
      "text/plain": [
       "HBox(children=(IntProgress(value=0, max=34657), HTML(value='')))"
      ]
     },
     "metadata": {},
     "output_type": "display_data"
    },
    {
     "name": "stderr",
     "output_type": "stream",
     "text": [
      "/usr/local/lib/python3.7/site-packages/ipykernel_launcher.py:5: DeprecationWarning: Both axis > a.ndim and axis < -a.ndim - 1 are deprecated and will raise an AxisError in the future.\n",
      "  \"\"\"\n"
     ]
    }
   ],
   "source": [
    "metrics = []\n",
    "pbar = tnrange(len(xs))\n",
    "for i in pbar:\n",
    "    x, y = xs[i], ys[i]\n",
    "    x = np.expand_dims(x, axis=2)\n",
    "    x = np.expand_dims(x, axis=0)\n",
    "    y = np.expand_dims(y, axis=0)\n",
    "    metric = model.train_on_batch(x, y)\n",
    "    loss, acc = metric\n",
    "    metrics.append(metric)\n",
    "    if i % (len(xs) // 1000) == 0:\n",
    "        pbar.set_postfix_str(f'acc:{str(acc)[:5]} | loss:{str(loss)} |  ')\n",
    "metrics = np.array(metrics)\n"
   ]
  },
  {
   "cell_type": "code",
   "execution_count": 62,
   "metadata": {},
   "outputs": [
    {
     "data": {
      "text/plain": [
       "array([0.8258442, 0.       ], dtype=float32)"
      ]
     },
     "execution_count": 62,
     "metadata": {},
     "output_type": "execute_result"
    }
   ],
   "source": [
    "metrics.mean(axis=0)"
   ]
  },
  {
   "cell_type": "code",
   "execution_count": null,
   "metadata": {},
   "outputs": [],
   "source": []
  }
 ],
 "metadata": {
  "kernelspec": {
   "display_name": "Python 3",
   "language": "python",
   "name": "python3"
  },
  "language_info": {
   "codemirror_mode": {
    "name": "ipython",
    "version": 3
   },
   "file_extension": ".py",
   "mimetype": "text/x-python",
   "name": "python",
   "nbconvert_exporter": "python",
   "pygments_lexer": "ipython3",
   "version": "3.7.4"
  }
 },
 "nbformat": 4,
 "nbformat_minor": 2
}
